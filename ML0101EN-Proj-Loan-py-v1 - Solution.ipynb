{
 "cells": [
  {
   "cell_type": "markdown",
   "metadata": {
    "button": false,
    "new_sheet": false,
    "run_control": {
     "read_only": false
    }
   },
   "source": [
    "<center>\n",
    "    <img src=\"https://cf-courses-data.s3.us.cloud-object-storage.appdomain.cloud/IBMDeveloperSkillsNetwork-ML0101EN-SkillsNetwork/labs/FinalModule_Coursera/images/IDSNlogo.png\" width=\"300\" alt=\"cognitiveclass.ai logo\"  />\n",
    "</center>\n",
    "\n",
    "<h1 align=\"center\"><font size=\"5\">Classification with Python</font></h1>\n"
   ]
  },
  {
   "cell_type": "markdown",
   "metadata": {
    "button": false,
    "new_sheet": false,
    "run_control": {
     "read_only": false
    }
   },
   "source": [
    "In this notebook we try to practice all the classification algorithms that we learned in this course.\n",
    "\n",
    "We load a dataset using Pandas library, and apply the following algorithms, and find the best one for this specific dataset by accuracy evaluation methods.\n",
    "\n",
    "Lets first load required libraries:\n"
   ]
  },
  {
   "cell_type": "code",
   "execution_count": 1,
   "metadata": {
    "button": false,
    "new_sheet": false,
    "run_control": {
     "read_only": false
    }
   },
   "outputs": [],
   "source": [
    "import itertools\n",
    "import numpy as np\n",
    "import matplotlib.pyplot as plt\n",
    "from matplotlib.ticker import NullFormatter\n",
    "import pandas as pd\n",
    "import numpy as np\n",
    "import matplotlib.ticker as ticker\n",
    "from sklearn import preprocessing\n",
    "from sklearn.model_selection import GridSearchCV\n",
    "from sklearn.model_selection import RandomizedSearchCV\n",
    "%matplotlib inline"
   ]
  },
  {
   "cell_type": "markdown",
   "metadata": {
    "button": false,
    "new_sheet": false,
    "run_control": {
     "read_only": false
    }
   },
   "source": [
    "### About dataset\n"
   ]
  },
  {
   "cell_type": "markdown",
   "metadata": {
    "button": false,
    "new_sheet": false,
    "run_control": {
     "read_only": false
    }
   },
   "source": [
    "This dataset is about past loans. The **Loan_train.csv** data set includes details of 346 customers whose loan are already paid off or defaulted. It includes following fields:\n",
    "\n",
    "| Field          | Description                                                                           |\n",
    "| -------------- | ------------------------------------------------------------------------------------- |\n",
    "| Loan_status    | Whether a loan is paid off on in collection                                           |\n",
    "| Principal      | Basic principal loan amount at the                                                    |\n",
    "| Terms          | Origination terms which can be weekly (7 days), biweekly, and monthly payoff schedule |\n",
    "| Effective_date | When the loan got originated and took effects                                         |\n",
    "| Due_date       | Since it’s one-time payoff schedule, each loan has one single due date                |\n",
    "| Age            | Age of applicant                                                                      |\n",
    "| Education      | Education of applicant                                                                |\n",
    "| Gender         | The gender of applicant                                                               |\n"
   ]
  },
  {
   "cell_type": "markdown",
   "metadata": {
    "button": false,
    "new_sheet": false,
    "run_control": {
     "read_only": false
    }
   },
   "source": [
    "Lets download the dataset\n"
   ]
  },
  {
   "cell_type": "code",
   "execution_count": 2,
   "metadata": {
    "button": false,
    "new_sheet": false,
    "run_control": {
     "read_only": false
    }
   },
   "outputs": [
    {
     "name": "stderr",
     "output_type": "stream",
     "text": [
      "--2021-05-14 14:59:40--  https://cf-courses-data.s3.us.cloud-object-storage.appdomain.cloud/IBMDeveloperSkillsNetwork-ML0101EN-SkillsNetwork/labs/FinalModule_Coursera/data/loan_train.csv\n",
      "Resolving cf-courses-data.s3.us.cloud-object-storage.appdomain.cloud (cf-courses-data.s3.us.cloud-object-storage.appdomain.cloud)... 169.45.118.108\n",
      "Connecting to cf-courses-data.s3.us.cloud-object-storage.appdomain.cloud (cf-courses-data.s3.us.cloud-object-storage.appdomain.cloud)|169.45.118.108|:443... connected.\n",
      "HTTP request sent, awaiting response... 200 OK\n",
      "Length: 23101 (23K) [text/csv]\n",
      "Saving to: 'loan_train.csv'\n",
      "\n",
      "     0K .......... .......... ..                              100% 1.22M=0.02s\n",
      "\n",
      "2021-05-14 14:59:48 (1.22 MB/s) - 'loan_train.csv' saved [23101/23101]\n",
      "\n"
     ]
    }
   ],
   "source": [
    "!wget -O loan_train.csv https://cf-courses-data.s3.us.cloud-object-storage.appdomain.cloud/IBMDeveloperSkillsNetwork-ML0101EN-SkillsNetwork/labs/FinalModule_Coursera/data/loan_train.csv"
   ]
  },
  {
   "cell_type": "markdown",
   "metadata": {
    "button": false,
    "new_sheet": false,
    "run_control": {
     "read_only": false
    }
   },
   "source": [
    "### Load Data From CSV File\n"
   ]
  },
  {
   "cell_type": "code",
   "execution_count": 3,
   "metadata": {
    "button": false,
    "new_sheet": false,
    "run_control": {
     "read_only": false
    }
   },
   "outputs": [
    {
     "data": {
      "text/html": [
       "<div>\n",
       "<style scoped>\n",
       "    .dataframe tbody tr th:only-of-type {\n",
       "        vertical-align: middle;\n",
       "    }\n",
       "\n",
       "    .dataframe tbody tr th {\n",
       "        vertical-align: top;\n",
       "    }\n",
       "\n",
       "    .dataframe thead th {\n",
       "        text-align: right;\n",
       "    }\n",
       "</style>\n",
       "<table border=\"1\" class=\"dataframe\">\n",
       "  <thead>\n",
       "    <tr style=\"text-align: right;\">\n",
       "      <th></th>\n",
       "      <th>Unnamed: 0</th>\n",
       "      <th>Unnamed: 0.1</th>\n",
       "      <th>loan_status</th>\n",
       "      <th>Principal</th>\n",
       "      <th>terms</th>\n",
       "      <th>effective_date</th>\n",
       "      <th>due_date</th>\n",
       "      <th>age</th>\n",
       "      <th>education</th>\n",
       "      <th>Gender</th>\n",
       "    </tr>\n",
       "  </thead>\n",
       "  <tbody>\n",
       "    <tr>\n",
       "      <th>0</th>\n",
       "      <td>0</td>\n",
       "      <td>0</td>\n",
       "      <td>PAIDOFF</td>\n",
       "      <td>1000</td>\n",
       "      <td>30</td>\n",
       "      <td>9/8/2016</td>\n",
       "      <td>10/7/2016</td>\n",
       "      <td>45</td>\n",
       "      <td>High School or Below</td>\n",
       "      <td>male</td>\n",
       "    </tr>\n",
       "    <tr>\n",
       "      <th>1</th>\n",
       "      <td>2</td>\n",
       "      <td>2</td>\n",
       "      <td>PAIDOFF</td>\n",
       "      <td>1000</td>\n",
       "      <td>30</td>\n",
       "      <td>9/8/2016</td>\n",
       "      <td>10/7/2016</td>\n",
       "      <td>33</td>\n",
       "      <td>Bechalor</td>\n",
       "      <td>female</td>\n",
       "    </tr>\n",
       "    <tr>\n",
       "      <th>2</th>\n",
       "      <td>3</td>\n",
       "      <td>3</td>\n",
       "      <td>PAIDOFF</td>\n",
       "      <td>1000</td>\n",
       "      <td>15</td>\n",
       "      <td>9/8/2016</td>\n",
       "      <td>9/22/2016</td>\n",
       "      <td>27</td>\n",
       "      <td>college</td>\n",
       "      <td>male</td>\n",
       "    </tr>\n",
       "    <tr>\n",
       "      <th>3</th>\n",
       "      <td>4</td>\n",
       "      <td>4</td>\n",
       "      <td>PAIDOFF</td>\n",
       "      <td>1000</td>\n",
       "      <td>30</td>\n",
       "      <td>9/9/2016</td>\n",
       "      <td>10/8/2016</td>\n",
       "      <td>28</td>\n",
       "      <td>college</td>\n",
       "      <td>female</td>\n",
       "    </tr>\n",
       "    <tr>\n",
       "      <th>4</th>\n",
       "      <td>6</td>\n",
       "      <td>6</td>\n",
       "      <td>PAIDOFF</td>\n",
       "      <td>1000</td>\n",
       "      <td>30</td>\n",
       "      <td>9/9/2016</td>\n",
       "      <td>10/8/2016</td>\n",
       "      <td>29</td>\n",
       "      <td>college</td>\n",
       "      <td>male</td>\n",
       "    </tr>\n",
       "  </tbody>\n",
       "</table>\n",
       "</div>"
      ],
      "text/plain": [
       "   Unnamed: 0  Unnamed: 0.1 loan_status  Principal  terms effective_date  \\\n",
       "0           0             0     PAIDOFF       1000     30       9/8/2016   \n",
       "1           2             2     PAIDOFF       1000     30       9/8/2016   \n",
       "2           3             3     PAIDOFF       1000     15       9/8/2016   \n",
       "3           4             4     PAIDOFF       1000     30       9/9/2016   \n",
       "4           6             6     PAIDOFF       1000     30       9/9/2016   \n",
       "\n",
       "    due_date  age             education  Gender  \n",
       "0  10/7/2016   45  High School or Below    male  \n",
       "1  10/7/2016   33              Bechalor  female  \n",
       "2  9/22/2016   27               college    male  \n",
       "3  10/8/2016   28               college  female  \n",
       "4  10/8/2016   29               college    male  "
      ]
     },
     "execution_count": 3,
     "metadata": {},
     "output_type": "execute_result"
    }
   ],
   "source": [
    "df = pd.read_csv('loan_train.csv')\n",
    "df.head()"
   ]
  },
  {
   "cell_type": "code",
   "execution_count": 4,
   "metadata": {},
   "outputs": [
    {
     "data": {
      "text/plain": [
       "(346, 10)"
      ]
     },
     "execution_count": 4,
     "metadata": {},
     "output_type": "execute_result"
    }
   ],
   "source": [
    "df.shape"
   ]
  },
  {
   "cell_type": "markdown",
   "metadata": {
    "button": false,
    "new_sheet": false,
    "run_control": {
     "read_only": false
    }
   },
   "source": [
    "### Convert to date time object\n"
   ]
  },
  {
   "cell_type": "code",
   "execution_count": 5,
   "metadata": {
    "button": false,
    "new_sheet": false,
    "run_control": {
     "read_only": false
    }
   },
   "outputs": [
    {
     "data": {
      "text/html": [
       "<div>\n",
       "<style scoped>\n",
       "    .dataframe tbody tr th:only-of-type {\n",
       "        vertical-align: middle;\n",
       "    }\n",
       "\n",
       "    .dataframe tbody tr th {\n",
       "        vertical-align: top;\n",
       "    }\n",
       "\n",
       "    .dataframe thead th {\n",
       "        text-align: right;\n",
       "    }\n",
       "</style>\n",
       "<table border=\"1\" class=\"dataframe\">\n",
       "  <thead>\n",
       "    <tr style=\"text-align: right;\">\n",
       "      <th></th>\n",
       "      <th>Unnamed: 0</th>\n",
       "      <th>Unnamed: 0.1</th>\n",
       "      <th>loan_status</th>\n",
       "      <th>Principal</th>\n",
       "      <th>terms</th>\n",
       "      <th>effective_date</th>\n",
       "      <th>due_date</th>\n",
       "      <th>age</th>\n",
       "      <th>education</th>\n",
       "      <th>Gender</th>\n",
       "    </tr>\n",
       "  </thead>\n",
       "  <tbody>\n",
       "    <tr>\n",
       "      <th>0</th>\n",
       "      <td>0</td>\n",
       "      <td>0</td>\n",
       "      <td>PAIDOFF</td>\n",
       "      <td>1000</td>\n",
       "      <td>30</td>\n",
       "      <td>2016-09-08</td>\n",
       "      <td>2016-10-07</td>\n",
       "      <td>45</td>\n",
       "      <td>High School or Below</td>\n",
       "      <td>male</td>\n",
       "    </tr>\n",
       "    <tr>\n",
       "      <th>1</th>\n",
       "      <td>2</td>\n",
       "      <td>2</td>\n",
       "      <td>PAIDOFF</td>\n",
       "      <td>1000</td>\n",
       "      <td>30</td>\n",
       "      <td>2016-09-08</td>\n",
       "      <td>2016-10-07</td>\n",
       "      <td>33</td>\n",
       "      <td>Bechalor</td>\n",
       "      <td>female</td>\n",
       "    </tr>\n",
       "    <tr>\n",
       "      <th>2</th>\n",
       "      <td>3</td>\n",
       "      <td>3</td>\n",
       "      <td>PAIDOFF</td>\n",
       "      <td>1000</td>\n",
       "      <td>15</td>\n",
       "      <td>2016-09-08</td>\n",
       "      <td>2016-09-22</td>\n",
       "      <td>27</td>\n",
       "      <td>college</td>\n",
       "      <td>male</td>\n",
       "    </tr>\n",
       "    <tr>\n",
       "      <th>3</th>\n",
       "      <td>4</td>\n",
       "      <td>4</td>\n",
       "      <td>PAIDOFF</td>\n",
       "      <td>1000</td>\n",
       "      <td>30</td>\n",
       "      <td>2016-09-09</td>\n",
       "      <td>2016-10-08</td>\n",
       "      <td>28</td>\n",
       "      <td>college</td>\n",
       "      <td>female</td>\n",
       "    </tr>\n",
       "    <tr>\n",
       "      <th>4</th>\n",
       "      <td>6</td>\n",
       "      <td>6</td>\n",
       "      <td>PAIDOFF</td>\n",
       "      <td>1000</td>\n",
       "      <td>30</td>\n",
       "      <td>2016-09-09</td>\n",
       "      <td>2016-10-08</td>\n",
       "      <td>29</td>\n",
       "      <td>college</td>\n",
       "      <td>male</td>\n",
       "    </tr>\n",
       "  </tbody>\n",
       "</table>\n",
       "</div>"
      ],
      "text/plain": [
       "   Unnamed: 0  Unnamed: 0.1 loan_status  Principal  terms effective_date  \\\n",
       "0           0             0     PAIDOFF       1000     30     2016-09-08   \n",
       "1           2             2     PAIDOFF       1000     30     2016-09-08   \n",
       "2           3             3     PAIDOFF       1000     15     2016-09-08   \n",
       "3           4             4     PAIDOFF       1000     30     2016-09-09   \n",
       "4           6             6     PAIDOFF       1000     30     2016-09-09   \n",
       "\n",
       "    due_date  age             education  Gender  \n",
       "0 2016-10-07   45  High School or Below    male  \n",
       "1 2016-10-07   33              Bechalor  female  \n",
       "2 2016-09-22   27               college    male  \n",
       "3 2016-10-08   28               college  female  \n",
       "4 2016-10-08   29               college    male  "
      ]
     },
     "execution_count": 5,
     "metadata": {},
     "output_type": "execute_result"
    }
   ],
   "source": [
    "df['due_date'] = pd.to_datetime(df['due_date'])\n",
    "df['effective_date'] = pd.to_datetime(df['effective_date'])\n",
    "df.head()"
   ]
  },
  {
   "cell_type": "markdown",
   "metadata": {
    "button": false,
    "new_sheet": false,
    "run_control": {
     "read_only": false
    }
   },
   "source": [
    "# Data visualization and pre-processing\n"
   ]
  },
  {
   "cell_type": "markdown",
   "metadata": {
    "button": false,
    "new_sheet": false,
    "run_control": {
     "read_only": false
    }
   },
   "source": [
    "Let’s see how many of each class is in our data set \n"
   ]
  },
  {
   "cell_type": "code",
   "execution_count": 6,
   "metadata": {
    "button": false,
    "new_sheet": false,
    "run_control": {
     "read_only": false
    }
   },
   "outputs": [
    {
     "data": {
      "text/plain": [
       "PAIDOFF       260\n",
       "COLLECTION     86\n",
       "Name: loan_status, dtype: int64"
      ]
     },
     "execution_count": 6,
     "metadata": {},
     "output_type": "execute_result"
    }
   ],
   "source": [
    "df['loan_status'].value_counts()"
   ]
  },
  {
   "cell_type": "markdown",
   "metadata": {
    "button": false,
    "new_sheet": false,
    "run_control": {
     "read_only": false
    }
   },
   "source": [
    "260 people have paid off the loan on time while 86 have gone into collection \n"
   ]
  },
  {
   "cell_type": "markdown",
   "metadata": {},
   "source": [
    "Lets plot some columns to underestand data better:\n"
   ]
  },
  {
   "cell_type": "code",
   "execution_count": 7,
   "metadata": {},
   "outputs": [
    {
     "name": "stdout",
     "output_type": "stream",
     "text": [
      "Collecting package metadata (current_repodata.json): ...working... done\n",
      "Solving environment: ...working... done\n",
      "\n",
      "# All requested packages already installed.\n",
      "\n"
     ]
    }
   ],
   "source": [
    "# notice: installing seaborn might takes a few minutes\n",
    "!conda install -c anaconda seaborn -y"
   ]
  },
  {
   "cell_type": "code",
   "execution_count": 8,
   "metadata": {},
   "outputs": [
    {
     "data": {
      "image/png": "[encoded data removed]",
      "text/plain": [
       "<Figure size 432x216 with 2 Axes>"
      ]
     },
     "metadata": {
      "needs_background": "light"
     },
     "output_type": "display_data"
    }
   ],
   "source": [
    "import seaborn as sns\n",
    "\n",
    "bins = np.linspace(df.Principal.min(), df.Principal.max(), 10)\n",
    "g = sns.FacetGrid(df, col=\"Gender\", hue=\"loan_status\", palette=\"Set1\", col_wrap=2)\n",
    "g.map(plt.hist, 'Principal', bins=bins, ec=\"k\")\n",
    "\n",
    "g.axes[-1].legend()\n",
    "plt.show()"
   ]
  },
  {
   "cell_type": "code",
   "execution_count": 9,
   "metadata": {
    "button": false,
    "new_sheet": false,
    "run_control": {
     "read_only": false
    }
   },
   "outputs": [
    {
     "data": {
      "image/png": "[encoded data removed]",
      "text/plain": [
       "<Figure size 432x216 with 2 Axes>"
      ]
     },
     "metadata": {
      "needs_background": "light"
     },
     "output_type": "display_data"
    }
   ],
   "source": [
    "bins = np.linspace(df.age.min(), df.age.max(), 10)\n",
    "g = sns.FacetGrid(df, col=\"Gender\", hue=\"loan_status\", palette=\"Set1\", col_wrap=2)\n",
    "g.map(plt.hist, 'age', bins=bins, ec=\"k\")\n",
    "\n",
    "g.axes[-1].legend()\n",
    "plt.show()"
   ]
  },
  {
   "cell_type": "markdown",
   "metadata": {
    "button": false,
    "new_sheet": false,
    "run_control": {
     "read_only": false
    }
   },
   "source": [
    "# Pre-processing:  Feature selection/extraction\n"
   ]
  },
  {
   "cell_type": "markdown",
   "metadata": {
    "button": false,
    "new_sheet": false,
    "run_control": {
     "read_only": false
    }
   },
   "source": [
    "### Lets look at the day of the week people get the loan\n"
   ]
  },
  {
   "cell_type": "code",
   "execution_count": 10,
   "metadata": {
    "button": false,
    "new_sheet": false,
    "run_control": {
     "read_only": false
    }
   },
   "outputs": [
    {
     "data": {
      "image/png": "[encoded data removed]",
      "text/plain": [
       "<Figure size 432x216 with 2 Axes>"
      ]
     },
     "metadata": {
      "needs_background": "light"
     },
     "output_type": "display_data"
    }
   ],
   "source": [
    "df['dayofweek'] = df['effective_date'].dt.dayofweek\n",
    "bins = np.linspace(df.dayofweek.min(), df.dayofweek.max(), 10)\n",
    "g = sns.FacetGrid(df, col=\"Gender\", hue=\"loan_status\", palette=\"Set1\", col_wrap=2)\n",
    "g.map(plt.hist, 'dayofweek', bins=bins, ec=\"k\")\n",
    "g.axes[-1].legend()\n",
    "plt.show()\n"
   ]
  },
  {
   "cell_type": "markdown",
   "metadata": {
    "button": false,
    "new_sheet": false,
    "run_control": {
     "read_only": false
    }
   },
   "source": [
    "We see that people who get the loan at the end of the week dont pay it off, so lets use Feature binarization to set a threshold values less then day 4 \n"
   ]
  },
  {
   "cell_type": "code",
   "execution_count": 11,
   "metadata": {
    "button": false,
    "new_sheet": false,
    "run_control": {
     "read_only": false
    }
   },
   "outputs": [
    {
     "data": {
      "text/html": [
       "<div>\n",
       "<style scoped>\n",
       "    .dataframe tbody tr th:only-of-type {\n",
       "        vertical-align: middle;\n",
       "    }\n",
       "\n",
       "    .dataframe tbody tr th {\n",
       "        vertical-align: top;\n",
       "    }\n",
       "\n",
       "    .dataframe thead th {\n",
       "        text-align: right;\n",
       "    }\n",
       "</style>\n",
       "<table border=\"1\" class=\"dataframe\">\n",
       "  <thead>\n",
       "    <tr style=\"text-align: right;\">\n",
       "      <th></th>\n",
       "      <th>Unnamed: 0</th>\n",
       "      <th>Unnamed: 0.1</th>\n",
       "      <th>loan_status</th>\n",
       "      <th>Principal</th>\n",
       "      <th>terms</th>\n",
       "      <th>effective_date</th>\n",
       "      <th>due_date</th>\n",
       "      <th>age</th>\n",
       "      <th>education</th>\n",
       "      <th>Gender</th>\n",
       "      <th>dayofweek</th>\n",
       "      <th>weekend</th>\n",
       "    </tr>\n",
       "  </thead>\n",
       "  <tbody>\n",
       "    <tr>\n",
       "      <th>0</th>\n",
       "      <td>0</td>\n",
       "      <td>0</td>\n",
       "      <td>PAIDOFF</td>\n",
       "      <td>1000</td>\n",
       "      <td>30</td>\n",
       "      <td>2016-09-08</td>\n",
       "      <td>2016-10-07</td>\n",
       "      <td>45</td>\n",
       "      <td>High School or Below</td>\n",
       "      <td>male</td>\n",
       "      <td>3</td>\n",
       "      <td>0</td>\n",
       "    </tr>\n",
       "    <tr>\n",
       "      <th>1</th>\n",
       "      <td>2</td>\n",
       "      <td>2</td>\n",
       "      <td>PAIDOFF</td>\n",
       "      <td>1000</td>\n",
       "      <td>30</td>\n",
       "      <td>2016-09-08</td>\n",
       "      <td>2016-10-07</td>\n",
       "      <td>33</td>\n",
       "      <td>Bechalor</td>\n",
       "      <td>female</td>\n",
       "      <td>3</td>\n",
       "      <td>0</td>\n",
       "    </tr>\n",
       "    <tr>\n",
       "      <th>2</th>\n",
       "      <td>3</td>\n",
       "      <td>3</td>\n",
       "      <td>PAIDOFF</td>\n",
       "      <td>1000</td>\n",
       "      <td>15</td>\n",
       "      <td>2016-09-08</td>\n",
       "      <td>2016-09-22</td>\n",
       "      <td>27</td>\n",
       "      <td>college</td>\n",
       "      <td>male</td>\n",
       "      <td>3</td>\n",
       "      <td>0</td>\n",
       "    </tr>\n",
       "    <tr>\n",
       "      <th>3</th>\n",
       "      <td>4</td>\n",
       "      <td>4</td>\n",
       "      <td>PAIDOFF</td>\n",
       "      <td>1000</td>\n",
       "      <td>30</td>\n",
       "      <td>2016-09-09</td>\n",
       "      <td>2016-10-08</td>\n",
       "      <td>28</td>\n",
       "      <td>college</td>\n",
       "      <td>female</td>\n",
       "      <td>4</td>\n",
       "      <td>1</td>\n",
       "    </tr>\n",
       "    <tr>\n",
       "      <th>4</th>\n",
       "      <td>6</td>\n",
       "      <td>6</td>\n",
       "      <td>PAIDOFF</td>\n",
       "      <td>1000</td>\n",
       "      <td>30</td>\n",
       "      <td>2016-09-09</td>\n",
       "      <td>2016-10-08</td>\n",
       "      <td>29</td>\n",
       "      <td>college</td>\n",
       "      <td>male</td>\n",
       "      <td>4</td>\n",
       "      <td>1</td>\n",
       "    </tr>\n",
       "  </tbody>\n",
       "</table>\n",
       "</div>"
      ],
      "text/plain": [
       "   Unnamed: 0  Unnamed: 0.1 loan_status  Principal  terms effective_date  \\\n",
       "0           0             0     PAIDOFF       1000     30     2016-09-08   \n",
       "1           2             2     PAIDOFF       1000     30     2016-09-08   \n",
       "2           3             3     PAIDOFF       1000     15     2016-09-08   \n",
       "3           4             4     PAIDOFF       1000     30     2016-09-09   \n",
       "4           6             6     PAIDOFF       1000     30     2016-09-09   \n",
       "\n",
       "    due_date  age             education  Gender  dayofweek  weekend  \n",
       "0 2016-10-07   45  High School or Below    male          3        0  \n",
       "1 2016-10-07   33              Bechalor  female          3        0  \n",
       "2 2016-09-22   27               college    male          3        0  \n",
       "3 2016-10-08   28               college  female          4        1  \n",
       "4 2016-10-08   29               college    male          4        1  "
      ]
     },
     "execution_count": 11,
     "metadata": {},
     "output_type": "execute_result"
    }
   ],
   "source": [
    "df['weekend'] = df['dayofweek'].apply(lambda x: 1 if (x>3)  else 0)\n",
    "df.head()"
   ]
  },
  {
   "cell_type": "markdown",
   "metadata": {
    "button": false,
    "new_sheet": false,
    "run_control": {
     "read_only": false
    }
   },
   "source": [
    "## Convert Categorical features to numerical values\n"
   ]
  },
  {
   "cell_type": "markdown",
   "metadata": {
    "button": false,
    "new_sheet": false,
    "run_control": {
     "read_only": false
    }
   },
   "source": [
    "Lets look at gender:\n"
   ]
  },
  {
   "cell_type": "code",
   "execution_count": 12,
   "metadata": {
    "button": false,
    "new_sheet": false,
    "run_control": {
     "read_only": false
    }
   },
   "outputs": [
    {
     "data": {
      "text/plain": [
       "Gender  loan_status\n",
       "female  PAIDOFF        0.865385\n",
       "        COLLECTION     0.134615\n",
       "male    PAIDOFF        0.731293\n",
       "        COLLECTION     0.268707\n",
       "Name: loan_status, dtype: float64"
      ]
     },
     "execution_count": 12,
     "metadata": {},
     "output_type": "execute_result"
    }
   ],
   "source": [
    "df.groupby(['Gender'])['loan_status'].value_counts(normalize=True)"
   ]
  },
  {
   "cell_type": "markdown",
   "metadata": {
    "button": false,
    "new_sheet": false,
    "run_control": {
     "read_only": false
    }
   },
   "source": [
    "86 % of female pay there loans while only 73 % of males pay there loan\n"
   ]
  },
  {
   "cell_type": "markdown",
   "metadata": {
    "button": false,
    "new_sheet": false,
    "run_control": {
     "read_only": false
    }
   },
   "source": [
    "Lets convert male to 0 and female to 1:\n"
   ]
  },
  {
   "cell_type": "code",
   "execution_count": 13,
   "metadata": {
    "button": false,
    "new_sheet": false,
    "run_control": {
     "read_only": false
    }
   },
   "outputs": [
    {
     "data": {
      "text/html": [
       "<div>\n",
       "<style scoped>\n",
       "    .dataframe tbody tr th:only-of-type {\n",
       "        vertical-align: middle;\n",
       "    }\n",
       "\n",
       "    .dataframe tbody tr th {\n",
       "        vertical-align: top;\n",
       "    }\n",
       "\n",
       "    .dataframe thead th {\n",
       "        text-align: right;\n",
       "    }\n",
       "</style>\n",
       "<table border=\"1\" class=\"dataframe\">\n",
       "  <thead>\n",
       "    <tr style=\"text-align: right;\">\n",
       "      <th></th>\n",
       "      <th>Unnamed: 0</th>\n",
       "      <th>Unnamed: 0.1</th>\n",
       "      <th>loan_status</th>\n",
       "      <th>Principal</th>\n",
       "      <th>terms</th>\n",
       "      <th>effective_date</th>\n",
       "      <th>due_date</th>\n",
       "      <th>age</th>\n",
       "      <th>education</th>\n",
       "      <th>Gender</th>\n",
       "      <th>dayofweek</th>\n",
       "      <th>weekend</th>\n",
       "    </tr>\n",
       "  </thead>\n",
       "  <tbody>\n",
       "    <tr>\n",
       "      <th>0</th>\n",
       "      <td>0</td>\n",
       "      <td>0</td>\n",
       "      <td>PAIDOFF</td>\n",
       "      <td>1000</td>\n",
       "      <td>30</td>\n",
       "      <td>2016-09-08</td>\n",
       "      <td>2016-10-07</td>\n",
       "      <td>45</td>\n",
       "      <td>High School or Below</td>\n",
       "      <td>0</td>\n",
       "      <td>3</td>\n",
       "      <td>0</td>\n",
       "    </tr>\n",
       "    <tr>\n",
       "      <th>1</th>\n",
       "      <td>2</td>\n",
       "      <td>2</td>\n",
       "      <td>PAIDOFF</td>\n",
       "      <td>1000</td>\n",
       "      <td>30</td>\n",
       "      <td>2016-09-08</td>\n",
       "      <td>2016-10-07</td>\n",
       "      <td>33</td>\n",
       "      <td>Bechalor</td>\n",
       "      <td>1</td>\n",
       "      <td>3</td>\n",
       "      <td>0</td>\n",
       "    </tr>\n",
       "    <tr>\n",
       "      <th>2</th>\n",
       "      <td>3</td>\n",
       "      <td>3</td>\n",
       "      <td>PAIDOFF</td>\n",
       "      <td>1000</td>\n",
       "      <td>15</td>\n",
       "      <td>2016-09-08</td>\n",
       "      <td>2016-09-22</td>\n",
       "      <td>27</td>\n",
       "      <td>college</td>\n",
       "      <td>0</td>\n",
       "      <td>3</td>\n",
       "      <td>0</td>\n",
       "    </tr>\n",
       "    <tr>\n",
       "      <th>3</th>\n",
       "      <td>4</td>\n",
       "      <td>4</td>\n",
       "      <td>PAIDOFF</td>\n",
       "      <td>1000</td>\n",
       "      <td>30</td>\n",
       "      <td>2016-09-09</td>\n",
       "      <td>2016-10-08</td>\n",
       "      <td>28</td>\n",
       "      <td>college</td>\n",
       "      <td>1</td>\n",
       "      <td>4</td>\n",
       "      <td>1</td>\n",
       "    </tr>\n",
       "    <tr>\n",
       "      <th>4</th>\n",
       "      <td>6</td>\n",
       "      <td>6</td>\n",
       "      <td>PAIDOFF</td>\n",
       "      <td>1000</td>\n",
       "      <td>30</td>\n",
       "      <td>2016-09-09</td>\n",
       "      <td>2016-10-08</td>\n",
       "      <td>29</td>\n",
       "      <td>college</td>\n",
       "      <td>0</td>\n",
       "      <td>4</td>\n",
       "      <td>1</td>\n",
       "    </tr>\n",
       "  </tbody>\n",
       "</table>\n",
       "</div>"
      ],
      "text/plain": [
       "   Unnamed: 0  Unnamed: 0.1 loan_status  Principal  terms effective_date  \\\n",
       "0           0             0     PAIDOFF       1000     30     2016-09-08   \n",
       "1           2             2     PAIDOFF       1000     30     2016-09-08   \n",
       "2           3             3     PAIDOFF       1000     15     2016-09-08   \n",
       "3           4             4     PAIDOFF       1000     30     2016-09-09   \n",
       "4           6             6     PAIDOFF       1000     30     2016-09-09   \n",
       "\n",
       "    due_date  age             education  Gender  dayofweek  weekend  \n",
       "0 2016-10-07   45  High School or Below       0          3        0  \n",
       "1 2016-10-07   33              Bechalor       1          3        0  \n",
       "2 2016-09-22   27               college       0          3        0  \n",
       "3 2016-10-08   28               college       1          4        1  \n",
       "4 2016-10-08   29               college       0          4        1  "
      ]
     },
     "execution_count": 13,
     "metadata": {},
     "output_type": "execute_result"
    }
   ],
   "source": [
    "df['Gender'].replace(to_replace=['male','female'], value=[0,1],inplace=True)\n",
    "df.head()"
   ]
  },
  {
   "cell_type": "markdown",
   "metadata": {
    "button": false,
    "new_sheet": false,
    "run_control": {
     "read_only": false
    }
   },
   "source": [
    "## One Hot Encoding\n",
    "\n",
    "#### How about education?\n"
   ]
  },
  {
   "cell_type": "code",
   "execution_count": 14,
   "metadata": {
    "button": false,
    "new_sheet": false,
    "run_control": {
     "read_only": false
    }
   },
   "outputs": [
    {
     "data": {
      "text/plain": [
       "education             loan_status\n",
       "Bechalor              PAIDOFF        0.750000\n",
       "                      COLLECTION     0.250000\n",
       "High School or Below  PAIDOFF        0.741722\n",
       "                      COLLECTION     0.258278\n",
       "Master or Above       COLLECTION     0.500000\n",
       "                      PAIDOFF        0.500000\n",
       "college               PAIDOFF        0.765101\n",
       "                      COLLECTION     0.234899\n",
       "Name: loan_status, dtype: float64"
      ]
     },
     "execution_count": 14,
     "metadata": {},
     "output_type": "execute_result"
    }
   ],
   "source": [
    "df.groupby(['education'])['loan_status'].value_counts(normalize=True)"
   ]
  },
  {
   "cell_type": "markdown",
   "metadata": {
    "button": false,
    "new_sheet": false,
    "run_control": {
     "read_only": false
    }
   },
   "source": [
    "#### Feature befor One Hot Encoding\n"
   ]
  },
  {
   "cell_type": "code",
   "execution_count": 15,
   "metadata": {
    "button": false,
    "new_sheet": false,
    "run_control": {
     "read_only": false
    }
   },
   "outputs": [
    {
     "data": {
      "text/html": [
       "<div>\n",
       "<style scoped>\n",
       "    .dataframe tbody tr th:only-of-type {\n",
       "        vertical-align: middle;\n",
       "    }\n",
       "\n",
       "    .dataframe tbody tr th {\n",
       "        vertical-align: top;\n",
       "    }\n",
       "\n",
       "    .dataframe thead th {\n",
       "        text-align: right;\n",
       "    }\n",
       "</style>\n",
       "<table border=\"1\" class=\"dataframe\">\n",
       "  <thead>\n",
       "    <tr style=\"text-align: right;\">\n",
       "      <th></th>\n",
       "      <th>Principal</th>\n",
       "      <th>terms</th>\n",
       "      <th>age</th>\n",
       "      <th>Gender</th>\n",
       "      <th>education</th>\n",
       "    </tr>\n",
       "  </thead>\n",
       "  <tbody>\n",
       "    <tr>\n",
       "      <th>0</th>\n",
       "      <td>1000</td>\n",
       "      <td>30</td>\n",
       "      <td>45</td>\n",
       "      <td>0</td>\n",
       "      <td>High School or Below</td>\n",
       "    </tr>\n",
       "    <tr>\n",
       "      <th>1</th>\n",
       "      <td>1000</td>\n",
       "      <td>30</td>\n",
       "      <td>33</td>\n",
       "      <td>1</td>\n",
       "      <td>Bechalor</td>\n",
       "    </tr>\n",
       "    <tr>\n",
       "      <th>2</th>\n",
       "      <td>1000</td>\n",
       "      <td>15</td>\n",
       "      <td>27</td>\n",
       "      <td>0</td>\n",
       "      <td>college</td>\n",
       "    </tr>\n",
       "    <tr>\n",
       "      <th>3</th>\n",
       "      <td>1000</td>\n",
       "      <td>30</td>\n",
       "      <td>28</td>\n",
       "      <td>1</td>\n",
       "      <td>college</td>\n",
       "    </tr>\n",
       "    <tr>\n",
       "      <th>4</th>\n",
       "      <td>1000</td>\n",
       "      <td>30</td>\n",
       "      <td>29</td>\n",
       "      <td>0</td>\n",
       "      <td>college</td>\n",
       "    </tr>\n",
       "  </tbody>\n",
       "</table>\n",
       "</div>"
      ],
      "text/plain": [
       "   Principal  terms  age  Gender             education\n",
       "0       1000     30   45       0  High School or Below\n",
       "1       1000     30   33       1              Bechalor\n",
       "2       1000     15   27       0               college\n",
       "3       1000     30   28       1               college\n",
       "4       1000     30   29       0               college"
      ]
     },
     "execution_count": 15,
     "metadata": {},
     "output_type": "execute_result"
    }
   ],
   "source": [
    "df[['Principal','terms','age','Gender','education']].head()"
   ]
  },
  {
   "cell_type": "markdown",
   "metadata": {
    "button": false,
    "new_sheet": false,
    "run_control": {
     "read_only": false
    }
   },
   "source": [
    "#### Use one hot encoding technique to conver categorical varables to binary variables and append them to the feature Data Frame\n"
   ]
  },
  {
   "cell_type": "code",
   "execution_count": 16,
   "metadata": {
    "button": false,
    "new_sheet": false,
    "run_control": {
     "read_only": false
    }
   },
   "outputs": [
    {
     "data": {
      "text/html": [
       "<div>\n",
       "<style scoped>\n",
       "    .dataframe tbody tr th:only-of-type {\n",
       "        vertical-align: middle;\n",
       "    }\n",
       "\n",
       "    .dataframe tbody tr th {\n",
       "        vertical-align: top;\n",
       "    }\n",
       "\n",
       "    .dataframe thead th {\n",
       "        text-align: right;\n",
       "    }\n",
       "</style>\n",
       "<table border=\"1\" class=\"dataframe\">\n",
       "  <thead>\n",
       "    <tr style=\"text-align: right;\">\n",
       "      <th></th>\n",
       "      <th>Principal</th>\n",
       "      <th>terms</th>\n",
       "      <th>age</th>\n",
       "      <th>Gender</th>\n",
       "      <th>weekend</th>\n",
       "      <th>Bechalor</th>\n",
       "      <th>High School or Below</th>\n",
       "      <th>college</th>\n",
       "    </tr>\n",
       "  </thead>\n",
       "  <tbody>\n",
       "    <tr>\n",
       "      <th>0</th>\n",
       "      <td>1000</td>\n",
       "      <td>30</td>\n",
       "      <td>45</td>\n",
       "      <td>0</td>\n",
       "      <td>0</td>\n",
       "      <td>0</td>\n",
       "      <td>1</td>\n",
       "      <td>0</td>\n",
       "    </tr>\n",
       "    <tr>\n",
       "      <th>1</th>\n",
       "      <td>1000</td>\n",
       "      <td>30</td>\n",
       "      <td>33</td>\n",
       "      <td>1</td>\n",
       "      <td>0</td>\n",
       "      <td>1</td>\n",
       "      <td>0</td>\n",
       "      <td>0</td>\n",
       "    </tr>\n",
       "    <tr>\n",
       "      <th>2</th>\n",
       "      <td>1000</td>\n",
       "      <td>15</td>\n",
       "      <td>27</td>\n",
       "      <td>0</td>\n",
       "      <td>0</td>\n",
       "      <td>0</td>\n",
       "      <td>0</td>\n",
       "      <td>1</td>\n",
       "    </tr>\n",
       "    <tr>\n",
       "      <th>3</th>\n",
       "      <td>1000</td>\n",
       "      <td>30</td>\n",
       "      <td>28</td>\n",
       "      <td>1</td>\n",
       "      <td>1</td>\n",
       "      <td>0</td>\n",
       "      <td>0</td>\n",
       "      <td>1</td>\n",
       "    </tr>\n",
       "    <tr>\n",
       "      <th>4</th>\n",
       "      <td>1000</td>\n",
       "      <td>30</td>\n",
       "      <td>29</td>\n",
       "      <td>0</td>\n",
       "      <td>1</td>\n",
       "      <td>0</td>\n",
       "      <td>0</td>\n",
       "      <td>1</td>\n",
       "    </tr>\n",
       "  </tbody>\n",
       "</table>\n",
       "</div>"
      ],
      "text/plain": [
       "   Principal  terms  age  Gender  weekend  Bechalor  High School or Below  \\\n",
       "0       1000     30   45       0        0         0                     1   \n",
       "1       1000     30   33       1        0         1                     0   \n",
       "2       1000     15   27       0        0         0                     0   \n",
       "3       1000     30   28       1        1         0                     0   \n",
       "4       1000     30   29       0        1         0                     0   \n",
       "\n",
       "   college  \n",
       "0        0  \n",
       "1        0  \n",
       "2        1  \n",
       "3        1  \n",
       "4        1  "
      ]
     },
     "execution_count": 16,
     "metadata": {},
     "output_type": "execute_result"
    }
   ],
   "source": [
    "Feature = df[['Principal','terms','age','Gender','weekend']]\n",
    "Feature = pd.concat([Feature,pd.get_dummies(df['education'])], axis=1)\n",
    "Feature.drop(['Master or Above'], axis = 1,inplace=True)\n",
    "Feature.head()\n"
   ]
  },
  {
   "cell_type": "markdown",
   "metadata": {
    "button": false,
    "new_sheet": false,
    "run_control": {
     "read_only": false
    }
   },
   "source": [
    "### Feature selection\n"
   ]
  },
  {
   "cell_type": "markdown",
   "metadata": {
    "button": false,
    "new_sheet": false,
    "run_control": {
     "read_only": false
    }
   },
   "source": [
    "Lets defind feature sets, X:\n"
   ]
  },
  {
   "cell_type": "code",
   "execution_count": 17,
   "metadata": {
    "button": false,
    "new_sheet": false,
    "run_control": {
     "read_only": false
    }
   },
   "outputs": [
    {
     "data": {
      "text/html": [
       "<div>\n",
       "<style scoped>\n",
       "    .dataframe tbody tr th:only-of-type {\n",
       "        vertical-align: middle;\n",
       "    }\n",
       "\n",
       "    .dataframe tbody tr th {\n",
       "        vertical-align: top;\n",
       "    }\n",
       "\n",
       "    .dataframe thead th {\n",
       "        text-align: right;\n",
       "    }\n",
       "</style>\n",
       "<table border=\"1\" class=\"dataframe\">\n",
       "  <thead>\n",
       "    <tr style=\"text-align: right;\">\n",
       "      <th></th>\n",
       "      <th>Principal</th>\n",
       "      <th>terms</th>\n",
       "      <th>age</th>\n",
       "      <th>Gender</th>\n",
       "      <th>weekend</th>\n",
       "      <th>Bechalor</th>\n",
       "      <th>High School or Below</th>\n",
       "      <th>college</th>\n",
       "    </tr>\n",
       "  </thead>\n",
       "  <tbody>\n",
       "    <tr>\n",
       "      <th>0</th>\n",
       "      <td>1000</td>\n",
       "      <td>30</td>\n",
       "      <td>45</td>\n",
       "      <td>0</td>\n",
       "      <td>0</td>\n",
       "      <td>0</td>\n",
       "      <td>1</td>\n",
       "      <td>0</td>\n",
       "    </tr>\n",
       "    <tr>\n",
       "      <th>1</th>\n",
       "      <td>1000</td>\n",
       "      <td>30</td>\n",
       "      <td>33</td>\n",
       "      <td>1</td>\n",
       "      <td>0</td>\n",
       "      <td>1</td>\n",
       "      <td>0</td>\n",
       "      <td>0</td>\n",
       "    </tr>\n",
       "    <tr>\n",
       "      <th>2</th>\n",
       "      <td>1000</td>\n",
       "      <td>15</td>\n",
       "      <td>27</td>\n",
       "      <td>0</td>\n",
       "      <td>0</td>\n",
       "      <td>0</td>\n",
       "      <td>0</td>\n",
       "      <td>1</td>\n",
       "    </tr>\n",
       "    <tr>\n",
       "      <th>3</th>\n",
       "      <td>1000</td>\n",
       "      <td>30</td>\n",
       "      <td>28</td>\n",
       "      <td>1</td>\n",
       "      <td>1</td>\n",
       "      <td>0</td>\n",
       "      <td>0</td>\n",
       "      <td>1</td>\n",
       "    </tr>\n",
       "    <tr>\n",
       "      <th>4</th>\n",
       "      <td>1000</td>\n",
       "      <td>30</td>\n",
       "      <td>29</td>\n",
       "      <td>0</td>\n",
       "      <td>1</td>\n",
       "      <td>0</td>\n",
       "      <td>0</td>\n",
       "      <td>1</td>\n",
       "    </tr>\n",
       "  </tbody>\n",
       "</table>\n",
       "</div>"
      ],
      "text/plain": [
       "   Principal  terms  age  Gender  weekend  Bechalor  High School or Below  \\\n",
       "0       1000     30   45       0        0         0                     1   \n",
       "1       1000     30   33       1        0         1                     0   \n",
       "2       1000     15   27       0        0         0                     0   \n",
       "3       1000     30   28       1        1         0                     0   \n",
       "4       1000     30   29       0        1         0                     0   \n",
       "\n",
       "   college  \n",
       "0        0  \n",
       "1        0  \n",
       "2        1  \n",
       "3        1  \n",
       "4        1  "
      ]
     },
     "execution_count": 17,
     "metadata": {},
     "output_type": "execute_result"
    }
   ],
   "source": [
    "X = Feature\n",
    "X[0:5]"
   ]
  },
  {
   "cell_type": "markdown",
   "metadata": {
    "button": false,
    "new_sheet": false,
    "run_control": {
     "read_only": false
    }
   },
   "source": [
    "What are our lables?\n"
   ]
  },
  {
   "cell_type": "code",
   "execution_count": 18,
   "metadata": {
    "button": false,
    "new_sheet": false,
    "run_control": {
     "read_only": false
    }
   },
   "outputs": [
    {
     "data": {
      "text/plain": [
       "array(['PAIDOFF', 'PAIDOFF', 'PAIDOFF', 'PAIDOFF', 'PAIDOFF'],\n",
       "      dtype=object)"
      ]
     },
     "execution_count": 18,
     "metadata": {},
     "output_type": "execute_result"
    }
   ],
   "source": [
    "y = df['loan_status'].values\n",
    "y[0:5]"
   ]
  },
  {
   "cell_type": "markdown",
   "metadata": {
    "button": false,
    "new_sheet": false,
    "run_control": {
     "read_only": false
    }
   },
   "source": [
    "## Normalize Data\n"
   ]
  },
  {
   "cell_type": "markdown",
   "metadata": {
    "button": false,
    "new_sheet": false,
    "run_control": {
     "read_only": false
    }
   },
   "source": [
    "Data Standardization give data zero mean and unit variance (technically should be done after train test split )\n"
   ]
  },
  {
   "cell_type": "code",
   "execution_count": 19,
   "metadata": {
    "button": false,
    "new_sheet": false,
    "run_control": {
     "read_only": false
    }
   },
   "outputs": [
    {
     "data": {
      "text/plain": [
       "array([[ 0.51578458,  0.92071769,  2.33152555, -0.42056004, -1.20577805,\n",
       "        -0.38170062,  1.13639374, -0.86968108],\n",
       "       [ 0.51578458,  0.92071769,  0.34170148,  2.37778177, -1.20577805,\n",
       "         2.61985426, -0.87997669, -0.86968108],\n",
       "       [ 0.51578458, -0.95911111, -0.65321055, -0.42056004, -1.20577805,\n",
       "        -0.38170062, -0.87997669,  1.14984679],\n",
       "       [ 0.51578458,  0.92071769, -0.48739188,  2.37778177,  0.82934003,\n",
       "        -0.38170062, -0.87997669,  1.14984679],\n",
       "       [ 0.51578458,  0.92071769, -0.3215732 , -0.42056004,  0.82934003,\n",
       "        -0.38170062, -0.87997669,  1.14984679]])"
      ]
     },
     "execution_count": 19,
     "metadata": {},
     "output_type": "execute_result"
    }
   ],
   "source": [
    "X = preprocessing.StandardScaler().fit(X).transform(X)\n",
    "X[0:5]"
   ]
  },
  {
   "cell_type": "markdown",
   "metadata": {
    "button": false,
    "new_sheet": false,
    "run_control": {
     "read_only": false
    }
   },
   "source": [
    "# Classification\n"
   ]
  },
  {
   "cell_type": "markdown",
   "metadata": {
    "button": false,
    "new_sheet": false,
    "run_control": {
     "read_only": false
    }
   },
   "source": [
    "Now, it is your turn, use the training set to build an accurate model. Then use the test set to report the accuracy of the model\n",
    "You should use the following algorithm:\n",
    "\n",
    "-   K Nearest Neighbor(KNN)\n",
    "-   Decision Tree\n",
    "-   Support Vector Machine\n",
    "-   Logistic Regression\n",
    "\n",
    "** Notice:** \n",
    "\n",
    "-   You can go above and change the pre-processing, feature selection, feature-extraction, and so on, to make a better model.\n",
    "-   You should use either scikit-learn, Scipy or Numpy libraries for developing the classification algorithms.\n",
    "-   You should include the code of the algorithm in the following cells.\n"
   ]
  },
  {
   "cell_type": "markdown",
   "metadata": {},
   "source": [
    "## +++++++++++++++++++++++++++++++++++++++++++++++++++++++++++++++++++++"
   ]
  },
  {
   "cell_type": "markdown",
   "metadata": {},
   "source": [
    "## Splitting the Data into Train Set & Test Set"
   ]
  },
  {
   "cell_type": "code",
   "execution_count": 20,
   "metadata": {},
   "outputs": [],
   "source": [
    "# Split the X into Train Set and Test Set\n",
    "from sklearn.model_selection import train_test_split\n",
    "X_train, X_test, y_train, y_test = train_test_split(X, y, test_size=0.2, random_state=4)"
   ]
  },
  {
   "cell_type": "code",
   "execution_count": 21,
   "metadata": {},
   "outputs": [
    {
     "name": "stdout",
     "output_type": "stream",
     "text": [
      "Train Set: (276, 8) (276,)\n",
      "Test Set: (70, 8) (70,)\n"
     ]
    }
   ],
   "source": [
    "print ('Train Set:', X_train.shape,  y_train.shape)\n",
    "print ('Test Set:', X_test.shape,  y_test.shape)"
   ]
  },
  {
   "cell_type": "markdown",
   "metadata": {},
   "source": [
    "## +++++++++++++++++++++++++++++++++++++++++++++++++++++++++++++++++++++"
   ]
  },
  {
   "cell_type": "markdown",
   "metadata": {},
   "source": [
    "# K Nearest Neighbor (KNN)\n",
    "\n",
    "Notice: You should find the best k to build the model with the best accuracy.  \n",
    "**warning:** You should not use the **loan_test.csv** for finding the best k, however, you can split your train_loan.csv into train and test to find the best **k**."
   ]
  },
  {
   "cell_type": "code",
   "execution_count": 22,
   "metadata": {},
   "outputs": [],
   "source": [
    "# Importing Libraries\n",
    "from sklearn.neighbors import KNeighborsClassifier\n",
    "from sklearn.metrics import f1_score\n",
    "from sklearn.metrics import jaccard_score\n",
    "from sklearn.metrics import accuracy_score"
   ]
  },
  {
   "cell_type": "markdown",
   "metadata": {},
   "source": [
    "## First of all, we will try to find the Best Value of 'k'. For this, we will use the following 3 processes,\n",
    "- GridSearchCV\n",
    "- RadomisedSearchCV and\n",
    "- 'for' Loop"
   ]
  },
  {
   "cell_type": "markdown",
   "metadata": {},
   "source": [
    "## Option 1) Searching for the Best Value of k Using GridSearchCV\n",
    "- With small data sets and lots of resources, Grid Search will produce accurate results\n",
    "- However, with large data sets, the high dimensions will greatly slow down computation time in Grid Search and be very costly\n",
    "- In this approach, since every combination of the hyperparameter values is tried, the process takes a lot of time and is, hence, very inefficient\n",
    "- Therefore, this search is to be used only when the number of hyperparameters to be searched are less\n",
    "- In case the number of hyperparameters are more, it is advised to use RandomizedSearchCV\n",
    "- We can use the GridSearchCV to search for the best values of different hyperparameters in the KNN Algorithm like 'n_neghbors', 'weights', 'algorithm', 'p', etc.\n",
    "- But for the current Assignment, we will use the GridSearchCV to only search for the Best Value of k and hide the other hyperparameters"
   ]
  },
  {
   "cell_type": "code",
   "execution_count": 23,
   "metadata": {},
   "outputs": [
    {
     "name": "stdout",
     "output_type": "stream",
     "text": [
      "Fitting 10 folds for each of 20 candidates, totalling 200 fits\n"
     ]
    },
    {
     "data": {
      "text/plain": [
       "GridSearchCV(cv=10, estimator=KNeighborsClassifier(), n_jobs=-1,\n",
       "             param_grid={'n_neighbors': range(1, 21)}, scoring='accuracy',\n",
       "             verbose=1)"
      ]
     },
     "execution_count": 23,
     "metadata": {},
     "output_type": "execute_result"
    }
   ],
   "source": [
    "knn_grid = KNeighborsClassifier()\n",
    "\n",
    "params = {\n",
    "            'n_neighbors' : range(1, 21)\n",
    "            #'weights' : ['uniform', 'distance'],\n",
    "            #'algorithm' : ['auto', 'ball_tree', 'kd_tree', 'brute'],\n",
    "            #'p' : [1, 2]\n",
    "         }\n",
    "    \n",
    "grid_knn = GridSearchCV(estimator = knn_grid,\n",
    "                        param_grid = params,\n",
    "                        scoring = 'accuracy',\n",
    "                        cv = 10,\n",
    "                        verbose = 1,\n",
    "                        n_jobs = -1)\n",
    "\n",
    "# Fitting the Model as per the Hyperparameters Identified by the GridSearchCV\n",
    "grid_knn.fit(X_train, y_train)"
   ]
  },
  {
   "cell_type": "code",
   "execution_count": 24,
   "metadata": {},
   "outputs": [
    {
     "name": "stdout",
     "output_type": "stream",
     "text": [
      "{'n_neighbors': 7}\n"
     ]
    }
   ],
   "source": [
    "# Extracting Best Parameters as per the Hyperparameters Identified by the GridSearchCV\n",
    "print(grid_knn.best_params_)"
   ]
  },
  {
   "cell_type": "code",
   "execution_count": 25,
   "metadata": {},
   "outputs": [
    {
     "data": {
      "text/plain": [
       "array(['PAIDOFF', 'PAIDOFF', 'PAIDOFF', 'PAIDOFF', 'PAIDOFF', 'PAIDOFF',\n",
       "       'COLLECTION', 'COLLECTION', 'PAIDOFF', 'PAIDOFF'], dtype=object)"
      ]
     },
     "execution_count": 25,
     "metadata": {},
     "output_type": "execute_result"
    }
   ],
   "source": [
    "# Predicting the Model as per the Hyperparameters Identified by the GridSearchCV\n",
    "knn_yhat_grid = grid_knn.predict(X_test)\n",
    "knn_yhat_grid[0 : 10]"
   ]
  },
  {
   "cell_type": "code",
   "execution_count": 26,
   "metadata": {},
   "outputs": [
    {
     "name": "stdout",
     "output_type": "stream",
     "text": [
      "Train Set - F1 Score:  0.8000194668761034\n",
      "Test Set - F1 Score:  0.7766540244416351\n",
      "\n",
      "\n",
      "Train Set - Jaccard Score:  0.6837994124741442\n",
      "Test Set - Jaccard Score:  0.6627869897959183\n",
      "\n",
      "\n",
      "Train Set - Accuracy Score:  0.8079710144927537\n",
      "Test Set - Accuracy Score:  0.7857142857142857\n"
     ]
    }
   ],
   "source": [
    "# Printing the Metric Scores as per the Best Value of k Identified by the GridSearchCV\n",
    "print(\"Train Set - F1 Score: \", f1_score(y_train, grid_knn.predict(X_train), average = 'weighted'))\n",
    "print(\"Test Set - F1 Score: \", f1_score(y_test, knn_yhat_grid, average = 'weighted'))\n",
    "print(\"\\n\")\n",
    "print(\"Train Set - Jaccard Score: \", jaccard_score(y_train, grid_knn.predict(X_train), average = 'weighted'))\n",
    "print(\"Test Set - Jaccard Score: \", jaccard_score(y_test, knn_yhat_grid, average = 'weighted'))\n",
    "print(\"\\n\")\n",
    "print(\"Train Set - Accuracy Score: \", accuracy_score(y_train, grid_knn.predict(X_train)))\n",
    "print(\"Test Set - Accuracy Score: \", accuracy_score(y_test, knn_yhat_grid))"
   ]
  },
  {
   "cell_type": "markdown",
   "metadata": {},
   "source": [
    "## Option 2) Searching for the Best Value of k Using RandomisedSearchCV\n",
    "- This search is to be used when the number of hyperparameters to be searched are more\n",
    "- While it’s possible that RandomizedSearchCV will not find as accurate of a result as GridSearchCV, but it surprisingly picks the best result more often than not and in a fraction of the time it takes for GridSearchCV\n",
    "- With small data sets and lots of resources, Grid Search will produce accurate results\n",
    "- However, with large data sets, the high dimensions will greatly slow down computation time in Grid Search and hence, turn out to be very costly\n",
    "- In such a case (when there are a lot of hyperparameters to be searched), it is advised to use Randomized Search\n",
    "- Similar to the GridSearchCV, We can use this option to search for the best values of different hyperparameters in the KNN Algorithm like 'n_neghbors', 'weights', 'algorithm', 'p', etc.\n",
    "- Note: For this option, 'random_state' is to be used so that the results remain constant and does not change every time this Search option is run\n",
    "- Again, for the current Assignment, we will use the RandomisedSearchCV to only search for the Best Value of k and hide the other hyperparameters"
   ]
  },
  {
   "cell_type": "code",
   "execution_count": 27,
   "metadata": {},
   "outputs": [
    {
     "name": "stdout",
     "output_type": "stream",
     "text": [
      "Fitting 10 folds for each of 10 candidates, totalling 100 fits\n"
     ]
    },
    {
     "data": {
      "text/plain": [
       "RandomizedSearchCV(cv=10, estimator=KNeighborsClassifier(), n_jobs=-1,\n",
       "                   param_distributions={'n_neighbors': range(1, 21)},\n",
       "                   random_state=0, scoring='accuracy', verbose=1)"
      ]
     },
     "execution_count": 27,
     "metadata": {},
     "output_type": "execute_result"
    }
   ],
   "source": [
    "knn_rcv = KNeighborsClassifier()\n",
    "\n",
    "params = {\n",
    "            'n_neighbors' : range(1, 21)\n",
    "            #'weights' : ['uniform', 'distance'],\n",
    "            #'algorithm' : ['auto', 'ball_tree', 'kd_tree', 'brute'],\n",
    "            #'p' : [1, 2]\n",
    "         }\n",
    "\n",
    "random_knn = RandomizedSearchCV(estimator = knn_rcv,\n",
    "                        param_distributions = params,\n",
    "                        scoring = 'accuracy',\n",
    "                        cv = 10,\n",
    "                        verbose = 1,\n",
    "                        n_jobs = -1,\n",
    "                        random_state = 0)\n",
    "\n",
    "# Fitting the Model as per the Hyperparameters Identified by the RandomisedSearchCV\n",
    "random_knn.fit(X_train, y_train)"
   ]
  },
  {
   "cell_type": "code",
   "execution_count": 28,
   "metadata": {},
   "outputs": [
    {
     "name": "stdout",
     "output_type": "stream",
     "text": [
      "{'n_neighbors': 7}\n"
     ]
    }
   ],
   "source": [
    "# Extracting Best Parameters as per the Hyperparameters Identified by the RandomisedSearchCV\n",
    "print(random_knn.best_params_)"
   ]
  },
  {
   "cell_type": "code",
   "execution_count": 29,
   "metadata": {},
   "outputs": [
    {
     "data": {
      "text/plain": [
       "array(['PAIDOFF', 'PAIDOFF', 'PAIDOFF', 'PAIDOFF', 'PAIDOFF', 'PAIDOFF',\n",
       "       'COLLECTION', 'COLLECTION', 'PAIDOFF', 'PAIDOFF'], dtype=object)"
      ]
     },
     "execution_count": 29,
     "metadata": {},
     "output_type": "execute_result"
    }
   ],
   "source": [
    "# Predicting the Model as per the Hyperparameters Identified by the RandomisedSearchCV\n",
    "knn_yhat_rcv = random_knn.predict(X_test)\n",
    "knn_yhat_rcv[0 : 10]"
   ]
  },
  {
   "cell_type": "code",
   "execution_count": 30,
   "metadata": {},
   "outputs": [
    {
     "name": "stdout",
     "output_type": "stream",
     "text": [
      "Train Set - F1 Score:  0.8000194668761034\n",
      "Test Set - F1 Score:  0.7766540244416351\n",
      "\n",
      "\n",
      "Train Set - Jaccard Score:  0.6837994124741442\n",
      "Test Set - Jaccard Score:  0.6627869897959183\n",
      "\n",
      "\n",
      "Train Set - Accuracy Score:  0.8079710144927537\n",
      "Test Set - Accuracy Score:  0.7857142857142857\n"
     ]
    }
   ],
   "source": [
    "# Printing the Metric Scores as per the Best Value of k Identified by the RandomisedSearchCV\n",
    "print(\"Train Set - F1 Score: \", f1_score(y_train, random_knn.predict(X_train), average = 'weighted'))\n",
    "print(\"Test Set - F1 Score: \", f1_score(y_test, knn_yhat_rcv, average = 'weighted'))\n",
    "print(\"\\n\")\n",
    "print(\"Train Set - Jaccard Score: \", jaccard_score(y_train, random_knn.predict(X_train), average = 'weighted'))\n",
    "print(\"Test Set - Jaccard Score: \", jaccard_score(y_test, knn_yhat_rcv, average = 'weighted'))\n",
    "print(\"\\n\")\n",
    "print(\"Train Set - Accuracy Score: \", accuracy_score(y_train, random_knn.predict(X_train)))\n",
    "print(\"Test Set - Accuracy Score: \", accuracy_score(y_test, knn_yhat_rcv))"
   ]
  },
  {
   "cell_type": "markdown",
   "metadata": {},
   "source": [
    "## Option 3) Searching for the Best Value of k Using 'for' Loop\n",
    "- When the number of hyperparameters are very less, say, a small range of numbers, then we can also use a simple 'for' loop"
   ]
  },
  {
   "cell_type": "code",
   "execution_count": 31,
   "metadata": {},
   "outputs": [],
   "source": [
    "# Initialising the Variables\n",
    "ks = range(1, 21) # To find the best value of k\n",
    "f1_score_knn = []\n",
    "jaccard_score_knn = []\n",
    "accuracy_score_knn = []\n",
    "\n",
    "for n in ks:\n",
    "    # Training the Model\n",
    "    knn = KNeighborsClassifier(n_neighbors = n)\n",
    "    \n",
    "    # Fitting the Model to the Training Set\n",
    "    knn.fit(X_train, y_train)\n",
    "    \n",
    "    # Predicting the yhat for the Test Set\n",
    "    knn_yhat = knn.predict(X_test)\n",
    "    \n",
    "    # Finding the Accuracy for Different Values of k\n",
    "    f1_score_knn.append(f1_score(y_test, knn_yhat, average = 'weighted'))\n",
    "    jaccard_score_knn.append(jaccard_score(y_test, knn_yhat, average = 'weighted'))\n",
    "    accuracy_score_knn.append(accuracy_score(y_test, knn_yhat))"
   ]
  },
  {
   "cell_type": "code",
   "execution_count": 32,
   "metadata": {},
   "outputs": [
    {
     "name": "stdout",
     "output_type": "stream",
     "text": [
      "'n_neighbors': 7 \n"
     ]
    }
   ],
   "source": [
    "# Extracting the Best k as Identified by 'for' Loop\n",
    "print(\"'n_neighbors': {} \".format(accuracy_score_knn.index(max(accuracy_score_knn)) + 1))"
   ]
  },
  {
   "cell_type": "code",
   "execution_count": 33,
   "metadata": {},
   "outputs": [],
   "source": [
    "# Training the Model as per the Best k Identified by 'for' Loop\n",
    "knn = KNeighborsClassifier(n_neighbors = accuracy_score_knn.index(max(accuracy_score_knn)) + 1)"
   ]
  },
  {
   "cell_type": "code",
   "execution_count": 34,
   "metadata": {},
   "outputs": [
    {
     "data": {
      "text/plain": [
       "KNeighborsClassifier(n_neighbors=7)"
      ]
     },
     "execution_count": 34,
     "metadata": {},
     "output_type": "execute_result"
    }
   ],
   "source": [
    "# Fitting the Model as per the Best k Identified by 'for' Loop\n",
    "knn.fit(X_train, y_train)"
   ]
  },
  {
   "cell_type": "code",
   "execution_count": 35,
   "metadata": {},
   "outputs": [
    {
     "data": {
      "text/plain": [
       "array(['PAIDOFF', 'PAIDOFF', 'PAIDOFF', 'PAIDOFF', 'PAIDOFF', 'PAIDOFF',\n",
       "       'COLLECTION', 'COLLECTION', 'PAIDOFF', 'PAIDOFF'], dtype=object)"
      ]
     },
     "execution_count": 35,
     "metadata": {},
     "output_type": "execute_result"
    }
   ],
   "source": [
    "# Predicting the Model as per the Best k Identified by 'for' Loop\n",
    "knn_yhat = knn.predict(X_test)\n",
    "knn_yhat[0 : 10]"
   ]
  },
  {
   "cell_type": "code",
   "execution_count": 36,
   "metadata": {},
   "outputs": [
    {
     "name": "stdout",
     "output_type": "stream",
     "text": [
      "Train Set - F1 Score:  0.8000194668761034\n",
      "Test Set - F1 Score:  0.7766540244416351\n",
      "\n",
      "\n",
      "Train Set - Jaccard Score:  0.6837994124741442\n",
      "Test Set - Jaccard Score:  0.6627869897959183\n",
      "\n",
      "\n",
      "Train Set - Accuracy Score:  0.8079710144927537\n",
      "Test Set - Accuracy Score:  0.7857142857142857\n"
     ]
    }
   ],
   "source": [
    "# Printing the Metric Scores as per the Best Value of k Identified by 'for' Loop\n",
    "print(\"Train Set - F1 Score: \", f1_score(y_train, knn.predict(X_train), average = 'weighted'))\n",
    "print(\"Test Set - F1 Score: \", f1_score(y_test, knn_yhat, average = 'weighted'))\n",
    "print(\"\\n\")\n",
    "print(\"Train Set - Jaccard Score: \", jaccard_score(y_train, knn.predict(X_train), average = 'weighted'))\n",
    "print(\"Test Set - Jaccard Score: \", jaccard_score(y_test, knn_yhat, average = 'weighted'))\n",
    "print(\"\\n\")\n",
    "print(\"Train Set - Accuracy Score: \", accuracy_score(y_train, knn.predict(X_train)))\n",
    "print(\"Test Set - Accuracy Score: \", accuracy_score(y_test, knn_yhat))"
   ]
  },
  {
   "cell_type": "code",
   "execution_count": 37,
   "metadata": {},
   "outputs": [
    {
     "name": "stdout",
     "output_type": "stream",
     "text": [
      "\n",
      "According to the 3 Search Options above, the K Nearest Neighbour Classifier should have the value of k ('n_neighbors') as: \n",
      "k = 7 as per GridSearchCV, \n",
      "k = 7 as per RandomisedSearchCV and \n",
      "k = 7 as per the 'for' Loop.\n"
     ]
    }
   ],
   "source": [
    "print(\"\\nAccording to the 3 Search Options above, the K Nearest Neighbour Classifier should have the value of k ('n_neighbors') as: \\nk = {} as per GridSearchCV, \\nk = {} as per RandomisedSearchCV and \\nk = {} as per the 'for' Loop.\".format(grid_knn.best_params_['n_neighbors'], random_knn.best_params_['n_neighbors'], accuracy_score_knn.index(max(accuracy_score_knn)) + 1))"
   ]
  },
  {
   "cell_type": "markdown",
   "metadata": {},
   "source": [
    "## As can be seen from above, all the search options identified the best value of 'k' as 7\n",
    "======================================================================================================================="
   ]
  },
  {
   "cell_type": "markdown",
   "metadata": {},
   "source": [
    "## Visualising the Data"
   ]
  },
  {
   "cell_type": "markdown",
   "metadata": {},
   "source": [
    "### Plotting the Values of k V/s F1 Score"
   ]
  },
  {
   "cell_type": "code",
   "execution_count": 38,
   "metadata": {},
   "outputs": [
    {
     "data": {
      "text/plain": [
       "Text(0, 0.5, 'F1 Score')"
      ]
     },
     "execution_count": 38,
     "metadata": {},
     "output_type": "execute_result"
    },
    {
     "data": {
      "image/png": "[encoded data removed]",
      "text/plain": [
       "<Figure size 432x288 with 1 Axes>"
      ]
     },
     "metadata": {
      "needs_background": "light"
     },
     "output_type": "display_data"
    }
   ],
   "source": [
    "plt.plot(ks, f1_score_knn)\n",
    "plt.xlabel('Values of k')\n",
    "plt.ylabel('F1 Score')"
   ]
  },
  {
   "cell_type": "markdown",
   "metadata": {},
   "source": [
    "### Plotting the Values of k V/s Jaccard Score"
   ]
  },
  {
   "cell_type": "code",
   "execution_count": 39,
   "metadata": {},
   "outputs": [
    {
     "data": {
      "text/plain": [
       "Text(0, 0.5, 'Jaccard Score')"
      ]
     },
     "execution_count": 39,
     "metadata": {},
     "output_type": "execute_result"
    },
    {
     "data": {
      "image/png": "[encoded data removed]",
      "text/plain": [
       "<Figure size 432x288 with 1 Axes>"
      ]
     },
     "metadata": {
      "needs_background": "light"
     },
     "output_type": "display_data"
    }
   ],
   "source": [
    "plt.plot(ks, jaccard_score_knn)\n",
    "plt.xlabel('Values of k')\n",
    "plt.ylabel('Jaccard Score')"
   ]
  },
  {
   "cell_type": "markdown",
   "metadata": {},
   "source": [
    "### Plotting the Values of k V/s Accuracy Score"
   ]
  },
  {
   "cell_type": "code",
   "execution_count": 40,
   "metadata": {},
   "outputs": [
    {
     "data": {
      "text/plain": [
       "Text(0, 0.5, 'Accuracy Score')"
      ]
     },
     "execution_count": 40,
     "metadata": {},
     "output_type": "execute_result"
    },
    {
     "data": {
      "image/png": "[encoded data removed]",
      "text/plain": [
       "<Figure size 432x288 with 1 Axes>"
      ]
     },
     "metadata": {
      "needs_background": "light"
     },
     "output_type": "display_data"
    }
   ],
   "source": [
    "plt.plot(ks, accuracy_score_knn)\n",
    "plt.xlabel('Values of k')\n",
    "plt.ylabel('Accuracy Score')"
   ]
  },
  {
   "cell_type": "markdown",
   "metadata": {},
   "source": [
    "## Training the Model with the Best Value of k"
   ]
  },
  {
   "cell_type": "code",
   "execution_count": 41,
   "metadata": {},
   "outputs": [
    {
     "data": {
      "text/plain": [
       "KNeighborsClassifier(n_neighbors=7)"
      ]
     },
     "execution_count": 41,
     "metadata": {},
     "output_type": "execute_result"
    }
   ],
   "source": [
    "# Importing Libraries\n",
    "from sklearn.neighbors import KNeighborsClassifier\n",
    "\n",
    "# KNN Model with the Best Value of k\n",
    "knn = KNeighborsClassifier(n_neighbors = (f1_score_knn.index(max(f1_score_knn)) + 1))\n",
    "knn.fit(X_train, y_train)\n",
    "\n",
    "knn"
   ]
  },
  {
   "cell_type": "markdown",
   "metadata": {},
   "source": [
    "## Predicting the y_hat"
   ]
  },
  {
   "cell_type": "code",
   "execution_count": 42,
   "metadata": {
    "scrolled": true
   },
   "outputs": [
    {
     "data": {
      "text/plain": [
       "array(['PAIDOFF', 'PAIDOFF', 'PAIDOFF', 'PAIDOFF', 'PAIDOFF', 'PAIDOFF',\n",
       "       'COLLECTION', 'COLLECTION', 'PAIDOFF', 'PAIDOFF'], dtype=object)"
      ]
     },
     "execution_count": 42,
     "metadata": {},
     "output_type": "execute_result"
    }
   ],
   "source": [
    "knn_yhat = knn.predict(X_test)\n",
    "knn_yhat[0 : 10]"
   ]
  },
  {
   "cell_type": "markdown",
   "metadata": {},
   "source": [
    "## Plotting the Confusion Matrix"
   ]
  },
  {
   "cell_type": "code",
   "execution_count": 43,
   "metadata": {},
   "outputs": [],
   "source": [
    "# Importing Libraries\n",
    "from sklearn.metrics import classification_report, confusion_matrix\n",
    "import itertools"
   ]
  },
  {
   "cell_type": "code",
   "execution_count": 44,
   "metadata": {},
   "outputs": [],
   "source": [
    "def plot_confusion_matrix(cm, classes,\n",
    "                          normalize=False,\n",
    "                          title='Confusion Matrix',\n",
    "                          cmap=plt.cm.Blues):\n",
    "    \"\"\"\n",
    "    This function prints and plots the confusion matrix.\n",
    "    Normalization can be applied by setting `normalize=True`.\n",
    "    \"\"\"\n",
    "    if normalize:\n",
    "        cm = cm.astype('float') / cm.sum(axis=1)[:, np.newaxis]\n",
    "        print(\"Normalized Confusion Matrix\")\n",
    "    else:\n",
    "        print('Confusion Matrix, without Normalization')\n",
    "\n",
    "    print(cm)\n",
    "\n",
    "    plt.imshow(cm, interpolation='nearest', cmap=cmap)\n",
    "    plt.title(title)\n",
    "    plt.colorbar()\n",
    "    tick_marks = np.arange(len(classes))\n",
    "    plt.xticks(tick_marks, classes, rotation=45)\n",
    "    plt.yticks(tick_marks, classes)\n",
    "\n",
    "    fmt = '.2f' if normalize else 'd'\n",
    "    thresh = cm.max() / 2.\n",
    "    for i, j in itertools.product(range(cm.shape[0]), range(cm.shape[1])):\n",
    "        plt.text(j, i, format(cm[i, j], fmt),\n",
    "                 horizontalalignment=\"center\",\n",
    "                 color=\"white\" if cm[i, j] > thresh else \"black\")\n",
    "\n",
    "    plt.tight_layout()\n",
    "    plt.ylabel('True Labels')\n",
    "    plt.xlabel('Predicted Labels')"
   ]
  },
  {
   "cell_type": "code",
   "execution_count": 45,
   "metadata": {},
   "outputs": [
    {
     "name": "stdout",
     "output_type": "stream",
     "text": [
      "              precision    recall  f1-score   support\n",
      "\n",
      "  COLLECTION       0.50      0.40      0.44        15\n",
      "     PAIDOFF       0.84      0.89      0.87        55\n",
      "\n",
      "    accuracy                           0.79        70\n",
      "   macro avg       0.67      0.65      0.66        70\n",
      "weighted avg       0.77      0.79      0.78        70\n",
      "\n",
      "Confusion Matrix, without Normalization\n",
      "[[ 6  9]\n",
      " [ 6 49]]\n"
     ]
    },
    {
     "data": {
      "image/png": "[encoded data removed]",
      "text/plain": [
       "<Figure size 432x288 with 2 Axes>"
      ]
     },
     "metadata": {
      "needs_background": "light"
     },
     "output_type": "display_data"
    }
   ],
   "source": [
    "# Compute confusion matrix\n",
    "cnf_matrix = confusion_matrix(y_test, knn_yhat)\n",
    "np.set_printoptions(precision=2)\n",
    "\n",
    "print(classification_report(y_test, knn_yhat))\n",
    "\n",
    "# Plot non-normalized confusion matrix\n",
    "plt.figure()\n",
    "plot_confusion_matrix(cnf_matrix, classes=['COLLECTION','PAIDOff'], normalize= False,  title='Confusion Matrix')"
   ]
  },
  {
   "cell_type": "markdown",
   "metadata": {},
   "source": [
    "## Accuracy Evaluation for K Nearest Neighbor\n",
    "\n",
    "In multilabel classification, **accuracy classification score** is a function that computes subset accuracy. This function is equal to the jaccard_score function. Essentially, it calculates how closely the actual labels and predicted labels are matched in the test set."
   ]
  },
  {
   "cell_type": "markdown",
   "metadata": {},
   "source": [
    "### Creating a df of Metric Scores (F1, Jaccard & Accuracy Scores) for the Best Value of k from the 3 Search Options"
   ]
  },
  {
   "cell_type": "code",
   "execution_count": 46,
   "metadata": {},
   "outputs": [],
   "source": [
    "# Metric Scores as per the Best Value of k Identified by the GridSearchCV\n",
    "f1_train_knn_grid = f1_score(y_train, grid_knn.predict(X_train), average = 'weighted')\n",
    "f1_test_knn_grid = f1_score(y_test, knn_yhat_grid, average = 'weighted')\n",
    "\n",
    "jaccard_train_knn_grid = jaccard_score(y_train, grid_knn.predict(X_train), average = 'weighted')\n",
    "jaccard_test_knn_grid = jaccard_score(y_test, knn_yhat_grid, average = 'weighted')\n",
    "\n",
    "accuracy_train_knn_grid = accuracy_score(y_train, grid_knn.predict(X_train))\n",
    "accuracy_test_knn_grid = accuracy_score(y_test, knn_yhat_grid)"
   ]
  },
  {
   "cell_type": "code",
   "execution_count": 47,
   "metadata": {},
   "outputs": [],
   "source": [
    "# Metric Scores as per the Best Value of k Identified by the RandomisedSearchCV\n",
    "f1_train_knn_rcv = f1_score(y_train, random_knn.predict(X_train), average = 'weighted')\n",
    "f1_test_knn_rcv = f1_score(y_test, knn_yhat_rcv, average = 'weighted')\n",
    "\n",
    "jaccard_train_knn_rcv = jaccard_score(y_train, random_knn.predict(X_train), average = 'weighted')\n",
    "jaccard_test_knn_rcv = jaccard_score(y_test, knn_yhat_rcv, average = 'weighted')\n",
    "\n",
    "accuracy_train_knn_rcv = accuracy_score(y_train, random_knn.predict(X_train))\n",
    "accuracy_test_knn_rcv = accuracy_score(y_test, knn_yhat_rcv)"
   ]
  },
  {
   "cell_type": "code",
   "execution_count": 48,
   "metadata": {},
   "outputs": [],
   "source": [
    "# Metric Scores as per the Best Value of k Identified by 'for' Loop\n",
    "f1_train_knn_for = f1_score(y_train, knn.predict(X_train), average = 'weighted')\n",
    "f1_test_knn_for = f1_score(y_test, knn_yhat, average = 'weighted')\n",
    "\n",
    "jaccard_train_knn_for = jaccard_score(y_train, knn.predict(X_train), average = 'weighted')\n",
    "jaccard_test_knn_for = jaccard_score(y_test, knn_yhat, average = 'weighted')\n",
    "\n",
    "accuracy_train_knn_for = accuracy_score(y_train, knn.predict(X_train))\n",
    "accuracy_test_knn_for = accuracy_score(y_test, knn_yhat)"
   ]
  },
  {
   "cell_type": "code",
   "execution_count": 49,
   "metadata": {},
   "outputs": [
    {
     "data": {
      "text/html": [
       "<div>\n",
       "<style scoped>\n",
       "    .dataframe tbody tr th:only-of-type {\n",
       "        vertical-align: middle;\n",
       "    }\n",
       "\n",
       "    .dataframe tbody tr th {\n",
       "        vertical-align: top;\n",
       "    }\n",
       "\n",
       "    .dataframe thead th {\n",
       "        text-align: right;\n",
       "    }\n",
       "</style>\n",
       "<table border=\"1\" class=\"dataframe\">\n",
       "  <thead>\n",
       "    <tr style=\"text-align: right;\">\n",
       "      <th>KNN Scores</th>\n",
       "      <th>GridSearchCV - Train</th>\n",
       "      <th>GridSearchCV - Test</th>\n",
       "      <th>RamdomisedSearchCV - Train</th>\n",
       "      <th>RamdomisedSearchCV - Test</th>\n",
       "      <th>For Loop - Train</th>\n",
       "      <th>For Loop - Test</th>\n",
       "    </tr>\n",
       "  </thead>\n",
       "  <tbody>\n",
       "    <tr>\n",
       "      <th>F1 Score</th>\n",
       "      <td>0.800019</td>\n",
       "      <td>0.776654</td>\n",
       "      <td>0.800019</td>\n",
       "      <td>0.776654</td>\n",
       "      <td>0.800019</td>\n",
       "      <td>0.776654</td>\n",
       "    </tr>\n",
       "    <tr>\n",
       "      <th>Jaccard Score</th>\n",
       "      <td>0.683799</td>\n",
       "      <td>0.662787</td>\n",
       "      <td>0.683799</td>\n",
       "      <td>0.662787</td>\n",
       "      <td>0.683799</td>\n",
       "      <td>0.662787</td>\n",
       "    </tr>\n",
       "    <tr>\n",
       "      <th>Accuracy Score</th>\n",
       "      <td>0.807971</td>\n",
       "      <td>0.785714</td>\n",
       "      <td>0.807971</td>\n",
       "      <td>0.785714</td>\n",
       "      <td>0.807971</td>\n",
       "      <td>0.785714</td>\n",
       "    </tr>\n",
       "  </tbody>\n",
       "</table>\n",
       "</div>"
      ],
      "text/plain": [
       "KNN Scores      GridSearchCV - Train  GridSearchCV - Test  \\\n",
       "F1 Score                    0.800019             0.776654   \n",
       "Jaccard Score               0.683799             0.662787   \n",
       "Accuracy Score              0.807971             0.785714   \n",
       "\n",
       "KNN Scores      RamdomisedSearchCV - Train  RamdomisedSearchCV - Test  \\\n",
       "F1 Score                          0.800019                   0.776654   \n",
       "Jaccard Score                     0.683799                   0.662787   \n",
       "Accuracy Score                    0.807971                   0.785714   \n",
       "\n",
       "KNN Scores      For Loop - Train  For Loop - Test  \n",
       "F1 Score                0.800019         0.776654  \n",
       "Jaccard Score           0.683799         0.662787  \n",
       "Accuracy Score          0.807971         0.785714  "
      ]
     },
     "execution_count": 49,
     "metadata": {},
     "output_type": "execute_result"
    }
   ],
   "source": [
    "knn_scores = {'GridSearchCV - Train' : [f1_train_knn_grid, jaccard_train_knn_grid, accuracy_train_knn_grid],\n",
    "              'GridSearchCV - Test' : [f1_test_knn_grid, jaccard_test_knn_grid, accuracy_test_knn_grid],\n",
    "              'RamdomisedSearchCV - Train' : [f1_train_knn_rcv, jaccard_train_knn_rcv, accuracy_train_knn_rcv],\n",
    "              'RamdomisedSearchCV - Test' : [f1_test_knn_rcv, jaccard_test_knn_rcv, accuracy_test_knn_rcv],\n",
    "              'For Loop - Train' : [f1_train_knn_for, jaccard_train_knn_for, accuracy_train_knn_for],\n",
    "              'For Loop - Test' : [f1_test_knn_for, jaccard_test_knn_for, accuracy_test_knn_for]\n",
    "             }\n",
    "\n",
    "index = ['F1 Score', 'Jaccard Score', 'Accuracy Score']\n",
    "\n",
    "col = ['GridSearchCV - Train', 'GridSearchCV - Test', 'RamdomisedSearchCV - Train', 'RamdomisedSearchCV - Test', 'For Loop - Train', 'For Loop - Test']\n",
    "\n",
    "knn_hyperparameters_df = pd.DataFrame(knn_scores, index = index, columns = col)\n",
    "\n",
    "knn_hyperparameters_df.columns.name = 'KNN Scores'\n",
    "\n",
    "knn_hyperparameters_df"
   ]
  },
  {
   "cell_type": "markdown",
   "metadata": {},
   "source": [
    "## +++++++++++++++++++++++++++++++++++++++++++++++++++++++++++++++++++++"
   ]
  },
  {
   "cell_type": "markdown",
   "metadata": {},
   "source": [
    "# Decision Tree"
   ]
  },
  {
   "cell_type": "code",
   "execution_count": 50,
   "metadata": {},
   "outputs": [],
   "source": [
    "# Importing Libraries\n",
    "from sklearn.tree import DecisionTreeClassifier\n",
    "from sklearn.metrics import f1_score\n",
    "from sklearn.metrics import jaccard_score"
   ]
  },
  {
   "cell_type": "markdown",
   "metadata": {},
   "source": [
    "## Searching for the Best Value of max_depth Using 'for' Loop\n",
    "- When the number of hyperparameters are very less, say, a small range of numbers, then we can also use a simple 'for' loop"
   ]
  },
  {
   "cell_type": "code",
   "execution_count": 51,
   "metadata": {},
   "outputs": [],
   "source": [
    "# Initialising Variables\n",
    "depth_range = range(1, 21) # To find the best value of max_depth\n",
    "f1_score_dt = []\n",
    "jaccard_score_dt = []\n",
    "\n",
    "for d in depth_range:\n",
    "    # Training the Model\n",
    "    dt = DecisionTreeClassifier(criterion = 'gini', max_depth = d)\n",
    "    \n",
    "    # Fitting the Model to the Training Set\n",
    "    dt.fit(X_train, y_train)\n",
    "    \n",
    "    # Predicting the yhat for the Test Set\n",
    "    dt_yhat = dt.predict(X_test)\n",
    "    \n",
    "    # Finding the Accuracy for Different Values of max_depth\n",
    "    f1_score_dt.append(f1_score(y_test, dt_yhat, average = 'weighted'))\n",
    "    jaccard_score_dt.append(jaccard_score(y_test, dt_yhat, average = 'weighted'))"
   ]
  },
  {
   "cell_type": "markdown",
   "metadata": {},
   "source": [
    "### Best Value of max_depth"
   ]
  },
  {
   "cell_type": "code",
   "execution_count": 52,
   "metadata": {},
   "outputs": [
    {
     "name": "stdout",
     "output_type": "stream",
     "text": [
      "max_depth = 1 has an F1 Score of 0.6914285714285714 \n",
      "max_depth = 2 has an F1 Score of 0.6914285714285714 \n",
      "max_depth = 3 has an F1 Score of 0.6445993031358885 \n",
      "max_depth = 4 has an F1 Score of 0.6445993031358885 \n",
      "max_depth = 5 has an F1 Score of 0.6588921282798834 \n",
      "max_depth = 6 has an F1 Score of 0.7238095238095238 \n",
      "max_depth = 7 has an F1 Score of 0.7142857142857142 \n",
      "max_depth = 8 has an F1 Score of 0.7073291925465839 \n",
      "max_depth = 9 has an F1 Score of 0.6709252806813782 \n",
      "max_depth = 10 has an F1 Score of 0.697320223636013 \n",
      "max_depth = 11 has an F1 Score of 0.709430756159728 \n",
      "max_depth = 12 has an F1 Score of 0.7205687830687831 \n",
      "max_depth = 13 has an F1 Score of 0.7371040174778494 \n",
      "max_depth = 14 has an F1 Score of 0.7450238032762304 \n",
      "max_depth = 15 has an F1 Score of 0.7598407784166297 \n",
      "max_depth = 16 has an F1 Score of 0.7181842036210967 \n",
      "max_depth = 17 has an F1 Score of 0.7181842036210967 \n",
      "max_depth = 18 has an F1 Score of 0.7181842036210967 \n",
      "max_depth = 19 has an F1 Score of 0.7181842036210967 \n",
      "max_depth = 20 has an F1 Score of 0.7181842036210967 \n",
      "\n",
      "max_depth = 15 has the Highest F1 Score of 0.7598407784166297 \n",
      "\n",
      "Hence, as per the F1 Score, the Decision Tree Classifier should have the value of max_depth = 15 \n"
     ]
    }
   ],
   "source": [
    "# Best Value of max_depth using F1 Score\n",
    "for d, f in zip(depth_range, f1_score_dt):\n",
    "    print(\"max_depth = {} has an F1 Score of {} \".format(d, f))\n",
    "\n",
    "print(\"\\nmax_depth = {} has the Highest F1 Score of {} \".format(f1_score_dt.index(max(f1_score_dt)) + 1, max(f1_score_dt)))\n",
    "print(\"\\nHence, as per the F1 Score, the Decision Tree Classifier should have the value of max_depth = {} \".format(f1_score_dt.index(max(f1_score_dt)) + 1))"
   ]
  },
  {
   "cell_type": "code",
   "execution_count": 53,
   "metadata": {
    "scrolled": false
   },
   "outputs": [
    {
     "name": "stdout",
     "output_type": "stream",
     "text": [
      "max_depth = 1 has an Jaccard Score of 0.7181842036210967 \n",
      "max_depth = 2 has an Jaccard Score of 0.7181842036210967 \n",
      "max_depth = 3 has an Jaccard Score of 0.7181842036210967 \n",
      "max_depth = 4 has an Jaccard Score of 0.7181842036210967 \n",
      "max_depth = 5 has an Jaccard Score of 0.7181842036210967 \n",
      "max_depth = 6 has an Jaccard Score of 0.7181842036210967 \n",
      "max_depth = 7 has an Jaccard Score of 0.7181842036210967 \n",
      "max_depth = 8 has an Jaccard Score of 0.7181842036210967 \n",
      "max_depth = 9 has an Jaccard Score of 0.7181842036210967 \n",
      "max_depth = 10 has an Jaccard Score of 0.7181842036210967 \n",
      "max_depth = 11 has an Jaccard Score of 0.7181842036210967 \n",
      "max_depth = 12 has an Jaccard Score of 0.7181842036210967 \n",
      "max_depth = 13 has an Jaccard Score of 0.7181842036210967 \n",
      "max_depth = 14 has an Jaccard Score of 0.7181842036210967 \n",
      "max_depth = 15 has an Jaccard Score of 0.7181842036210967 \n",
      "max_depth = 16 has an Jaccard Score of 0.7181842036210967 \n",
      "max_depth = 17 has an Jaccard Score of 0.7181842036210967 \n",
      "max_depth = 18 has an Jaccard Score of 0.7181842036210967 \n",
      "max_depth = 19 has an Jaccard Score of 0.7181842036210967 \n",
      "max_depth = 20 has an Jaccard Score of 0.7181842036210967 \n",
      "\n",
      "max_depth = 15 has the Highest Jaccard Score of 0.626530612244898 \n",
      "\n",
      "Hence, as per the Jaccard Score, the Decision Tree Classifier should have the value of max_depth = 15 \n"
     ]
    }
   ],
   "source": [
    "# Best Value of max_depth using Jaccard Score\n",
    "for d, j in zip(depth_range, jaccard_score_dt):\n",
    "    print(\"max_depth = {} has an Jaccard Score of {} \".format(d, f))\n",
    "\n",
    "print(\"\\nmax_depth = {} has the Highest Jaccard Score of {} \".format(jaccard_score_dt.index(max(jaccard_score_dt)) + 1, max(jaccard_score_dt)))\n",
    "print(\"\\nHence, as per the Jaccard Score, the Decision Tree Classifier should have the value of max_depth = {} \".format(jaccard_score_dt.index(max(jaccard_score_dt)) + 1))"
   ]
  },
  {
   "cell_type": "markdown",
   "metadata": {},
   "source": [
    "### Creating a df to check the best value of max_depth"
   ]
  },
  {
   "cell_type": "code",
   "execution_count": 54,
   "metadata": {},
   "outputs": [
    {
     "data": {
      "text/html": [
       "<div>\n",
       "<style scoped>\n",
       "    .dataframe tbody tr th:only-of-type {\n",
       "        vertical-align: middle;\n",
       "    }\n",
       "\n",
       "    .dataframe tbody tr th {\n",
       "        vertical-align: top;\n",
       "    }\n",
       "\n",
       "    .dataframe thead th {\n",
       "        text-align: right;\n",
       "    }\n",
       "</style>\n",
       "<table border=\"1\" class=\"dataframe\">\n",
       "  <thead>\n",
       "    <tr style=\"text-align: right;\">\n",
       "      <th>Max. Depth</th>\n",
       "      <th>d = 1</th>\n",
       "      <th>d = 2</th>\n",
       "      <th>d = 3</th>\n",
       "      <th>d = 4</th>\n",
       "      <th>d = 5</th>\n",
       "      <th>d = 6</th>\n",
       "      <th>d = 7</th>\n",
       "      <th>d = 8</th>\n",
       "      <th>d = 9</th>\n",
       "      <th>d = 10</th>\n",
       "      <th>d = 11</th>\n",
       "      <th>d = 12</th>\n",
       "      <th>d = 13</th>\n",
       "      <th>d = 14</th>\n",
       "      <th>d = 15</th>\n",
       "      <th>d = 16</th>\n",
       "      <th>d = 17</th>\n",
       "      <th>d = 18</th>\n",
       "      <th>d = 19</th>\n",
       "      <th>d = 20</th>\n",
       "    </tr>\n",
       "  </thead>\n",
       "  <tbody>\n",
       "    <tr>\n",
       "      <th>F1 Score</th>\n",
       "      <td>0.691429</td>\n",
       "      <td>0.691429</td>\n",
       "      <td>0.644599</td>\n",
       "      <td>0.644599</td>\n",
       "      <td>0.658892</td>\n",
       "      <td>0.72381</td>\n",
       "      <td>0.714286</td>\n",
       "      <td>0.707329</td>\n",
       "      <td>0.670925</td>\n",
       "      <td>0.697320</td>\n",
       "      <td>0.709431</td>\n",
       "      <td>0.720569</td>\n",
       "      <td>0.737104</td>\n",
       "      <td>0.745024</td>\n",
       "      <td>0.759841</td>\n",
       "      <td>0.718184</td>\n",
       "      <td>0.718184</td>\n",
       "      <td>0.718184</td>\n",
       "      <td>0.718184</td>\n",
       "      <td>0.718184</td>\n",
       "    </tr>\n",
       "    <tr>\n",
       "      <th>Jaccard Score</th>\n",
       "      <td>0.617347</td>\n",
       "      <td>0.617347</td>\n",
       "      <td>0.493097</td>\n",
       "      <td>0.493097</td>\n",
       "      <td>0.506641</td>\n",
       "      <td>0.62465</td>\n",
       "      <td>0.611842</td>\n",
       "      <td>0.592121</td>\n",
       "      <td>0.520842</td>\n",
       "      <td>0.579123</td>\n",
       "      <td>0.575521</td>\n",
       "      <td>0.589629</td>\n",
       "      <td>0.606445</td>\n",
       "      <td>0.609861</td>\n",
       "      <td>0.626531</td>\n",
       "      <td>0.578699</td>\n",
       "      <td>0.578699</td>\n",
       "      <td>0.578699</td>\n",
       "      <td>0.578699</td>\n",
       "      <td>0.578699</td>\n",
       "    </tr>\n",
       "  </tbody>\n",
       "</table>\n",
       "</div>"
      ],
      "text/plain": [
       "Max. Depth        d = 1     d = 2     d = 3     d = 4     d = 5    d = 6  \\\n",
       "F1 Score       0.691429  0.691429  0.644599  0.644599  0.658892  0.72381   \n",
       "Jaccard Score  0.617347  0.617347  0.493097  0.493097  0.506641  0.62465   \n",
       "\n",
       "Max. Depth        d = 7     d = 8     d = 9    d = 10    d = 11    d = 12  \\\n",
       "F1 Score       0.714286  0.707329  0.670925  0.697320  0.709431  0.720569   \n",
       "Jaccard Score  0.611842  0.592121  0.520842  0.579123  0.575521  0.589629   \n",
       "\n",
       "Max. Depth       d = 13    d = 14    d = 15    d = 16    d = 17    d = 18  \\\n",
       "F1 Score       0.737104  0.745024  0.759841  0.718184  0.718184  0.718184   \n",
       "Jaccard Score  0.606445  0.609861  0.626531  0.578699  0.578699  0.578699   \n",
       "\n",
       "Max. Depth       d = 19    d = 20  \n",
       "F1 Score       0.718184  0.718184  \n",
       "Jaccard Score  0.578699  0.578699  "
      ]
     },
     "execution_count": 54,
     "metadata": {},
     "output_type": "execute_result"
    }
   ],
   "source": [
    "result_dt = pd.DataFrame([f1_score_dt, jaccard_score_dt], index = ['F1 Score', 'Jaccard Score'], columns = ['d = 1','d = 2','d = 3','d = 4','d = 5','d = 6','d = 7','d = 8','d = 9', 'd = 10', 'd = 11', 'd = 12', 'd = 13', 'd = 14', 'd = 15', 'd = 16', 'd = 17', 'd = 18', 'd = 19', 'd = 20'])\n",
    "result_dt.columns.name = 'Max. Depth'\n",
    "result_dt"
   ]
  },
  {
   "cell_type": "code",
   "execution_count": 55,
   "metadata": {},
   "outputs": [
    {
     "name": "stdout",
     "output_type": "stream",
     "text": [
      "\n",
      "According to the above, the Decision Tree Classifier should have the value of max_depth as: \n",
      "max_depth = 15 as per F1 Score and \n",
      "max_depth = 15 as per Jaccard Score.\n"
     ]
    }
   ],
   "source": [
    "print(\"\\nAccording to the above, the Decision Tree Classifier should have the value of max_depth as: \\nmax_depth = {} as per F1 Score and \\nmax_depth = {} as per Jaccard Score.\".format(f1_score_dt.index(max(f1_score_dt)) + 1, jaccard_score_dt.index(max(jaccard_score_dt)) + 1))"
   ]
  },
  {
   "cell_type": "markdown",
   "metadata": {},
   "source": [
    "## Visualising the Data"
   ]
  },
  {
   "cell_type": "markdown",
   "metadata": {},
   "source": [
    "### Plotting the Values of max_depth V/s F1 Score"
   ]
  },
  {
   "cell_type": "code",
   "execution_count": 56,
   "metadata": {},
   "outputs": [
    {
     "data": {
      "text/plain": [
       "Text(0, 0.5, 'F1 Score')"
      ]
     },
     "execution_count": 56,
     "metadata": {},
     "output_type": "execute_result"
    },
    {
     "data": {
      "image/png": "[encoded data removed]",
      "text/plain": [
       "<Figure size 432x288 with 1 Axes>"
      ]
     },
     "metadata": {
      "needs_background": "light"
     },
     "output_type": "display_data"
    }
   ],
   "source": [
    "plt.plot(depth_range, f1_score_dt)\n",
    "plt.xlabel('Values of max_depth')\n",
    "plt.ylabel('F1 Score')"
   ]
  },
  {
   "cell_type": "markdown",
   "metadata": {},
   "source": [
    "### Plotting the Values of max_depth V/s Jaccard Score"
   ]
  },
  {
   "cell_type": "code",
   "execution_count": 57,
   "metadata": {},
   "outputs": [
    {
     "data": {
      "text/plain": [
       "Text(0, 0.5, 'Jaccard Score')"
      ]
     },
     "execution_count": 57,
     "metadata": {},
     "output_type": "execute_result"
    },
    {
     "data": {
      "image/png": "[encoded data removed]",
      "text/plain": [
       "<Figure size 432x288 with 1 Axes>"
      ]
     },
     "metadata": {
      "needs_background": "light"
     },
     "output_type": "display_data"
    }
   ],
   "source": [
    "plt.plot(depth_range, jaccard_score_dt)\n",
    "plt.xlabel('Values of max_depth')\n",
    "plt.ylabel('Jaccard Score')"
   ]
  },
  {
   "cell_type": "code",
   "execution_count": 58,
   "metadata": {},
   "outputs": [
    {
     "name": "stdout",
     "output_type": "stream",
     "text": [
      "Max. Depth as per the Highest F1 Score:  15\n",
      "Max. Depth as per the Highest Jaccard Score:  15\n"
     ]
    }
   ],
   "source": [
    "print(\"Max. Depth as per the Highest F1 Score: \", f1_score_dt.index(max(f1_score_dt)) + 1)\n",
    "print(\"Max. Depth as per the Highest Jaccard Score: \", jaccard_score_dt.index(max(jaccard_score_dt)) + 1)"
   ]
  },
  {
   "cell_type": "markdown",
   "metadata": {},
   "source": [
    "## Training the Model with the Best Value of max_depth"
   ]
  },
  {
   "cell_type": "code",
   "execution_count": 59,
   "metadata": {},
   "outputs": [
    {
     "data": {
      "text/plain": [
       "DecisionTreeClassifier(max_depth=15)"
      ]
     },
     "execution_count": 59,
     "metadata": {},
     "output_type": "execute_result"
    }
   ],
   "source": [
    "# Importing Libraries\n",
    "from sklearn.tree import DecisionTreeClassifier\n",
    "\n",
    "# Decision Tree Model with the Best Value of max_depth\n",
    "dt = DecisionTreeClassifier(criterion = 'gini', max_depth = (f1_score_dt.index(max(f1_score_dt)) + 1))\n",
    "\n",
    "# Fitting the Model to the Training Set\n",
    "dt.fit(X_train, y_train)\n",
    "                     \n",
    "dt"
   ]
  },
  {
   "cell_type": "markdown",
   "metadata": {},
   "source": [
    "## Predicting the y_hat"
   ]
  },
  {
   "cell_type": "code",
   "execution_count": 60,
   "metadata": {
    "scrolled": true
   },
   "outputs": [
    {
     "data": {
      "text/plain": [
       "array(['PAIDOFF', 'PAIDOFF', 'PAIDOFF', 'PAIDOFF', 'PAIDOFF', 'PAIDOFF',\n",
       "       'COLLECTION', 'COLLECTION', 'PAIDOFF', 'PAIDOFF'], dtype=object)"
      ]
     },
     "execution_count": 60,
     "metadata": {},
     "output_type": "execute_result"
    }
   ],
   "source": [
    "dt_yhat = dt.predict(X_test)\n",
    "dt_yhat[0 : 10]"
   ]
  },
  {
   "cell_type": "markdown",
   "metadata": {},
   "source": [
    "## Plotting the Confusion Matrix"
   ]
  },
  {
   "cell_type": "code",
   "execution_count": 61,
   "metadata": {},
   "outputs": [],
   "source": [
    "# Importing Libraries\n",
    "from sklearn.metrics import classification_report, confusion_matrix\n",
    "import itertools"
   ]
  },
  {
   "cell_type": "code",
   "execution_count": 62,
   "metadata": {},
   "outputs": [],
   "source": [
    "def plot_confusion_matrix(cm, classes,\n",
    "                          normalize=False,\n",
    "                          title='Confusion Matrix',\n",
    "                          cmap=plt.cm.Blues):\n",
    "    \"\"\"\n",
    "    This function prints and plots the confusion matrix.\n",
    "    Normalization can be applied by setting `normalize=True`.\n",
    "    \"\"\"\n",
    "    if normalize:\n",
    "        cm = cm.astype('float') / cm.sum(axis=1)[:, np.newaxis]\n",
    "        print(\"Normalized Confusion Matrix\")\n",
    "    else:\n",
    "        print('Confusion Matrix, without Normalization')\n",
    "\n",
    "    print(cm)\n",
    "\n",
    "    plt.imshow(cm, interpolation='nearest', cmap=cmap)\n",
    "    plt.title(title)\n",
    "    plt.colorbar()\n",
    "    tick_marks = np.arange(len(classes))\n",
    "    plt.xticks(tick_marks, classes, rotation=45)\n",
    "    plt.yticks(tick_marks, classes)\n",
    "\n",
    "    fmt = '.2f' if normalize else 'd'\n",
    "    thresh = cm.max() / 2.\n",
    "    for i, j in itertools.product(range(cm.shape[0]), range(cm.shape[1])):\n",
    "        plt.text(j, i, format(cm[i, j], fmt),\n",
    "                 horizontalalignment=\"center\",\n",
    "                 color=\"white\" if cm[i, j] > thresh else \"black\")\n",
    "\n",
    "    plt.tight_layout()\n",
    "    plt.ylabel('True Labels')\n",
    "    plt.xlabel('Predicted Labels')"
   ]
  },
  {
   "cell_type": "code",
   "execution_count": 63,
   "metadata": {},
   "outputs": [
    {
     "name": "stdout",
     "output_type": "stream",
     "text": [
      "              precision    recall  f1-score   support\n",
      "\n",
      "  COLLECTION       0.43      0.67      0.53        15\n",
      "     PAIDOFF       0.89      0.76      0.82        55\n",
      "\n",
      "    accuracy                           0.74        70\n",
      "   macro avg       0.66      0.72      0.67        70\n",
      "weighted avg       0.80      0.74      0.76        70\n",
      "\n",
      "Confusion Matrix, without Normalization\n",
      "[[10  5]\n",
      " [13 42]]\n"
     ]
    },
    {
     "data": {
      "image/png": "[encoded data removed]",
      "text/plain": [
       "<Figure size 432x288 with 2 Axes>"
      ]
     },
     "metadata": {
      "needs_background": "light"
     },
     "output_type": "display_data"
    }
   ],
   "source": [
    "# Compute confusion matrix\n",
    "cnf_matrix = confusion_matrix(y_test, dt_yhat)\n",
    "np.set_printoptions(precision=2)\n",
    "\n",
    "print(classification_report(y_test, dt_yhat))\n",
    "\n",
    "# Plot non-normalized confusion matrix\n",
    "plt.figure()\n",
    "plot_confusion_matrix(cnf_matrix, classes=['COLLECTION','PAIDOff'], normalize= False,  title='Confusion Matrix')"
   ]
  },
  {
   "cell_type": "markdown",
   "metadata": {},
   "source": [
    "## Accuracy Evaluation for Decision Tree\n",
    "\n",
    "In multilabel classification, **accuracy classification score** is a function that computes subset accuracy. This function is equal to the jaccard_score function. Essentially, it calculates how closely the actual labels and predicted labels are matched in the test set."
   ]
  },
  {
   "cell_type": "code",
   "execution_count": 64,
   "metadata": {},
   "outputs": [],
   "source": [
    "# Metric Scores as per the Best Value of max_depth Identified by 'for' Loop\n",
    "f1_train_dt_for = f1_score(y_train, dt.predict(X_train), average = 'weighted')\n",
    "f1_test_dt_for = f1_score(y_test, dt_yhat, average = 'weighted')\n",
    "\n",
    "jaccard_train_dt_for = jaccard_score(y_train, dt.predict(X_train), average = 'weighted')\n",
    "jaccard_test_dt_for = jaccard_score(y_test, dt_yhat, average = 'weighted')\n",
    "\n",
    "accuracy_train_dt_for = accuracy_score(y_train, dt.predict(X_train))\n",
    "accuracy_test_dt_for = accuracy_score(y_test, dt_yhat)"
   ]
  },
  {
   "cell_type": "code",
   "execution_count": 65,
   "metadata": {},
   "outputs": [
    {
     "data": {
      "text/html": [
       "<div>\n",
       "<style scoped>\n",
       "    .dataframe tbody tr th:only-of-type {\n",
       "        vertical-align: middle;\n",
       "    }\n",
       "\n",
       "    .dataframe tbody tr th {\n",
       "        vertical-align: top;\n",
       "    }\n",
       "\n",
       "    .dataframe thead th {\n",
       "        text-align: right;\n",
       "    }\n",
       "</style>\n",
       "<table border=\"1\" class=\"dataframe\">\n",
       "  <thead>\n",
       "    <tr style=\"text-align: right;\">\n",
       "      <th>Decision Tree Scores</th>\n",
       "      <th>Train</th>\n",
       "      <th>Test</th>\n",
       "    </tr>\n",
       "  </thead>\n",
       "  <tbody>\n",
       "    <tr>\n",
       "      <th>F1 Score</th>\n",
       "      <td>0.899007</td>\n",
       "      <td>0.759841</td>\n",
       "    </tr>\n",
       "    <tr>\n",
       "      <th>Jaccard Score</th>\n",
       "      <td>0.820846</td>\n",
       "      <td>0.626531</td>\n",
       "    </tr>\n",
       "    <tr>\n",
       "      <th>Accuracy Score</th>\n",
       "      <td>0.898551</td>\n",
       "      <td>0.742857</td>\n",
       "    </tr>\n",
       "  </tbody>\n",
       "</table>\n",
       "</div>"
      ],
      "text/plain": [
       "Decision Tree Scores     Train      Test\n",
       "F1 Score              0.899007  0.759841\n",
       "Jaccard Score         0.820846  0.626531\n",
       "Accuracy Score        0.898551  0.742857"
      ]
     },
     "execution_count": 65,
     "metadata": {},
     "output_type": "execute_result"
    }
   ],
   "source": [
    "dt_scores = {'Train' : [f1_train_dt_for, jaccard_train_dt_for, accuracy_train_dt_for],\n",
    "              'Test' : [f1_test_dt_for, jaccard_test_dt_for, accuracy_test_dt_for]\n",
    "             }\n",
    "\n",
    "index = ['F1 Score', 'Jaccard Score', 'Accuracy Score']\n",
    "\n",
    "col = ['Train', 'Test']\n",
    "\n",
    "dt_hyperparameters_df = pd.DataFrame(dt_scores, index = index, columns = col)\n",
    "\n",
    "dt_hyperparameters_df.columns.name = 'Decision Tree Scores'\n",
    "\n",
    "dt_hyperparameters_df"
   ]
  },
  {
   "cell_type": "markdown",
   "metadata": {},
   "source": [
    "## +++++++++++++++++++++++++++++++++++++++++++++++++++++++++++++++++++++"
   ]
  },
  {
   "cell_type": "markdown",
   "metadata": {},
   "source": [
    "# Support Vector Machine\n"
   ]
  },
  {
   "cell_type": "code",
   "execution_count": 66,
   "metadata": {},
   "outputs": [],
   "source": [
    "# Importing Libraries\n",
    "from sklearn.svm import SVC\n",
    "from sklearn.metrics import f1_score\n",
    "from sklearn.metrics import jaccard_score\n",
    "import matplotlib.pyplot as plt\n",
    "%matplotlib inline"
   ]
  },
  {
   "cell_type": "markdown",
   "metadata": {},
   "source": [
    "## Option 1) Searching for the Best Hyperparameters Using GridSearchCV\n",
    "- With small data sets and lots of resources, Grid Search will produce accurate results\n",
    "- However, with large data sets, the high dimensions will greatly slow down computation time in Grid Search and be very costly\n",
    "- In this approach, since every combination of the hyperparameter values is tried, the process takes a lot of time and is, hence, very inefficient\n",
    "- Therefore, this search is to be used only when the number of hyperparameters to be searched are less\n",
    "- In case the number of hyperparameters are more, it is advised to use RandomizedSearchCV\n",
    "- We can use the GridSearchCV to search for the best values of different hyperparameters in the SVM Algorithm like 'C', 'kernel', 'degree', etc."
   ]
  },
  {
   "cell_type": "code",
   "execution_count": 67,
   "metadata": {
    "scrolled": false
   },
   "outputs": [
    {
     "name": "stdout",
     "output_type": "stream",
     "text": [
      "Fitting 10 folds for each of 800 candidates, totalling 8000 fits\n"
     ]
    },
    {
     "name": "stderr",
     "output_type": "stream",
     "text": [
      "C:\\Users\\Admin\\anaconda3\\lib\\site-packages\\sklearn\\model_selection\\_search.py:918: UserWarning: One or more of the test scores are non-finite: [ nan  nan  nan  nan  nan  nan  nan  nan  nan  nan  nan  nan  nan  nan\n",
      "  nan  nan  nan  nan  nan  nan  nan  nan  nan  nan  nan  nan  nan  nan\n",
      "  nan  nan  nan  nan  nan  nan  nan  nan  nan  nan  nan  nan  nan  nan\n",
      "  nan  nan  nan  nan  nan  nan  nan  nan  nan  nan  nan  nan  nan  nan\n",
      "  nan  nan  nan  nan  nan  nan  nan  nan  nan  nan  nan  nan  nan  nan\n",
      "  nan  nan  nan  nan  nan  nan  nan  nan  nan  nan 0.74 0.74 0.74 0.74\n",
      " 0.74 0.74 0.74 0.74 0.74 0.74 0.74 0.74 0.74 0.74 0.74 0.74 0.74 0.74\n",
      " 0.75 0.74 0.74 0.74 0.74 0.74 0.74 0.74 0.74 0.74 0.74 0.74 0.73 0.74\n",
      " 0.74 0.74 0.73 0.74 0.74 0.74 0.74 0.74 0.74 0.74 0.74 0.74 0.74 0.74\n",
      " 0.74 0.74 0.74 0.74 0.74 0.74 0.74 0.74 0.74 0.74 0.74 0.74 0.75 0.74\n",
      " 0.74 0.74 0.74 0.74 0.74 0.74 0.74 0.74 0.74 0.74 0.74 0.74 0.74 0.74\n",
      " 0.74 0.74 0.74 0.74 0.74 0.74 0.74 0.72 0.74 0.74 0.74 0.72 0.74 0.74\n",
      " 0.74 0.72 0.74 0.74 0.74 0.72 0.74 0.74 0.74 0.72 0.74 0.74 0.74 0.72\n",
      " 0.74 0.74 0.74 0.72 0.74 0.74 0.74 0.72 0.73 0.74 0.74 0.72 0.72 0.74\n",
      " 0.74 0.72 0.74 0.74 0.74 0.72 0.73 0.74 0.74 0.72 0.73 0.74 0.74 0.72\n",
      " 0.75 0.74 0.74 0.72 0.74 0.74 0.74 0.72 0.74 0.74 0.74 0.72 0.74 0.74\n",
      " 0.74 0.72 0.74 0.74 0.74 0.72 0.74 0.74 0.74 0.72 0.74 0.74 0.74 0.72\n",
      " 0.74 0.74 0.74 0.72 0.74 0.74 0.74 0.72 0.74 0.74 0.74 0.72 0.74 0.74\n",
      " 0.74 0.72 0.74 0.74 0.74 0.72 0.74 0.74 0.74 0.72 0.74 0.74 0.74 0.72\n",
      " 0.73 0.74 0.74 0.72 0.73 0.74 0.74 0.72 0.73 0.74 0.74 0.72 0.73 0.74\n",
      " 0.74 0.72 0.74 0.74 0.74 0.72 0.74 0.74 0.74 0.72 0.74 0.74 0.74 0.72\n",
      " 0.74 0.74 0.74 0.72 0.74 0.74 0.74 0.72 0.74 0.74 0.74 0.72 0.74 0.74\n",
      " 0.74 0.72 0.74 0.74 0.74 0.72 0.74 0.74 0.74 0.72 0.74 0.74 0.73 0.72\n",
      " 0.74 0.74 0.73 0.72 0.74 0.74 0.73 0.72 0.74 0.74 0.73 0.72 0.74 0.74\n",
      " 0.73 0.72 0.73 0.74 0.73 0.72 0.73 0.74 0.73 0.72 0.73 0.74 0.73 0.72\n",
      " 0.73 0.74 0.73 0.72 0.73 0.74 0.73 0.72 0.73 0.74 0.73 0.72 0.74 0.74\n",
      " 0.73 0.72 0.74 0.74 0.73 0.72 0.74 0.74 0.73 0.72 0.73 0.74 0.73 0.72\n",
      " 0.74 0.74 0.73 0.72 0.73 0.74 0.73 0.72 0.74 0.74 0.73 0.72 0.74 0.74\n",
      " 0.73 0.72 0.74 0.74 0.73 0.72 0.74 0.74 0.73 0.71 0.74 0.71 0.73 0.71\n",
      " 0.74 0.71 0.73 0.71 0.74 0.71 0.73 0.71 0.74 0.71 0.73 0.71 0.73 0.71\n",
      " 0.73 0.71 0.72 0.71 0.73 0.71 0.72 0.71 0.73 0.71 0.72 0.71 0.73 0.71\n",
      " 0.73 0.71 0.73 0.71 0.74 0.71 0.73 0.71 0.74 0.71 0.73 0.71 0.74 0.71\n",
      " 0.73 0.71 0.74 0.71 0.73 0.71 0.73 0.71 0.73 0.71 0.73 0.71 0.73 0.71\n",
      " 0.73 0.71 0.73 0.71 0.74 0.71 0.73 0.71 0.74 0.71 0.73 0.71 0.74 0.71\n",
      " 0.73 0.71 0.74 0.71 0.72 0.7  0.74 0.71 0.72 0.7  0.74 0.71 0.72 0.7\n",
      " 0.73 0.71 0.72 0.7  0.74 0.71 0.72 0.7  0.73 0.71 0.72 0.7  0.72 0.71\n",
      " 0.72 0.7  0.73 0.71 0.72 0.7  0.72 0.71 0.72 0.7  0.73 0.71 0.72 0.7\n",
      " 0.73 0.71 0.72 0.7  0.74 0.71 0.72 0.7  0.74 0.71 0.72 0.7  0.74 0.71\n",
      " 0.72 0.7  0.73 0.71 0.72 0.7  0.73 0.71 0.72 0.7  0.73 0.71 0.72 0.7\n",
      " 0.74 0.71 0.72 0.7  0.74 0.71 0.72 0.7  0.74 0.71 0.72 0.7  0.73 0.71\n",
      " 0.72 0.7  0.74 0.7  0.72 0.7  0.74 0.7  0.72 0.7  0.73 0.7  0.72 0.7\n",
      " 0.74 0.7  0.72 0.7  0.74 0.7  0.72 0.7  0.72 0.7  0.72 0.7  0.73 0.7\n",
      " 0.72 0.7  0.73 0.7  0.72 0.7  0.74 0.7  0.72 0.7  0.74 0.7  0.72 0.7\n",
      " 0.74 0.7  0.72 0.7  0.74 0.7  0.72 0.7  0.74 0.7  0.72 0.7  0.73 0.7\n",
      " 0.72 0.7  0.74 0.7  0.72 0.7  0.74 0.7  0.72 0.7  0.74 0.7  0.72 0.7\n",
      " 0.74 0.7  0.72 0.7  0.74 0.7  0.72 0.7  0.74 0.7  0.72 0.7  0.74 0.7\n",
      " 0.72 0.7  0.74 0.7  0.72 0.7  0.73 0.7  0.72 0.7  0.74 0.7  0.72 0.7\n",
      " 0.73 0.7  0.72 0.7  0.73 0.7  0.72 0.7  0.73 0.7  0.72 0.7  0.73 0.7\n",
      " 0.72 0.7  0.73 0.7  0.72 0.7  0.74 0.7  0.72 0.7  0.74 0.7  0.72 0.7\n",
      " 0.74 0.7  0.72 0.7  0.74 0.7  0.72 0.7  0.73 0.7  0.72 0.7  0.74 0.7\n",
      " 0.72 0.7  0.74 0.7  0.72 0.7  0.74 0.7  0.72 0.7  0.74 0.7  0.72 0.7\n",
      " 0.74 0.7  0.72 0.7  0.74 0.7  0.72 0.7  0.74 0.72 0.72 0.7  0.74 0.72\n",
      " 0.72 0.7  0.72 0.72 0.72 0.7  0.74 0.72 0.72 0.7  0.73 0.72 0.72 0.7\n",
      " 0.72 0.72 0.72 0.7  0.73 0.72 0.72 0.7  0.73 0.72 0.72 0.7  0.74 0.72\n",
      " 0.72 0.7  0.74 0.72 0.72 0.7  0.74 0.72 0.72 0.7  0.74 0.72 0.72 0.7\n",
      " 0.74 0.72 0.72 0.7  0.73 0.72 0.72 0.7  0.74 0.72 0.72 0.7  0.73 0.72\n",
      " 0.72 0.7  0.74 0.72 0.72 0.7  0.74 0.72 0.72 0.7  0.74 0.72 0.72 0.7\n",
      " 0.74 0.72]\n",
      "  warnings.warn(\n"
     ]
    },
    {
     "data": {
      "text/plain": [
       "GridSearchCV(cv=10, estimator=SVC(), n_jobs=-1,\n",
       "             param_grid={'C': array([0. , 0.1, 0.2, 0.3, 0.4, 0.5, 0.6, 0.7, 0.8, 0.9]),\n",
       "                         'degree': range(1, 21),\n",
       "                         'kernel': ['sigmoid', 'linear', 'poly', 'rbf']},\n",
       "             scoring='accuracy', verbose=1)"
      ]
     },
     "execution_count": 67,
     "metadata": {},
     "output_type": "execute_result"
    }
   ],
   "source": [
    "svc = SVC()\n",
    "\n",
    "params = {\n",
    "            'C' : np.arange(0, 1, 0.1),\n",
    "            'kernel' : ['sigmoid', 'linear', 'poly', 'rbf'],\n",
    "            'degree' : range(1, 21)\n",
    "        }\n",
    "\n",
    "grid_svc = GridSearchCV(estimator = svc,\n",
    "                        param_grid = params,\n",
    "                        scoring = 'accuracy',\n",
    "                        cv = 10,\n",
    "                        verbose = 1,\n",
    "                        n_jobs = -1)\n",
    "\n",
    "# Fitting the Model as per the Hyperparameters Identified by the GridSearchCV\n",
    "grid_svc.fit(X_train, y_train)"
   ]
  },
  {
   "cell_type": "code",
   "execution_count": 68,
   "metadata": {},
   "outputs": [
    {
     "name": "stdout",
     "output_type": "stream",
     "text": [
      "{'C': 0.1, 'degree': 15, 'kernel': 'poly'}\n"
     ]
    }
   ],
   "source": [
    "# Extracting Best Parameters\n",
    "print(grid_svc.best_params_)"
   ]
  },
  {
   "cell_type": "code",
   "execution_count": 69,
   "metadata": {},
   "outputs": [
    {
     "name": "stdout",
     "output_type": "stream",
     "text": [
      "0.7571428571428571\n"
     ]
    }
   ],
   "source": [
    "# Score for the Best Fit\n",
    "print(grid_svc.score(X_test, y_test))"
   ]
  },
  {
   "cell_type": "markdown",
   "metadata": {},
   "source": [
    "### Training the Model Using Results from GridSearchCV"
   ]
  },
  {
   "cell_type": "code",
   "execution_count": 70,
   "metadata": {},
   "outputs": [
    {
     "data": {
      "text/plain": [
       "SVC(C=0.1, degree=15, kernel='poly')"
      ]
     },
     "execution_count": 70,
     "metadata": {},
     "output_type": "execute_result"
    }
   ],
   "source": [
    "# Importing Libraries\n",
    "from sklearn.svm import SVC\n",
    "\n",
    "# Support Vector Machine Model with the Best Hyperparameters\n",
    "svc_model_grid = SVC(kernel = grid_svc.best_params_['kernel'], C = grid_svc.best_params_['C'], degree = grid_svc.best_params_['degree'])\n",
    "\n",
    "# Fitting the Model to the Training Set\n",
    "svc_model_grid.fit(X_train, y_train)\n",
    "\n",
    "svc_model_grid"
   ]
  },
  {
   "cell_type": "markdown",
   "metadata": {},
   "source": [
    "### Predicting the y_hat Using Results from GridSearchCV"
   ]
  },
  {
   "cell_type": "code",
   "execution_count": 71,
   "metadata": {},
   "outputs": [
    {
     "data": {
      "text/plain": [
       "array(['PAIDOFF', 'PAIDOFF', 'PAIDOFF', 'PAIDOFF', 'PAIDOFF', 'PAIDOFF',\n",
       "       'PAIDOFF', 'PAIDOFF', 'PAIDOFF', 'PAIDOFF'], dtype=object)"
      ]
     },
     "execution_count": 71,
     "metadata": {},
     "output_type": "execute_result"
    }
   ],
   "source": [
    "svc_yhat_grid = svc_model_grid.predict(X_test)\n",
    "svc_yhat_grid[0 : 10]"
   ]
  },
  {
   "cell_type": "code",
   "execution_count": 72,
   "metadata": {
    "scrolled": true
   },
   "outputs": [
    {
     "name": "stdout",
     "output_type": "stream",
     "text": [
      "0.7571428571428571\n"
     ]
    }
   ],
   "source": [
    "print(svc_model_grid.score(X_test, y_test))"
   ]
  },
  {
   "cell_type": "markdown",
   "metadata": {},
   "source": [
    "### Plotting the Confusion Matrix Using Results from GridSearchCV"
   ]
  },
  {
   "cell_type": "code",
   "execution_count": 73,
   "metadata": {},
   "outputs": [
    {
     "name": "stdout",
     "output_type": "stream",
     "text": [
      "              precision    recall  f1-score   support\n",
      "\n",
      "  COLLECTION       0.25      0.07      0.11        15\n",
      "     PAIDOFF       0.79      0.95      0.86        55\n",
      "\n",
      "    accuracy                           0.76        70\n",
      "   macro avg       0.52      0.51      0.48        70\n",
      "weighted avg       0.67      0.76      0.70        70\n",
      "\n",
      "Confusion Matrix, without Normalization\n",
      "[[ 1 14]\n",
      " [ 3 52]]\n"
     ]
    },
    {
     "data": {
      "image/png": "[encoded data removed]",
      "text/plain": [
       "<Figure size 432x288 with 2 Axes>"
      ]
     },
     "metadata": {
      "needs_background": "light"
     },
     "output_type": "display_data"
    }
   ],
   "source": [
    "# Compute confusion matrix\n",
    "cnf_matrix_grid = confusion_matrix(y_test, svc_yhat_grid)\n",
    "np.set_printoptions(precision=2)\n",
    "\n",
    "print(classification_report(y_test, svc_yhat_grid))\n",
    "\n",
    "# Plot non-normalized confusion matrix\n",
    "plt.figure()\n",
    "plot_confusion_matrix(cnf_matrix_grid, classes=['COLLECTION','PAIDOff'], normalize= False,  title='Confusion Matrix')"
   ]
  },
  {
   "cell_type": "markdown",
   "metadata": {},
   "source": [
    "### Accuracy Evaluation Using Results from GridSearchCV\n",
    "\n",
    "In multilabel classification, **accuracy classification score** is a function that computes subset accuracy. This function is equal to the jaccard_score function. Essentially, it calculates how closely the actual labels and predicted labels are matched in the test set."
   ]
  },
  {
   "cell_type": "code",
   "execution_count": 74,
   "metadata": {},
   "outputs": [],
   "source": [
    "# Metric Scores as per the Best Values of Hypermeters Identified by the GridSearchCV\n",
    "f1_train_svc_grid = f1_score(y_train, svc_model_grid.predict(X_train), average = 'weighted')\n",
    "f1_test_svc_grid = f1_score(y_test, svc_yhat_grid, average = 'weighted')\n",
    "\n",
    "jaccard_train_svc_grid = jaccard_score(y_train, svc_model_grid.predict(X_train), average = 'weighted')\n",
    "jaccard_test_svc_grid = jaccard_score(y_test, svc_yhat_grid, average = 'weighted')\n",
    "\n",
    "accuracy_train_svc_grid = accuracy_score(y_train, svc_model_grid.predict(X_train))\n",
    "accuracy_test_svc_grid = accuracy_score(y_test, svc_yhat_grid)"
   ]
  },
  {
   "cell_type": "code",
   "execution_count": 75,
   "metadata": {},
   "outputs": [
    {
     "name": "stdout",
     "output_type": "stream",
     "text": [
      "Train Set F1 Score Using Results from GridSearchCV:  0.7466550815501339\n",
      "Test Set F1 Score Using Results from GridSearchCV:  0.6978810663021189\n",
      "\n",
      "\n",
      "Score Train Set Jaccard Score Using Results from GridSearchCV:  0.639941781246129\n",
      "Test Set Jaccard Score Using Results from GridSearchCV:  0.6040372670807455\n",
      "\n",
      "\n",
      "Train Set Accuracy Score Using Results from GridSearchCV:  0.7971014492753623\n",
      "Test Set Accuracy Score Using Results from GridSearchCV:  0.7571428571428571\n"
     ]
    }
   ],
   "source": [
    "print(\"Train Set F1 Score Using Results from GridSearchCV: \", f1_train_svc_grid)\n",
    "print(\"Test Set F1 Score Using Results from GridSearchCV: \", f1_test_svc_grid)\n",
    "print(\"\\n\")\n",
    "print(\"Score Train Set Jaccard Score Using Results from GridSearchCV: \", jaccard_train_svc_grid)\n",
    "print(\"Test Set Jaccard Score Using Results from GridSearchCV: \", jaccard_test_svc_grid)\n",
    "print(\"\\n\")\n",
    "print(\"Train Set Accuracy Score Using Results from GridSearchCV: \", accuracy_train_svc_grid)\n",
    "print(\"Test Set Accuracy Score Using Results from GridSearchCV: \", accuracy_test_svc_grid)"
   ]
  },
  {
   "cell_type": "markdown",
   "metadata": {},
   "source": [
    "## Option 2) Searching for the Best Hyperparameters Using RandomisedSearchCV\n",
    "- This search is to be used when the number of hyperparameters to be searched are more\n",
    "- While it’s possible that RandomizedSearchCV will not find as accurate of a result as GridSearchCV, but it surprisingly picks the best result more often than not and in a fraction of the time it takes for GridSearchCV\n",
    "- With small data sets and lots of resources, Grid Search will produce accurate results\n",
    "- However, with large data sets, the high dimensions will greatly slow down computation time in Grid Search and hence, turn out to be very costly\n",
    "- In such a case (when there are a lot of hyperparameters to be searched), it is advised to use Randomized Search\n",
    "- Similar to the GridSearchCV, We can use this option to search for the best values of different hyperparameters in the SVM Algorithm like 'C', 'kernel', 'degree', 'gamma', etc.\n",
    "- Note: For this option, 'random_state' is to be used so that the results remain constant and does not change every time this Search option is run"
   ]
  },
  {
   "cell_type": "code",
   "execution_count": 76,
   "metadata": {},
   "outputs": [
    {
     "name": "stdout",
     "output_type": "stream",
     "text": [
      "Fitting 10 folds for each of 10 candidates, totalling 100 fits\n"
     ]
    },
    {
     "data": {
      "text/plain": [
       "RandomizedSearchCV(cv=10, estimator=SVC(), n_jobs=-1,\n",
       "                   param_distributions={'C': array([0.  , 0.  , 0.  , 0.  , 0.  , 0.01, 0.01, 0.01, 0.01, 0.01, 0.01,\n",
       "       0.01, 0.01, 0.01, 0.01, 0.01, 0.02, 0.02, 0.02, 0.02, 0.02, 0.02,\n",
       "       0.02, 0.02, 0.02, 0.03, 0.03, 0.03, 0.03, 0.03, 0.03, 0.03, 0.03,\n",
       "       0.03, 0.03, 0.04, 0.04, 0.04, 0.04, 0.04, 0.04, 0.04, 0.04, 0.04,\n",
       "       0.04, 0.04, 0.05, 0.05, 0.05, 0.05, 0.05, 0.05, 0.05, 0.05, 0.05,\n",
       "       0....\n",
       "       0.95, 0.95, 0.95, 0.95, 0.95, 0.95, 0.95, 0.95, 0.95, 0.96, 0.96,\n",
       "       0.96, 0.96, 0.96, 0.96, 0.96, 0.96, 0.96, 0.96, 0.96, 0.97, 0.97,\n",
       "       0.97, 0.97, 0.97, 0.97, 0.97, 0.97, 0.97, 0.97, 0.98, 0.98, 0.98,\n",
       "       0.98, 0.98, 0.98, 0.98, 0.98, 0.98, 0.98, 0.99, 0.99, 0.99, 0.99,\n",
       "       0.99, 0.99, 0.99, 0.99, 0.99, 0.99, 1.  , 1.  , 1.  , 1.  ]),\n",
       "                                        'degree': range(1, 21),\n",
       "                                        'gamma': ['scale', 'auto'],\n",
       "                                        'kernel': ['sigmoid', 'linear', 'poly',\n",
       "                                                   'rbf']},\n",
       "                   random_state=5, scoring='accuracy', verbose=1)"
      ]
     },
     "execution_count": 76,
     "metadata": {},
     "output_type": "execute_result"
    }
   ],
   "source": [
    "svc = SVC()\n",
    "\n",
    "params = {\n",
    "            'C' : np.arange(0, 1, 0.001),\n",
    "            'kernel' : ['sigmoid', 'linear', 'poly', 'rbf'],\n",
    "            'degree' : range(1, 21),\n",
    "            'gamma' : ['scale', 'auto']\n",
    "        }\n",
    "\n",
    "random_svc = RandomizedSearchCV(estimator = svc,\n",
    "                        param_distributions = params,\n",
    "                        scoring = 'accuracy',\n",
    "                        cv = 10,\n",
    "                        verbose = 1,\n",
    "                        n_jobs = -1,\n",
    "                        random_state = 5)\n",
    "\n",
    "# Fitting the Model as per the Hyperparameters Identified by the RandomisedSearchCV\n",
    "random_svc.fit(X_train, y_train)"
   ]
  },
  {
   "cell_type": "code",
   "execution_count": 77,
   "metadata": {},
   "outputs": [
    {
     "name": "stdout",
     "output_type": "stream",
     "text": [
      "{'kernel': 'rbf', 'gamma': 'scale', 'degree': 1, 'C': 0.223}\n"
     ]
    }
   ],
   "source": [
    "# Extracting Best Parameters\n",
    "print(random_svc.best_params_)"
   ]
  },
  {
   "cell_type": "code",
   "execution_count": 78,
   "metadata": {},
   "outputs": [
    {
     "name": "stdout",
     "output_type": "stream",
     "text": [
      "0.7857142857142857\n"
     ]
    }
   ],
   "source": [
    "# Score for the Best Fit\n",
    "print(random_svc.score(X_test, y_test))"
   ]
  },
  {
   "cell_type": "markdown",
   "metadata": {},
   "source": [
    "### Training the Model Using Results from RandomisedSearchCV"
   ]
  },
  {
   "cell_type": "code",
   "execution_count": 79,
   "metadata": {},
   "outputs": [
    {
     "data": {
      "text/plain": [
       "SVC(C=0.223, degree=1)"
      ]
     },
     "execution_count": 79,
     "metadata": {},
     "output_type": "execute_result"
    }
   ],
   "source": [
    "# Importing Libraries\n",
    "from sklearn.svm import SVC\n",
    "               \n",
    "# Support Vector Machine Model with the Best Kernel Function as per F1 Score\n",
    "svc_model_rcv = SVC(kernel = random_svc.best_params_['kernel'], C = random_svc.best_params_['C'], degree = random_svc.best_params_['degree'], gamma = random_svc.best_params_['gamma'])\n",
    "\n",
    "# Fitting the Model to the Training Set\n",
    "svc_model_rcv.fit(X_train, y_train)\n",
    "\n",
    "svc_model_rcv"
   ]
  },
  {
   "cell_type": "markdown",
   "metadata": {},
   "source": [
    " ### Predicting the y_hat Using Results from RandomisedSearchCV"
   ]
  },
  {
   "cell_type": "code",
   "execution_count": 80,
   "metadata": {},
   "outputs": [
    {
     "data": {
      "text/plain": [
       "array(['PAIDOFF', 'PAIDOFF', 'PAIDOFF', 'PAIDOFF', 'PAIDOFF', 'PAIDOFF',\n",
       "       'PAIDOFF', 'PAIDOFF', 'PAIDOFF', 'PAIDOFF'], dtype=object)"
      ]
     },
     "execution_count": 80,
     "metadata": {},
     "output_type": "execute_result"
    }
   ],
   "source": [
    "svc_yhat_rcv = svc_model_rcv.predict(X_test)\n",
    "svc_yhat_rcv[0 : 10]"
   ]
  },
  {
   "cell_type": "code",
   "execution_count": 81,
   "metadata": {},
   "outputs": [
    {
     "name": "stdout",
     "output_type": "stream",
     "text": [
      "0.7857142857142857\n"
     ]
    }
   ],
   "source": [
    "print(svc_model_rcv.score(X_test, y_test))"
   ]
  },
  {
   "cell_type": "markdown",
   "metadata": {},
   "source": [
    "### Plotting the Confusion Matrix Using Results from RandomisedSearchCV"
   ]
  },
  {
   "cell_type": "code",
   "execution_count": 82,
   "metadata": {},
   "outputs": [
    {
     "name": "stdout",
     "output_type": "stream",
     "text": [
      "              precision    recall  f1-score   support\n",
      "\n",
      "  COLLECTION       0.00      0.00      0.00        15\n",
      "     PAIDOFF       0.79      1.00      0.88        55\n",
      "\n",
      "    accuracy                           0.79        70\n",
      "   macro avg       0.39      0.50      0.44        70\n",
      "weighted avg       0.62      0.79      0.69        70\n",
      "\n",
      "Confusion Matrix, without Normalization\n",
      "[[ 0 15]\n",
      " [ 0 55]]\n"
     ]
    },
    {
     "name": "stderr",
     "output_type": "stream",
     "text": [
      "C:\\Users\\Admin\\anaconda3\\lib\\site-packages\\sklearn\\metrics\\_classification.py:1245: UndefinedMetricWarning: Precision and F-score are ill-defined and being set to 0.0 in labels with no predicted samples. Use `zero_division` parameter to control this behavior.\n",
      "  _warn_prf(average, modifier, msg_start, len(result))\n",
      "C:\\Users\\Admin\\anaconda3\\lib\\site-packages\\sklearn\\metrics\\_classification.py:1245: UndefinedMetricWarning: Precision and F-score are ill-defined and being set to 0.0 in labels with no predicted samples. Use `zero_division` parameter to control this behavior.\n",
      "  _warn_prf(average, modifier, msg_start, len(result))\n",
      "C:\\Users\\Admin\\anaconda3\\lib\\site-packages\\sklearn\\metrics\\_classification.py:1245: UndefinedMetricWarning: Precision and F-score are ill-defined and being set to 0.0 in labels with no predicted samples. Use `zero_division` parameter to control this behavior.\n",
      "  _warn_prf(average, modifier, msg_start, len(result))\n"
     ]
    },
    {
     "data": {
      "image/png": "[encoded data removed]",
      "text/plain": [
       "<Figure size 432x288 with 2 Axes>"
      ]
     },
     "metadata": {
      "needs_background": "light"
     },
     "output_type": "display_data"
    }
   ],
   "source": [
    "# Compute confusion matrix\n",
    "cnf_matrix_rcv = confusion_matrix(y_test, svc_yhat_rcv)\n",
    "np.set_printoptions(precision=2)\n",
    "\n",
    "print(classification_report(y_test, svc_yhat_rcv))\n",
    "\n",
    "# Plot non-normalized confusion matrix\n",
    "plt.figure()\n",
    "plot_confusion_matrix(cnf_matrix_rcv, classes=['COLLECTION','PAIDOff'], normalize= False,  title='Confusion Matrix')"
   ]
  },
  {
   "cell_type": "markdown",
   "metadata": {},
   "source": [
    "### Accuracy Evaluation Using Results from RandomisedSearchCV\n",
    "\n",
    "In multilabel classification, **accuracy classification score** is a function that computes subset accuracy. This function is equal to the jaccard_score function. Essentially, it calculates how closely the actual labels and predicted labels are matched in the test set."
   ]
  },
  {
   "cell_type": "code",
   "execution_count": 83,
   "metadata": {},
   "outputs": [],
   "source": [
    "# Metric Scores as per the Best Values of Hypermeters Identified by the RandomisedSearchCV\n",
    "f1_train_svc_rcv = f1_score(y_train, svc_model_rcv.predict(X_train), average = 'weighted')\n",
    "f1_test_svc_rcv = f1_score(y_test, svc_yhat_rcv, average = 'weighted')\n",
    "\n",
    "jaccard_train_svc_rcv = jaccard_score(y_train, svc_model_rcv.predict(X_train), average = 'weighted')\n",
    "jaccard_test_svc_rcv = jaccard_score(y_test, svc_yhat_rcv, average = 'weighted')\n",
    "\n",
    "accuracy_train_svc_rcv = accuracy_score(y_train, svc_model_rcv.predict(X_train))\n",
    "accuracy_test_svc_rcv = accuracy_score(y_test, svc_yhat_rcv)"
   ]
  },
  {
   "cell_type": "code",
   "execution_count": 84,
   "metadata": {
    "scrolled": false
   },
   "outputs": [
    {
     "name": "stdout",
     "output_type": "stream",
     "text": [
      "Score Train Set F1 Score Using Results from RandomisedSearchCV:  0.6331163939859591\n",
      "Score Test Set F1 Score Using Results from RandomisedSearchCV:  0.6914285714285714\n",
      "\n",
      "\n",
      "Score Train Set Jaccard Score Using Results from RandomisedSearchCV:  0.5516829447595043\n",
      "Score Test Set Jaccard Score Using Results from RandomisedSearchCV:  0.6173469387755102\n",
      "\n",
      "\n",
      "Train Set Accuracy Score Using Results from RandomisedSearchCV:  0.7427536231884058\n",
      "Test Set Accuracy Score Using Results from RandomisedSearchCV:  0.7857142857142857\n"
     ]
    }
   ],
   "source": [
    "print(\"Score Train Set F1 Score Using Results from RandomisedSearchCV: \", f1_train_svc_rcv)\n",
    "print(\"Score Test Set F1 Score Using Results from RandomisedSearchCV: \", f1_test_svc_rcv)\n",
    "print(\"\\n\")\n",
    "print(\"Score Train Set Jaccard Score Using Results from RandomisedSearchCV: \", jaccard_train_svc_rcv)\n",
    "print(\"Score Test Set Jaccard Score Using Results from RandomisedSearchCV: \", jaccard_test_svc_rcv)\n",
    "print(\"\\n\")\n",
    "print(\"Train Set Accuracy Score Using Results from RandomisedSearchCV: \", accuracy_train_svc_rcv)\n",
    "print(\"Test Set Accuracy Score Using Results from RandomisedSearchCV: \", accuracy_test_svc_rcv)"
   ]
  },
  {
   "cell_type": "markdown",
   "metadata": {},
   "source": [
    "## Option 3) Searching for the Best Value of Kernel Function Using 'for' Loop\n",
    "- When the number of hyperparameters are very less, say, a small list of Kernel Functions, then we can use a 'for' loop"
   ]
  },
  {
   "cell_type": "code",
   "execution_count": 85,
   "metadata": {},
   "outputs": [],
   "source": [
    "kernel_func = ['sigmoid', 'poly', 'rbf', 'linear']\n",
    "f1_score_svc = []\n",
    "jaccard_score_svc = []\n",
    "\n",
    "for k in kernel_func:\n",
    "    # Training the Model\n",
    "    svc_model = SVC(kernel = k)\n",
    "    # Fitting the Model to the Training Set\n",
    "    svc_model.fit(X_train, y_train)\n",
    "\n",
    "    # Predicting the yhat for the Test Set\n",
    "    svc_yhat = svc_model.predict(X_test)\n",
    "\n",
    "    # Finding the Accuracy for Different Kernel Functions\n",
    "    f1_score_svc.append(f1_score(y_test, svc_yhat, average = 'weighted'))\n",
    "    jaccard_score_svc.append(jaccard_score(y_test, svc_yhat, average = 'weighted'))"
   ]
  },
  {
   "cell_type": "code",
   "execution_count": 86,
   "metadata": {},
   "outputs": [
    {
     "name": "stdout",
     "output_type": "stream",
     "text": [
      "SVM Model with Kernel Function = 'sigmoid' has an F1 Score of 0.6892857142857144 \n",
      "SVM Model with Kernel Function = 'poly' has an F1 Score of 0.7064793130366899 \n",
      "SVM Model with Kernel Function = 'rbf' has an F1 Score of 0.7275882012724117 \n",
      "SVM Model with Kernel Function = 'linear' has an F1 Score of 0.6914285714285714 \n"
     ]
    }
   ],
   "source": [
    "# Best Kernel Function using F1 Score\n",
    "for k, f in zip(kernel_func, f1_score_svc):\n",
    "    print(\"SVM Model with Kernel Function = '{}' has an F1 Score of {} \".format(k, f))"
   ]
  },
  {
   "cell_type": "code",
   "execution_count": 87,
   "metadata": {},
   "outputs": [
    {
     "name": "stdout",
     "output_type": "stream",
     "text": [
      "SVM Model with Kernel Function = 'sigmoid' has an Jaccard Score of 0.5920235371036286 \n",
      "SVM Model with Kernel Function = 'poly' has an Jaccard Score of 0.6161247107538668 \n",
      "SVM Model with Kernel Function = 'rbf' has an Jaccard Score of 0.6103896103896104 \n",
      "SVM Model with Kernel Function = 'linear' has an Jaccard Score of 0.6173469387755102 \n"
     ]
    }
   ],
   "source": [
    "# Best Kernel Function using Jaccard Score\n",
    "for k, j in zip(kernel_func, jaccard_score_svc):\n",
    "    print(\"SVM Model with Kernel Function = '{}' has an Jaccard Score of {} \".format(k, j))"
   ]
  },
  {
   "cell_type": "markdown",
   "metadata": {},
   "source": [
    "### Creating a df to check the Best Kernel Function Using 'for' Loop"
   ]
  },
  {
   "cell_type": "code",
   "execution_count": 88,
   "metadata": {},
   "outputs": [
    {
     "data": {
      "text/html": [
       "<div>\n",
       "<style scoped>\n",
       "    .dataframe tbody tr th:only-of-type {\n",
       "        vertical-align: middle;\n",
       "    }\n",
       "\n",
       "    .dataframe tbody tr th {\n",
       "        vertical-align: top;\n",
       "    }\n",
       "\n",
       "    .dataframe thead th {\n",
       "        text-align: right;\n",
       "    }\n",
       "</style>\n",
       "<table border=\"1\" class=\"dataframe\">\n",
       "  <thead>\n",
       "    <tr style=\"text-align: right;\">\n",
       "      <th>Kernel Function</th>\n",
       "      <th>sigmoid</th>\n",
       "      <th>poly</th>\n",
       "      <th>rbf</th>\n",
       "      <th>linear</th>\n",
       "    </tr>\n",
       "  </thead>\n",
       "  <tbody>\n",
       "    <tr>\n",
       "      <th>F1 Score</th>\n",
       "      <td>0.689286</td>\n",
       "      <td>0.706479</td>\n",
       "      <td>0.727588</td>\n",
       "      <td>0.691429</td>\n",
       "    </tr>\n",
       "    <tr>\n",
       "      <th>Jaccard Score</th>\n",
       "      <td>0.592024</td>\n",
       "      <td>0.616125</td>\n",
       "      <td>0.610390</td>\n",
       "      <td>0.617347</td>\n",
       "    </tr>\n",
       "  </tbody>\n",
       "</table>\n",
       "</div>"
      ],
      "text/plain": [
       "Kernel Function   sigmoid      poly       rbf    linear\n",
       "F1 Score         0.689286  0.706479  0.727588  0.691429\n",
       "Jaccard Score    0.592024  0.616125  0.610390  0.617347"
      ]
     },
     "execution_count": 88,
     "metadata": {},
     "output_type": "execute_result"
    }
   ],
   "source": [
    "result_svc = pd.DataFrame([f1_score_svc, jaccard_score_svc], index = ['F1 Score', 'Jaccard Score'], columns = ['sigmoid', 'poly', 'rbf', 'linear'])\n",
    "result_svc.columns.name = 'Kernel Function'\n",
    "result_svc"
   ]
  },
  {
   "cell_type": "markdown",
   "metadata": {},
   "source": [
    "### Plotting the Kernel Functions V/s F1 Score Using 'for' Loop"
   ]
  },
  {
   "cell_type": "code",
   "execution_count": 89,
   "metadata": {},
   "outputs": [
    {
     "data": {
      "text/plain": [
       "Text(0, 0.5, 'F1 Score')"
      ]
     },
     "execution_count": 89,
     "metadata": {},
     "output_type": "execute_result"
    },
    {
     "data": {
      "image/png": "[encoded data removed]",
      "text/plain": [
       "<Figure size 432x288 with 1 Axes>"
      ]
     },
     "metadata": {
      "needs_background": "light"
     },
     "output_type": "display_data"
    }
   ],
   "source": [
    "plt.plot(kernel_func, f1_score_svc)\n",
    "plt.xlabel('Kernel Function')\n",
    "plt.ylabel('F1 Score')"
   ]
  },
  {
   "cell_type": "markdown",
   "metadata": {},
   "source": [
    "### Plotting the Kernel Functions V/s Jaccard Score Using 'for' Loop"
   ]
  },
  {
   "cell_type": "code",
   "execution_count": 90,
   "metadata": {},
   "outputs": [
    {
     "data": {
      "text/plain": [
       "Text(0, 0.5, 'Jaccard Score')"
      ]
     },
     "execution_count": 90,
     "metadata": {},
     "output_type": "execute_result"
    },
    {
     "data": {
      "image/png": "[encoded data removed]",
      "text/plain": [
       "<Figure size 432x288 with 1 Axes>"
      ]
     },
     "metadata": {
      "needs_background": "light"
     },
     "output_type": "display_data"
    }
   ],
   "source": [
    "plt.plot(kernel_func, jaccard_score_svc)\n",
    "plt.xlabel('Kernel Function')\n",
    "plt.ylabel('Jaccard Score')"
   ]
  },
  {
   "cell_type": "markdown",
   "metadata": {},
   "source": [
    "### Best Kernel Function as per the Charts Using 'for' Loop\n",
    "- The best Kernel Function as per F1 Score is 'rbf'\n",
    "- Also, since the Jaccard Scores for 'poly', 'rbf' & 'linear' are very close to each other, we will use 'rbf' as the Kernel Function for this Support Vector Machine"
   ]
  },
  {
   "cell_type": "markdown",
   "metadata": {},
   "source": [
    "### Training the Model Using 'for' Loop"
   ]
  },
  {
   "cell_type": "code",
   "execution_count": 91,
   "metadata": {},
   "outputs": [
    {
     "data": {
      "text/plain": [
       "SVC()"
      ]
     },
     "execution_count": 91,
     "metadata": {},
     "output_type": "execute_result"
    }
   ],
   "source": [
    "# Importing Libraries\n",
    "from sklearn.svm import SVC\n",
    "\n",
    "# Initiating Variables\n",
    "kernel_func = ['sigmoid', 'poly', 'rbf', 'linear']\n",
    "               \n",
    "# Support Vector Machine Model with the Best Kernel Function as per F1 Score\n",
    "svc_model_for = SVC(kernel = kernel_func[(f1_score_svc.index(max(f1_score_svc)))])\n",
    "\n",
    "# Fitting the Model to the Training Set\n",
    "svc_model_for.fit(X_train, y_train)\n",
    "\n",
    "svc_model_for"
   ]
  },
  {
   "cell_type": "code",
   "execution_count": 92,
   "metadata": {},
   "outputs": [
    {
     "data": {
      "text/plain": [
       "'rbf'"
      ]
     },
     "execution_count": 92,
     "metadata": {},
     "output_type": "execute_result"
    }
   ],
   "source": [
    "kernel_func[(f1_score_svc.index(max(f1_score_svc)))]"
   ]
  },
  {
   "cell_type": "markdown",
   "metadata": {},
   "source": [
    "### Predicting the y_hat Using 'for' Loop"
   ]
  },
  {
   "cell_type": "code",
   "execution_count": 93,
   "metadata": {
    "scrolled": true
   },
   "outputs": [
    {
     "data": {
      "text/plain": [
       "array(['COLLECTION', 'PAIDOFF', 'PAIDOFF', 'PAIDOFF', 'PAIDOFF',\n",
       "       'PAIDOFF', 'COLLECTION', 'COLLECTION', 'PAIDOFF', 'PAIDOFF'],\n",
       "      dtype=object)"
      ]
     },
     "execution_count": 93,
     "metadata": {},
     "output_type": "execute_result"
    }
   ],
   "source": [
    "svc_yhat_for = svc_model_for.predict(X_test)\n",
    "svc_yhat_for[0 : 10]"
   ]
  },
  {
   "cell_type": "code",
   "execution_count": 94,
   "metadata": {
    "scrolled": true
   },
   "outputs": [
    {
     "name": "stdout",
     "output_type": "stream",
     "text": [
      "0.7428571428571429\n"
     ]
    }
   ],
   "source": [
    "print(svc_model_for.score(X_test, y_test))"
   ]
  },
  {
   "cell_type": "markdown",
   "metadata": {},
   "source": [
    "### Plotting the Confusion Matrix Using 'for' Loop"
   ]
  },
  {
   "cell_type": "code",
   "execution_count": 95,
   "metadata": {},
   "outputs": [
    {
     "name": "stdout",
     "output_type": "stream",
     "text": [
      "              precision    recall  f1-score   support\n",
      "\n",
      "  COLLECTION       0.36      0.27      0.31        15\n",
      "     PAIDOFF       0.81      0.87      0.84        55\n",
      "\n",
      "    accuracy                           0.74        70\n",
      "   macro avg       0.59      0.57      0.57        70\n",
      "weighted avg       0.72      0.74      0.73        70\n",
      "\n",
      "Confusion Matrix, without Normalization\n",
      "[[ 4 11]\n",
      " [ 7 48]]\n"
     ]
    },
    {
     "data": {
      "image/png": "[encoded data removed]",
      "text/plain": [
       "<Figure size 432x288 with 2 Axes>"
      ]
     },
     "metadata": {
      "needs_background": "light"
     },
     "output_type": "display_data"
    }
   ],
   "source": [
    "# Compute confusion matrix\n",
    "cnf_matrix_for = confusion_matrix(y_test, svc_yhat_for)\n",
    "np.set_printoptions(precision=2)\n",
    "\n",
    "print(classification_report(y_test, svc_yhat_for))\n",
    "\n",
    "# Plot non-normalized confusion matrix\n",
    "plt.figure()\n",
    "plot_confusion_matrix(cnf_matrix_for, classes=['COLLECTION','PAIDOff'], normalize= False,  title='Confusion Matrix')"
   ]
  },
  {
   "cell_type": "markdown",
   "metadata": {},
   "source": [
    "### Accuracy Evaluation Using 'for' Loop\n",
    "\n",
    "In multilabel classification, **accuracy classification score** is a function that computes subset accuracy. This function is equal to the jaccard_score function. Essentially, it calculates how closely the actual labels and predicted labels are matched in the test set."
   ]
  },
  {
   "cell_type": "code",
   "execution_count": 96,
   "metadata": {},
   "outputs": [],
   "source": [
    "# Metric Scores as per the Best Values of Hypermeters Identified by the 'for' Loop\n",
    "f1_train_svc_for = f1_score(y_train, svc_model_for.predict(X_train), average = 'weighted')\n",
    "f1_test_svc_for = f1_score(y_test, svc_yhat_for, average = 'weighted')\n",
    "\n",
    "jaccard_train_svc_for = jaccard_score(y_train, svc_model_for.predict(X_train), average = 'weighted')\n",
    "jaccard_test_svc_for = jaccard_score(y_test, svc_yhat_for, average = 'weighted')\n",
    "\n",
    "accuracy_train_svc_for = accuracy_score(y_train, svc_model_for.predict(X_train))\n",
    "accuracy_test_svc_for = accuracy_score(y_test, svc_yhat_for)"
   ]
  },
  {
   "cell_type": "code",
   "execution_count": 97,
   "metadata": {},
   "outputs": [
    {
     "name": "stdout",
     "output_type": "stream",
     "text": [
      "Train Set - F1 Score:  0.7682165861513688\n",
      "Test Set - F1 Score:  0.7275882012724117\n",
      "\n",
      "\n",
      "Train Set - Jaccard Score:  0.6473429951690821\n",
      "Test Set - Jaccard Score:  0.6103896103896104\n",
      "\n",
      "\n",
      "Train Set - Accuracy Score:  0.782608695652174\n",
      "Test Set - Accuracy Score:  0.7428571428571429\n"
     ]
    }
   ],
   "source": [
    "print(\"Train Set - F1 Score: \", f1_train_svc_for)\n",
    "print(\"Test Set - F1 Score: \", f1_test_svc_for)\n",
    "print(\"\\n\")\n",
    "print(\"Train Set - Jaccard Score: \", jaccard_train_svc_for)\n",
    "print(\"Test Set - Jaccard Score: \", jaccard_test_svc_for)\n",
    "print(\"\\n\")\n",
    "print(\"Train Set - Accuracy Score: \", accuracy_train_svc_for)\n",
    "print(\"Test Set - Accuracy Score: \", accuracy_test_svc_for)"
   ]
  },
  {
   "cell_type": "markdown",
   "metadata": {},
   "source": [
    "## Accuracy Evaluation for Support Vector Machine"
   ]
  },
  {
   "cell_type": "markdown",
   "metadata": {},
   "source": [
    "### Creating a df to check the Accuracy Evaluation Using the 3 Search Options"
   ]
  },
  {
   "cell_type": "code",
   "execution_count": 98,
   "metadata": {},
   "outputs": [
    {
     "data": {
      "text/html": [
       "<div>\n",
       "<style scoped>\n",
       "    .dataframe tbody tr th:only-of-type {\n",
       "        vertical-align: middle;\n",
       "    }\n",
       "\n",
       "    .dataframe tbody tr th {\n",
       "        vertical-align: top;\n",
       "    }\n",
       "\n",
       "    .dataframe thead th {\n",
       "        text-align: right;\n",
       "    }\n",
       "</style>\n",
       "<table border=\"1\" class=\"dataframe\">\n",
       "  <thead>\n",
       "    <tr style=\"text-align: right;\">\n",
       "      <th>SVC Scores</th>\n",
       "      <th>GridSearchCV - Train</th>\n",
       "      <th>GridSearchCV - Test</th>\n",
       "      <th>RamdomisedSearchCV - Train</th>\n",
       "      <th>RamdomisedSearchCV - Test</th>\n",
       "      <th>For Loop - Train</th>\n",
       "      <th>For Loop - Test</th>\n",
       "    </tr>\n",
       "  </thead>\n",
       "  <tbody>\n",
       "    <tr>\n",
       "      <th>F1 Score</th>\n",
       "      <td>0.746655</td>\n",
       "      <td>0.697881</td>\n",
       "      <td>0.633116</td>\n",
       "      <td>0.691429</td>\n",
       "      <td>0.768217</td>\n",
       "      <td>0.727588</td>\n",
       "    </tr>\n",
       "    <tr>\n",
       "      <th>Jaccard Score</th>\n",
       "      <td>0.639942</td>\n",
       "      <td>0.604037</td>\n",
       "      <td>0.551683</td>\n",
       "      <td>0.617347</td>\n",
       "      <td>0.647343</td>\n",
       "      <td>0.610390</td>\n",
       "    </tr>\n",
       "    <tr>\n",
       "      <th>Accuracy Score</th>\n",
       "      <td>0.797101</td>\n",
       "      <td>0.757143</td>\n",
       "      <td>0.742754</td>\n",
       "      <td>0.785714</td>\n",
       "      <td>0.782609</td>\n",
       "      <td>0.742857</td>\n",
       "    </tr>\n",
       "  </tbody>\n",
       "</table>\n",
       "</div>"
      ],
      "text/plain": [
       "SVC Scores      GridSearchCV - Train  GridSearchCV - Test  \\\n",
       "F1 Score                    0.746655             0.697881   \n",
       "Jaccard Score               0.639942             0.604037   \n",
       "Accuracy Score              0.797101             0.757143   \n",
       "\n",
       "SVC Scores      RamdomisedSearchCV - Train  RamdomisedSearchCV - Test  \\\n",
       "F1 Score                          0.633116                   0.691429   \n",
       "Jaccard Score                     0.551683                   0.617347   \n",
       "Accuracy Score                    0.742754                   0.785714   \n",
       "\n",
       "SVC Scores      For Loop - Train  For Loop - Test  \n",
       "F1 Score                0.768217         0.727588  \n",
       "Jaccard Score           0.647343         0.610390  \n",
       "Accuracy Score          0.782609         0.742857  "
      ]
     },
     "execution_count": 98,
     "metadata": {},
     "output_type": "execute_result"
    }
   ],
   "source": [
    "svc_scores = {'GridSearchCV - Train' : [f1_train_svc_grid, jaccard_train_svc_grid, accuracy_train_svc_grid],\n",
    "              'GridSearchCV - Test' : [f1_test_svc_grid, jaccard_test_svc_grid, accuracy_test_svc_grid],\n",
    "              'RamdomisedSearchCV - Train' : [f1_train_svc_rcv, jaccard_train_svc_rcv, accuracy_train_svc_rcv],\n",
    "              'RamdomisedSearchCV - Test' : [f1_test_svc_rcv, jaccard_test_svc_rcv, accuracy_test_svc_rcv],\n",
    "              'For Loop - Train' : [f1_train_svc_for, jaccard_train_svc_for, accuracy_train_svc_for],\n",
    "              'For Loop - Test' : [f1_test_svc_for, jaccard_test_svc_for, accuracy_test_svc_for]\n",
    "             }\n",
    "\n",
    "index = ['F1 Score', 'Jaccard Score', 'Accuracy Score']\n",
    "\n",
    "col = ['GridSearchCV - Train', 'GridSearchCV - Test', 'RamdomisedSearchCV - Train', 'RamdomisedSearchCV - Test', 'For Loop - Train', 'For Loop - Test']\n",
    "\n",
    "svc_hyperparameters_df = pd.DataFrame(svc_scores, index = index, columns = col)\n",
    "\n",
    "svc_hyperparameters_df.columns.name = 'SVC Scores'\n",
    "\n",
    "svc_hyperparameters_df"
   ]
  },
  {
   "cell_type": "markdown",
   "metadata": {},
   "source": [
    "## +++++++++++++++++++++++++++++++++++++++++++++++++++++++++++++++++++++"
   ]
  },
  {
   "cell_type": "markdown",
   "metadata": {},
   "source": [
    "# Logistic Regression\n"
   ]
  },
  {
   "cell_type": "code",
   "execution_count": 99,
   "metadata": {},
   "outputs": [],
   "source": [
    "# Importing Libraries\n",
    "from sklearn.linear_model import LogisticRegression\n",
    "from sklearn.metrics import log_loss"
   ]
  },
  {
   "cell_type": "markdown",
   "metadata": {},
   "source": [
    "## Option 1) Searching for the Best Hyperparameters Using GridSearchCV\n",
    "- With small data sets and lots of resources, Grid Search will produce accurate results\n",
    "- However, with large data sets, the high dimensions will greatly slow down computation time in Grid Search and be very costly\n",
    "- In this approach, since every combination of the hyperparameter values is tried, the process takes a lot of time and is, hence, very inefficient\n",
    "- Therefore, this search is to be used only when the number of hyperparameters to be searched are less\n",
    "- In case the number of hyperparameters are more, it is advised to use RandomizedSearchCV\n",
    "- We can use the GridSearchCV to search for the best values of different hyperparameters in the Logistic Regression Algorithm like 'C', 'penalty', 'solver', etc."
   ]
  },
  {
   "cell_type": "code",
   "execution_count": 100,
   "metadata": {},
   "outputs": [
    {
     "name": "stdout",
     "output_type": "stream",
     "text": [
      "Fitting 10 folds for each of 200 candidates, totalling 2000 fits\n"
     ]
    },
    {
     "name": "stderr",
     "output_type": "stream",
     "text": [
      "C:\\Users\\Admin\\anaconda3\\lib\\site-packages\\sklearn\\model_selection\\_search.py:918: UserWarning: One or more of the test scores are non-finite: [ nan  nan  nan  nan 0.74  nan  nan  nan  nan  nan  nan  nan  nan  nan\n",
      "  nan  nan 0.71 0.71 0.71 0.71 0.74  nan  nan  nan 0.74 0.72 0.74 0.74\n",
      " 0.74 0.74  nan  nan  nan  nan  nan  nan 0.71 0.71 0.71 0.71 0.72  nan\n",
      "  nan  nan 0.74 0.72 0.73 0.73 0.73 0.73  nan  nan  nan  nan  nan  nan\n",
      " 0.71 0.71 0.71 0.71 0.74  nan  nan  nan 0.74 0.71 0.74 0.74 0.74 0.74\n",
      "  nan  nan  nan  nan  nan  nan 0.71 0.71 0.71 0.71 0.74  nan  nan  nan\n",
      " 0.74 0.71 0.73 0.73 0.73 0.73  nan  nan  nan  nan  nan  nan 0.71 0.71\n",
      " 0.71 0.71 0.74  nan  nan  nan 0.74 0.71 0.72 0.72 0.72 0.72  nan  nan\n",
      "  nan  nan  nan  nan 0.71 0.71 0.71 0.71 0.72  nan  nan  nan 0.74 0.71\n",
      " 0.71 0.71 0.71 0.71  nan  nan  nan  nan  nan  nan 0.71 0.71 0.71 0.71\n",
      " 0.72  nan  nan  nan 0.72 0.71 0.71 0.71 0.71 0.71  nan  nan  nan  nan\n",
      "  nan  nan 0.71 0.71 0.71 0.71 0.72  nan  nan  nan 0.72 0.71 0.71 0.71\n",
      " 0.71 0.71  nan  nan  nan  nan  nan  nan 0.71 0.71 0.71 0.71 0.72  nan\n",
      "  nan  nan 0.72 0.71 0.71 0.71 0.71 0.71  nan  nan  nan  nan  nan  nan\n",
      " 0.71 0.71 0.71 0.71]\n",
      "  warnings.warn(\n"
     ]
    },
    {
     "data": {
      "text/plain": [
       "GridSearchCV(cv=10, estimator=LogisticRegression(), n_jobs=-1,\n",
       "             param_grid={'C': array([0. , 0.1, 0.2, 0.3, 0.4, 0.5, 0.6, 0.7, 0.8, 0.9]),\n",
       "                         'penalty': ['l1', 'l2', 'elasticnet', 'none'],\n",
       "                         'solver': ['liblinear', 'newton-cg', 'lbfgs', 'sag',\n",
       "                                    'saga']},\n",
       "             scoring='accuracy', verbose=1)"
      ]
     },
     "execution_count": 100,
     "metadata": {},
     "output_type": "execute_result"
    }
   ],
   "source": [
    "lr = LogisticRegression()\n",
    "\n",
    "params = {\n",
    "            'penalty' : ['l1', 'l2', 'elasticnet', 'none'],\n",
    "            'C' : np.arange(0, 1, 0.1),\n",
    "            'solver' : ['liblinear', 'newton-cg', 'lbfgs', 'sag', 'saga']\n",
    "        }\n",
    "\n",
    "grid_lr = GridSearchCV(estimator = lr,\n",
    "                        param_grid = params,\n",
    "                        scoring = 'accuracy',\n",
    "                        cv = 10,\n",
    "                        verbose = 1,\n",
    "                        n_jobs = -1)\n",
    "\n",
    "# Fitting the Model as per the Hyperparameters Identified by the GridSearchCV\n",
    "grid_lr.fit(X_train, y_train)"
   ]
  },
  {
   "cell_type": "code",
   "execution_count": 101,
   "metadata": {
    "scrolled": false
   },
   "outputs": [
    {
     "name": "stdout",
     "output_type": "stream",
     "text": [
      "{'C': 0.1, 'penalty': 'l2', 'solver': 'newton-cg'}\n"
     ]
    }
   ],
   "source": [
    "# Extracting Best Parameters\n",
    "print(grid_lr.best_params_)"
   ]
  },
  {
   "cell_type": "code",
   "execution_count": 102,
   "metadata": {
    "scrolled": false
   },
   "outputs": [
    {
     "name": "stdout",
     "output_type": "stream",
     "text": [
      "0.7714285714285715\n"
     ]
    }
   ],
   "source": [
    "# Score for the Best Fit\n",
    "print(grid_lr.score(X_test, y_test))"
   ]
  },
  {
   "cell_type": "markdown",
   "metadata": {},
   "source": [
    "### Training the Model Using Results from GridSearchCV"
   ]
  },
  {
   "cell_type": "code",
   "execution_count": 103,
   "metadata": {},
   "outputs": [
    {
     "data": {
      "text/plain": [
       "LogisticRegression(C=0.1, solver='newton-cg')"
      ]
     },
     "execution_count": 103,
     "metadata": {},
     "output_type": "execute_result"
    }
   ],
   "source": [
    "# Logistic Regression Model with the Best Hyperparameters\n",
    "lr_model_grid = LogisticRegression(solver = grid_lr.best_params_['solver'], C = grid_lr.best_params_['C'], penalty = grid_lr.best_params_['penalty'])\n",
    "\n",
    "# Fitting the Model to the Training Set\n",
    "lr_model_grid.fit(X_train, y_train)\n",
    "\n",
    "lr_model_grid"
   ]
  },
  {
   "cell_type": "markdown",
   "metadata": {},
   "source": [
    "### Predicting the y_hat Using Results from GridSearchCV"
   ]
  },
  {
   "cell_type": "code",
   "execution_count": 104,
   "metadata": {},
   "outputs": [
    {
     "data": {
      "text/plain": [
       "array(['PAIDOFF', 'PAIDOFF', 'PAIDOFF', 'PAIDOFF', 'PAIDOFF', 'PAIDOFF',\n",
       "       'PAIDOFF', 'PAIDOFF', 'PAIDOFF', 'PAIDOFF'], dtype=object)"
      ]
     },
     "execution_count": 104,
     "metadata": {},
     "output_type": "execute_result"
    }
   ],
   "source": [
    "# Predicting the yhat for the Test Set\n",
    "lr_yhat_grid = lr_model_grid.predict(X_test)\n",
    "lr_y_prob_grid = lr_model_grid.predict_proba(X_test)\n",
    "lr_yhat_grid[0 : 10]"
   ]
  },
  {
   "cell_type": "code",
   "execution_count": 105,
   "metadata": {},
   "outputs": [
    {
     "name": "stdout",
     "output_type": "stream",
     "text": [
      "0.7714285714285715\n"
     ]
    }
   ],
   "source": [
    "print(lr_model_grid.score(X_test, y_test))"
   ]
  },
  {
   "cell_type": "markdown",
   "metadata": {},
   "source": [
    "### Plotting the Confusion Matrix Using Results from GridSearchCV"
   ]
  },
  {
   "cell_type": "code",
   "execution_count": 106,
   "metadata": {},
   "outputs": [
    {
     "name": "stdout",
     "output_type": "stream",
     "text": [
      "              precision    recall  f1-score   support\n",
      "\n",
      "  COLLECTION       0.33      0.07      0.11        15\n",
      "     PAIDOFF       0.79      0.96      0.87        55\n",
      "\n",
      "    accuracy                           0.77        70\n",
      "   macro avg       0.56      0.52      0.49        70\n",
      "weighted avg       0.69      0.77      0.71        70\n",
      "\n",
      "Confusion Matrix, without Normalization\n",
      "[[ 1 14]\n",
      " [ 2 53]]\n"
     ]
    },
    {
     "data": {
      "image/png": "[encoded data removed]",
      "text/plain": [
       "<Figure size 432x288 with 2 Axes>"
      ]
     },
     "metadata": {
      "needs_background": "light"
     },
     "output_type": "display_data"
    }
   ],
   "source": [
    "# Compute confusion matrix\n",
    "cnf_matrix_grid = confusion_matrix(y_test, lr_yhat_grid)\n",
    "np.set_printoptions(precision=2)\n",
    "\n",
    "print(classification_report(y_test, lr_yhat_grid))\n",
    "\n",
    "# Plot non-normalized confusion matrix\n",
    "plt.figure()\n",
    "plot_confusion_matrix(cnf_matrix_grid, classes=['COLLECTION','PAIDOff'], normalize= False,  title='Confusion Matrix')"
   ]
  },
  {
   "cell_type": "markdown",
   "metadata": {},
   "source": [
    "### Accuracy Evaluation Using Results from GridSearchCV"
   ]
  },
  {
   "cell_type": "code",
   "execution_count": 107,
   "metadata": {},
   "outputs": [],
   "source": [
    "# Metric Scores as per the Best Values of Hypermeters Identified by the GridSearchCV\n",
    "f1_train_lr_grid = f1_score(y_train, lr_model_grid.predict(X_train), average = 'weighted')\n",
    "f1_test_lr_grid = f1_score(y_test, lr_yhat_grid, average = 'weighted')\n",
    "\n",
    "jaccard_train_lr_grid = jaccard_score(y_train, lr_model_grid.predict(X_train), average = 'weighted')\n",
    "jaccard_test_lr_grid = jaccard_score(y_test, lr_yhat_grid, average = 'weighted')\n",
    "\n",
    "accuracy_train_lr_grid = accuracy_score(y_train, lr_model_grid.predict(X_train))\n",
    "accuracy_test_lr_grid = accuracy_score(y_test, lr_yhat_grid)\n",
    "\n",
    "logloss_train_lr_grid = log_loss(y_train, lr_model_grid.predict_proba(X_train))\n",
    "logloss_test_lr_grid = log_loss(y_test, lr_y_prob_grid)"
   ]
  },
  {
   "cell_type": "code",
   "execution_count": 108,
   "metadata": {},
   "outputs": [
    {
     "name": "stdout",
     "output_type": "stream",
     "text": [
      "Train Set F1 Score Using Results from GridSearchCV:  0.6923668847394484\n",
      "Test Set F1 Score Using Results from GridSearchCV:  0.7064793130366899\n",
      "\n",
      "\n",
      "Score Train Set Jaccard Score Using Results from GridSearchCV:  0.5858570618296018\n",
      "Test Set Jaccard Score Using Results from GridSearchCV:  0.6161247107538668\n",
      "\n",
      "\n",
      "Train Set Accuracy Score Using Results from GridSearchCV:  0.7536231884057971\n",
      "Test Set Accuracy Score Using Results from GridSearchCV:  0.7714285714285715\n",
      "\n",
      "\n",
      "Train Set Log Loss Score Using Results from GridSearchCV:  0.4336415475831813\n",
      "Test Set Log Loss Score Using Results from GridSearchCV:  0.48275353245267283\n"
     ]
    }
   ],
   "source": [
    "print(\"Train Set F1 Score Using Results from GridSearchCV: \", f1_train_lr_grid)\n",
    "print(\"Test Set F1 Score Using Results from GridSearchCV: \", f1_test_lr_grid)\n",
    "print(\"\\n\")\n",
    "print(\"Score Train Set Jaccard Score Using Results from GridSearchCV: \", jaccard_train_lr_grid)\n",
    "print(\"Test Set Jaccard Score Using Results from GridSearchCV: \", jaccard_test_lr_grid)\n",
    "print(\"\\n\")\n",
    "print(\"Train Set Accuracy Score Using Results from GridSearchCV: \", accuracy_train_lr_grid)\n",
    "print(\"Test Set Accuracy Score Using Results from GridSearchCV: \", accuracy_test_lr_grid)\n",
    "print(\"\\n\")\n",
    "print(\"Train Set Log Loss Score Using Results from GridSearchCV: \", logloss_train_lr_grid)\n",
    "print(\"Test Set Log Loss Score Using Results from GridSearchCV: \", logloss_test_lr_grid)"
   ]
  },
  {
   "cell_type": "markdown",
   "metadata": {},
   "source": [
    "## Option 2) Searching for the Best Hyperparameters Using RandomisedSearchCV\n",
    "- This search is to be used when the number of hyperparameters to be searched are more\n",
    "- While it’s possible that RandomizedSearchCV will not find as accurate of a result as GridSearchCV, but it surprisingly picks the best result more often than not and in a fraction of the time it takes for GridSearchCV\n",
    "- With small data sets and lots of resources, Grid Search will produce accurate results\n",
    "- However, with large data sets, the high dimensions will greatly slow down computation time in Grid Search and hence, turn out to be very costly\n",
    "- In such a case (when there are a lot of hyperparameters to be searched), it is advised to use Randomized Search\n",
    "- Similar to the GridSearchCV, We can use this option to search for the best values of different hyperparameters in the Logistic Regression Algorithm like 'C', 'penalty', 'solver', etc.\n",
    "- Note: For this option, 'random_state' is to be used so that the results remain constant and does not change every time this Search option is run"
   ]
  },
  {
   "cell_type": "code",
   "execution_count": 109,
   "metadata": {},
   "outputs": [
    {
     "name": "stdout",
     "output_type": "stream",
     "text": [
      "Fitting 10 folds for each of 10 candidates, totalling 100 fits\n"
     ]
    },
    {
     "name": "stderr",
     "output_type": "stream",
     "text": [
      "C:\\Users\\Admin\\anaconda3\\lib\\site-packages\\sklearn\\model_selection\\_search.py:918: UserWarning: One or more of the test scores are non-finite: [ nan 0.71 0.73 0.74  nan 0.74  nan  nan 0.71 0.71]\n",
      "  warnings.warn(\n"
     ]
    },
    {
     "data": {
      "text/plain": [
       "RandomizedSearchCV(cv=10, estimator=LogisticRegression(), n_jobs=-1,\n",
       "                   param_distributions={'C': array([0.  , 0.  , 0.  , 0.  , 0.  , 0.01, 0.01, 0.01, 0.01, 0.01, 0.01,\n",
       "       0.01, 0.01, 0.01, 0.01, 0.01, 0.02, 0.02, 0.02, 0.02, 0.02, 0.02,\n",
       "       0.02, 0.02, 0.02, 0.03, 0.03, 0.03, 0.03, 0.03, 0.03, 0.03, 0.03,\n",
       "       0.03, 0.03, 0.04, 0.04, 0.04, 0.04, 0.04, 0.04, 0.04, 0.04, 0.04,\n",
       "       0.04, 0.04, 0.05, 0.05, 0.05, 0.05, 0.05, 0.05, 0....\n",
       "       0.96, 0.96, 0.96, 0.96, 0.96, 0.96, 0.96, 0.96, 0.96, 0.97, 0.97,\n",
       "       0.97, 0.97, 0.97, 0.97, 0.97, 0.97, 0.97, 0.97, 0.98, 0.98, 0.98,\n",
       "       0.98, 0.98, 0.98, 0.98, 0.98, 0.98, 0.98, 0.99, 0.99, 0.99, 0.99,\n",
       "       0.99, 0.99, 0.99, 0.99, 0.99, 0.99, 1.  , 1.  , 1.  , 1.  ]),\n",
       "                                        'penalty': ['l1', 'l2', 'elasticnet',\n",
       "                                                    'none'],\n",
       "                                        'solver': ['liblinear', 'newton-cg',\n",
       "                                                   'lbfgs', 'sag', 'saga']},\n",
       "                   random_state=5, scoring='accuracy', verbose=1)"
      ]
     },
     "execution_count": 109,
     "metadata": {},
     "output_type": "execute_result"
    }
   ],
   "source": [
    "lr = LogisticRegression()\n",
    "\n",
    "params = {\n",
    "            'penalty' : ['l1', 'l2', 'elasticnet', 'none'],\n",
    "            'C' : np.arange(0, 1, 0.001),\n",
    "            'solver' : ['liblinear', 'newton-cg', 'lbfgs', 'sag', 'saga']\n",
    "        }\n",
    "\n",
    "random_lr = RandomizedSearchCV(estimator = lr,\n",
    "                        param_distributions = params,\n",
    "                        scoring = 'accuracy',\n",
    "                        cv = 10,\n",
    "                        verbose = 1,\n",
    "                        n_jobs = -1,\n",
    "                        random_state = 5)\n",
    "\n",
    "# Fitting the Model as per the Hyperparameters Identified by the RandomisedSearchCV\n",
    "random_lr.fit(X_train, y_train)"
   ]
  },
  {
   "cell_type": "code",
   "execution_count": 110,
   "metadata": {},
   "outputs": [
    {
     "name": "stdout",
     "output_type": "stream",
     "text": [
      "{'solver': 'liblinear', 'penalty': 'l1', 'C': 0.276}\n"
     ]
    }
   ],
   "source": [
    "# Extracting Best Parameters\n",
    "print(random_lr.best_params_)"
   ]
  },
  {
   "cell_type": "code",
   "execution_count": 111,
   "metadata": {},
   "outputs": [
    {
     "name": "stdout",
     "output_type": "stream",
     "text": [
      "0.7714285714285715\n"
     ]
    }
   ],
   "source": [
    "# Score for the Best Fit\n",
    "print(random_lr.score(X_test, y_test))"
   ]
  },
  {
   "cell_type": "markdown",
   "metadata": {},
   "source": [
    "### Training the Model Using Results from RandomisedSearchCV"
   ]
  },
  {
   "cell_type": "code",
   "execution_count": 112,
   "metadata": {},
   "outputs": [
    {
     "data": {
      "text/plain": [
       "LogisticRegression(C=0.276, penalty='l1', solver='liblinear')"
      ]
     },
     "execution_count": 112,
     "metadata": {},
     "output_type": "execute_result"
    }
   ],
   "source": [
    "# Logistic Regression Model with the Best Hyperparameters\n",
    "lr_model_rcv = LogisticRegression(solver = random_lr.best_params_['solver'], C = random_lr.best_params_['C'], penalty = random_lr.best_params_['penalty'])\n",
    "\n",
    "# Fitting the Model to the Training Set\n",
    "lr_model_rcv.fit(X_train, y_train)\n",
    "\n",
    "lr_model_rcv"
   ]
  },
  {
   "cell_type": "markdown",
   "metadata": {},
   "source": [
    "### Predicting the y_hat Using Results from RandomisedSearchCV"
   ]
  },
  {
   "cell_type": "code",
   "execution_count": 113,
   "metadata": {},
   "outputs": [
    {
     "data": {
      "text/plain": [
       "array(['PAIDOFF', 'PAIDOFF', 'PAIDOFF', 'PAIDOFF', 'PAIDOFF', 'PAIDOFF',\n",
       "       'PAIDOFF', 'PAIDOFF', 'PAIDOFF', 'PAIDOFF'], dtype=object)"
      ]
     },
     "execution_count": 113,
     "metadata": {},
     "output_type": "execute_result"
    }
   ],
   "source": [
    "# Predicting the yhat for the Test Set\n",
    "lr_yhat_rcv = lr_model_rcv.predict(X_test)\n",
    "lr_y_prob_rcv = lr_model_rcv.predict_proba(X_test)\n",
    "lr_yhat_rcv[0 : 10]"
   ]
  },
  {
   "cell_type": "code",
   "execution_count": 114,
   "metadata": {},
   "outputs": [
    {
     "name": "stdout",
     "output_type": "stream",
     "text": [
      "0.7714285714285715\n"
     ]
    }
   ],
   "source": [
    "print(lr_model_rcv.score(X_test, y_test))"
   ]
  },
  {
   "cell_type": "markdown",
   "metadata": {},
   "source": [
    "### Plotting the Confusion Matrix Using Results from RandomisedSearchCV"
   ]
  },
  {
   "cell_type": "code",
   "execution_count": 115,
   "metadata": {},
   "outputs": [
    {
     "name": "stdout",
     "output_type": "stream",
     "text": [
      "              precision    recall  f1-score   support\n",
      "\n",
      "  COLLECTION       0.33      0.07      0.11        15\n",
      "     PAIDOFF       0.79      0.96      0.87        55\n",
      "\n",
      "    accuracy                           0.77        70\n",
      "   macro avg       0.56      0.52      0.49        70\n",
      "weighted avg       0.69      0.77      0.71        70\n",
      "\n",
      "Confusion Matrix, without Normalization\n",
      "[[ 1 14]\n",
      " [ 2 53]]\n"
     ]
    },
    {
     "data": {
      "image/png": "[encoded data removed]",
      "text/plain": [
       "<Figure size 432x288 with 2 Axes>"
      ]
     },
     "metadata": {
      "needs_background": "light"
     },
     "output_type": "display_data"
    }
   ],
   "source": [
    "# Compute confusion matrix\n",
    "cnf_matrix_rcv = confusion_matrix(y_test, lr_yhat_rcv)\n",
    "np.set_printoptions(precision=2)\n",
    "\n",
    "print(classification_report(y_test, lr_yhat_rcv))\n",
    "\n",
    "# Plot non-normalized confusion matrix\n",
    "plt.figure()\n",
    "plot_confusion_matrix(cnf_matrix_rcv, classes=['COLLECTION','PAIDOff'], normalize= False,  title='Confusion Matrix')"
   ]
  },
  {
   "cell_type": "markdown",
   "metadata": {},
   "source": [
    "### Accuracy Evaluation Using Results from RandomisedSearchCV"
   ]
  },
  {
   "cell_type": "code",
   "execution_count": 116,
   "metadata": {},
   "outputs": [],
   "source": [
    "# Metric Scores as per the Best Values of Hypermeters Identified by the RandomisedSearchCV\n",
    "f1_train_lr_rcv = f1_score(y_train, lr_model_rcv.predict(X_train), average = 'weighted')\n",
    "f1_test_lr_rcv = f1_score(y_test, lr_yhat_rcv, average = 'weighted')\n",
    "\n",
    "jaccard_train_lr_rcv = jaccard_score(y_train, lr_model_rcv.predict(X_train), average = 'weighted')\n",
    "jaccard_test_lr_rcv = jaccard_score(y_test, lr_yhat_rcv, average = 'weighted')\n",
    "\n",
    "accuracy_train_lr_rcv = accuracy_score(y_train, lr_model_rcv.predict(X_train))\n",
    "accuracy_test_lr_rcv = accuracy_score(y_test, lr_yhat_rcv)\n",
    "\n",
    "logloss_train_lr_rcv = log_loss(y_train, lr_model_rcv.predict_proba(X_train))\n",
    "logloss_test_lr_rcv = log_loss(y_test, lr_y_prob_rcv)"
   ]
  },
  {
   "cell_type": "code",
   "execution_count": 117,
   "metadata": {},
   "outputs": [
    {
     "name": "stdout",
     "output_type": "stream",
     "text": [
      "Train Set F1 Score Using Results from RandomisedSearchCV:  0.6923668847394484\n",
      "Test Set F1 Score Using Results from RandomisedSearchCV:  0.7064793130366899\n",
      "\n",
      "\n",
      "Score Train Set Jaccard Score Using Results from RandomisedSearchCV:  0.5858570618296018\n",
      "Test Set Jaccard Score Using Results from RandomisedSearchCV:  0.6161247107538668\n",
      "\n",
      "\n",
      "Train Set Accuracy Score Using Results from RandomisedSearchCV:  0.7536231884057971\n",
      "Test Set Accuracy Score Using Results from RandomisedSearchCV:  0.7714285714285715\n",
      "\n",
      "\n",
      "Train Set Log Loss Score Using Results from RandomisedSearchCV:  0.42896185381476926\n",
      "Test Set Log Loss Score Using Results from RandomisedSearchCV:  0.4864784597291476\n"
     ]
    }
   ],
   "source": [
    "print(\"Train Set F1 Score Using Results from RandomisedSearchCV: \", f1_train_lr_rcv)\n",
    "print(\"Test Set F1 Score Using Results from RandomisedSearchCV: \", f1_test_lr_rcv)\n",
    "print(\"\\n\")\n",
    "print(\"Score Train Set Jaccard Score Using Results from RandomisedSearchCV: \", jaccard_train_lr_rcv)\n",
    "print(\"Test Set Jaccard Score Using Results from RandomisedSearchCV: \", jaccard_test_lr_rcv)\n",
    "print(\"\\n\")\n",
    "print(\"Train Set Accuracy Score Using Results from RandomisedSearchCV: \", accuracy_train_lr_rcv)\n",
    "print(\"Test Set Accuracy Score Using Results from RandomisedSearchCV: \", accuracy_test_lr_rcv)\n",
    "print(\"\\n\")\n",
    "print(\"Train Set Log Loss Score Using Results from RandomisedSearchCV: \", logloss_train_lr_rcv)\n",
    "print(\"Test Set Log Loss Score Using Results from RandomisedSearchCV: \", logloss_test_lr_rcv)"
   ]
  },
  {
   "cell_type": "markdown",
   "metadata": {},
   "source": [
    "## Option 3) Searching for the Best Value of solver Using 'for' Loop\n",
    "- When the number of hyperparameters are very less, say, a small range of numbers, then we can also use a simple 'for' loop"
   ]
  },
  {
   "cell_type": "code",
   "execution_count": 118,
   "metadata": {},
   "outputs": [],
   "source": [
    "solver_for = ['liblinear', 'newton-cg', 'lbfgs', 'sag', 'saga']\n",
    "f1_score_lr = []\n",
    "jaccard_score_lr = []\n",
    "logloss_score_lr = []\n",
    "\n",
    "for s in solver_for:\n",
    "    # Training the Model\n",
    "    lr_model = LogisticRegression(solver = s)\n",
    "    # Fitting the Model to the Training Set\n",
    "    lr_model.fit(X_train, y_train)\n",
    "\n",
    "    # Predicting the yhat for the Test Set\n",
    "    lr_yhat = lr_model.predict(X_test)\n",
    "    lr_y_prob = lr_model.predict_proba(X_test)\n",
    "\n",
    "    # Finding the Accuracy for Different Solvers\n",
    "    f1_score_lr.append(f1_score(y_test, lr_yhat, average = 'weighted'))\n",
    "    jaccard_score_lr.append(jaccard_score(y_test, lr_yhat, average = 'weighted'))\n",
    "    logloss_score_lr.append(log_loss(y_test, lr_y_prob))"
   ]
  },
  {
   "cell_type": "code",
   "execution_count": 119,
   "metadata": {},
   "outputs": [
    {
     "name": "stdout",
     "output_type": "stream",
     "text": [
      "Logistic Regression Model with Solver = 'liblinear' has an F1 Score of 0.685960591133005 \n",
      "Logistic Regression Model with Solver = 'newton-cg' has an F1 Score of 0.6953867388649997 \n",
      "Logistic Regression Model with Solver = 'lbfgs' has an F1 Score of 0.6953867388649997 \n",
      "Logistic Regression Model with Solver = 'sag' has an F1 Score of 0.6953867388649997 \n",
      "Logistic Regression Model with Solver = 'saga' has an F1 Score of 0.6953867388649997 \n"
     ]
    }
   ],
   "source": [
    "# Best Solver using F1 Score\n",
    "for s, f in zip(solver_for, f1_score_lr):\n",
    "    print(\"Logistic Regression Model with Solver = '{}' has an F1 Score of {} \".format(s, f))"
   ]
  },
  {
   "cell_type": "code",
   "execution_count": 120,
   "metadata": {},
   "outputs": [
    {
     "name": "stdout",
     "output_type": "stream",
     "text": [
      "Logistic Regression Model with Solver = 'liblinear' has an Jaccard Score of 0.5741023682200154 \n",
      "Logistic Regression Model with Solver = 'newton-cg' has an Jaccard Score of 0.5865846338535414 \n",
      "Logistic Regression Model with Solver = 'lbfgs' has an Jaccard Score of 0.5865846338535414 \n",
      "Logistic Regression Model with Solver = 'sag' has an Jaccard Score of 0.5865846338535414 \n",
      "Logistic Regression Model with Solver = 'saga' has an Jaccard Score of 0.5865846338535414 \n"
     ]
    }
   ],
   "source": [
    "# Best Solver using Jaccard Score\n",
    "for s, j in zip(solver_for, jaccard_score_lr):\n",
    "    print(\"Logistic Regression Model with Solver = '{}' has an Jaccard Score of {} \".format(s, j))"
   ]
  },
  {
   "cell_type": "code",
   "execution_count": 121,
   "metadata": {},
   "outputs": [
    {
     "name": "stdout",
     "output_type": "stream",
     "text": [
      "Logistic Regression Model with Solver = 'liblinear' has an Log Loss Score of 0.4999471617580585 \n",
      "Logistic Regression Model with Solver = 'newton-cg' has an Log Loss Score of 0.5001813800859983 \n",
      "Logistic Regression Model with Solver = 'lbfgs' has an Log Loss Score of 0.5001817646359402 \n",
      "Logistic Regression Model with Solver = 'sag' has an Log Loss Score of 0.5001513424451315 \n",
      "Logistic Regression Model with Solver = 'saga' has an Log Loss Score of 0.5001137115457055 \n"
     ]
    }
   ],
   "source": [
    "# Best Solver using Log Loss Score\n",
    "for s, l in zip(solver_for, logloss_score_lr):\n",
    "    print(\"Logistic Regression Model with Solver = '{}' has an Log Loss Score of {} \".format(s, l))"
   ]
  },
  {
   "cell_type": "markdown",
   "metadata": {},
   "source": [
    "### Creating a df to Check the Best Value of solver Using 'for' Loop"
   ]
  },
  {
   "cell_type": "code",
   "execution_count": 122,
   "metadata": {},
   "outputs": [
    {
     "data": {
      "text/html": [
       "<div>\n",
       "<style scoped>\n",
       "    .dataframe tbody tr th:only-of-type {\n",
       "        vertical-align: middle;\n",
       "    }\n",
       "\n",
       "    .dataframe tbody tr th {\n",
       "        vertical-align: top;\n",
       "    }\n",
       "\n",
       "    .dataframe thead th {\n",
       "        text-align: right;\n",
       "    }\n",
       "</style>\n",
       "<table border=\"1\" class=\"dataframe\">\n",
       "  <thead>\n",
       "    <tr style=\"text-align: right;\">\n",
       "      <th>Solver</th>\n",
       "      <th>liblinear</th>\n",
       "      <th>newton-cg</th>\n",
       "      <th>lbfgs</th>\n",
       "      <th>sag</th>\n",
       "      <th>saga</th>\n",
       "    </tr>\n",
       "  </thead>\n",
       "  <tbody>\n",
       "    <tr>\n",
       "      <th>F1 Score</th>\n",
       "      <td>0.685961</td>\n",
       "      <td>0.695387</td>\n",
       "      <td>0.695387</td>\n",
       "      <td>0.695387</td>\n",
       "      <td>0.695387</td>\n",
       "    </tr>\n",
       "    <tr>\n",
       "      <th>Jaccard Score</th>\n",
       "      <td>0.574102</td>\n",
       "      <td>0.586585</td>\n",
       "      <td>0.586585</td>\n",
       "      <td>0.586585</td>\n",
       "      <td>0.586585</td>\n",
       "    </tr>\n",
       "    <tr>\n",
       "      <th>Log Loss Score</th>\n",
       "      <td>0.499947</td>\n",
       "      <td>0.500181</td>\n",
       "      <td>0.500182</td>\n",
       "      <td>0.500151</td>\n",
       "      <td>0.500114</td>\n",
       "    </tr>\n",
       "  </tbody>\n",
       "</table>\n",
       "</div>"
      ],
      "text/plain": [
       "Solver          liblinear  newton-cg     lbfgs       sag      saga\n",
       "F1 Score         0.685961   0.695387  0.695387  0.695387  0.695387\n",
       "Jaccard Score    0.574102   0.586585  0.586585  0.586585  0.586585\n",
       "Log Loss Score   0.499947   0.500181  0.500182  0.500151  0.500114"
      ]
     },
     "execution_count": 122,
     "metadata": {},
     "output_type": "execute_result"
    }
   ],
   "source": [
    "result_lr = pd.DataFrame([f1_score_lr, jaccard_score_lr, logloss_score_lr], index = ['F1 Score', 'Jaccard Score', 'Log Loss Score'], columns = ['liblinear', 'newton-cg', 'lbfgs', 'sag', 'saga'])\n",
    "result_lr.columns.name = 'Solver'\n",
    "result_lr"
   ]
  },
  {
   "cell_type": "markdown",
   "metadata": {},
   "source": [
    "### Plotting the Solver V/s F1 Score Using 'for' Loop"
   ]
  },
  {
   "cell_type": "code",
   "execution_count": 123,
   "metadata": {},
   "outputs": [
    {
     "data": {
      "text/plain": [
       "Text(0, 0.5, 'F1 Score')"
      ]
     },
     "execution_count": 123,
     "metadata": {},
     "output_type": "execute_result"
    },
    {
     "data": {
      "image/png": "[encoded data removed]",
      "text/plain": [
       "<Figure size 432x288 with 1 Axes>"
      ]
     },
     "metadata": {
      "needs_background": "light"
     },
     "output_type": "display_data"
    }
   ],
   "source": [
    "plt.plot(solver_for, f1_score_lr)\n",
    "plt.xlabel('Solver')\n",
    "plt.ylabel('F1 Score')"
   ]
  },
  {
   "cell_type": "markdown",
   "metadata": {},
   "source": [
    "### Plotting the Solver V/s Jaccard Score Using 'for' Loop"
   ]
  },
  {
   "cell_type": "code",
   "execution_count": 124,
   "metadata": {},
   "outputs": [
    {
     "data": {
      "text/plain": [
       "Text(0, 0.5, 'Jaccard Score')"
      ]
     },
     "execution_count": 124,
     "metadata": {},
     "output_type": "execute_result"
    },
    {
     "data": {
      "image/png": "[encoded data removed]",
      "text/plain": [
       "<Figure size 432x288 with 1 Axes>"
      ]
     },
     "metadata": {
      "needs_background": "light"
     },
     "output_type": "display_data"
    }
   ],
   "source": [
    "plt.plot(solver_for, jaccard_score_lr)\n",
    "plt.xlabel('Solver')\n",
    "plt.ylabel('Jaccard Score')"
   ]
  },
  {
   "cell_type": "markdown",
   "metadata": {},
   "source": [
    "### Plotting the Solver V/s Log Loss Score Using 'for' Loop"
   ]
  },
  {
   "cell_type": "code",
   "execution_count": 125,
   "metadata": {},
   "outputs": [
    {
     "data": {
      "text/plain": [
       "Text(0, 0.5, 'Log Loss Score')"
      ]
     },
     "execution_count": 125,
     "metadata": {},
     "output_type": "execute_result"
    },
    {
     "data": {
      "image/png": "[encoded data removed]",
      "text/plain": [
       "<Figure size 432x288 with 1 Axes>"
      ]
     },
     "metadata": {
      "needs_background": "light"
     },
     "output_type": "display_data"
    }
   ],
   "source": [
    "plt.plot(solver_for, logloss_score_lr)\n",
    "plt.xlabel('Solver')\n",
    "plt.ylabel('Log Loss Score')"
   ]
  },
  {
   "cell_type": "markdown",
   "metadata": {},
   "source": [
    "### Best Solver as per the Charts Using 'for' Loop\n",
    "- The solvers, 'newton-cg', 'lbfgs', 'sag' and 'saga', all have equal F1 Scores as well as Jaccard Scores\n",
    "- While as per the Log Loss Score, 'liblinear' has the lowest score\n",
    "- Since, F1 Scores & Jaccard Scores are giving similar results, we will consider them for the Solver selection\n",
    "- Lets use the first solver, 'newton-cg', as per the F1 & Jaccard Scores for this Logistic Regression"
   ]
  },
  {
   "cell_type": "markdown",
   "metadata": {},
   "source": [
    "### Training the Model Using 'for' Loop"
   ]
  },
  {
   "cell_type": "code",
   "execution_count": 126,
   "metadata": {},
   "outputs": [
    {
     "data": {
      "text/plain": [
       "LogisticRegression(solver='newton-cg')"
      ]
     },
     "execution_count": 126,
     "metadata": {},
     "output_type": "execute_result"
    }
   ],
   "source": [
    "# Initiating Variables\n",
    "solver_for = ['liblinear', 'newton-cg', 'lbfgs', 'sag', 'saga']\n",
    "               \n",
    "# Support Vector Machine Model with the Best Kernel Function as per F1 Score\n",
    "lr_model_for = LogisticRegression(solver = solver_for[(f1_score_lr.index(max(f1_score_lr)))])\n",
    "\n",
    "# Fitting the Model to the Training Set\n",
    "lr_model_for.fit(X_train, y_train)\n",
    "\n",
    "lr_model_for"
   ]
  },
  {
   "cell_type": "code",
   "execution_count": 127,
   "metadata": {},
   "outputs": [
    {
     "data": {
      "text/plain": [
       "'newton-cg'"
      ]
     },
     "execution_count": 127,
     "metadata": {},
     "output_type": "execute_result"
    }
   ],
   "source": [
    "solver_for[(f1_score_lr.index(max(f1_score_lr)))]"
   ]
  },
  {
   "cell_type": "markdown",
   "metadata": {},
   "source": [
    "### Predictng the y_hat Using 'for' Loop"
   ]
  },
  {
   "cell_type": "code",
   "execution_count": 128,
   "metadata": {},
   "outputs": [
    {
     "data": {
      "text/plain": [
       "array(['COLLECTION', 'PAIDOFF', 'PAIDOFF', 'PAIDOFF', 'PAIDOFF',\n",
       "       'PAIDOFF', 'PAIDOFF', 'PAIDOFF', 'PAIDOFF', 'PAIDOFF'],\n",
       "      dtype=object)"
      ]
     },
     "execution_count": 128,
     "metadata": {},
     "output_type": "execute_result"
    }
   ],
   "source": [
    "lr_yhat_for = lr_model_for.predict(X_test)\n",
    "lr_y_prob_for = lr_model_for.predict_proba(X_test)\n",
    "lr_yhat_for[0 : 10]"
   ]
  },
  {
   "cell_type": "code",
   "execution_count": 129,
   "metadata": {},
   "outputs": [
    {
     "name": "stdout",
     "output_type": "stream",
     "text": [
      "0.7285714285714285\n"
     ]
    }
   ],
   "source": [
    "print(lr_model_for.score(X_test, y_test))"
   ]
  },
  {
   "cell_type": "markdown",
   "metadata": {},
   "source": [
    "### Plotting the Confusion Matrix Using 'for' Loop"
   ]
  },
  {
   "cell_type": "code",
   "execution_count": 130,
   "metadata": {},
   "outputs": [
    {
     "name": "stdout",
     "output_type": "stream",
     "text": [
      "              precision    recall  f1-score   support\n",
      "\n",
      "  COLLECTION       0.25      0.13      0.17        15\n",
      "     PAIDOFF       0.79      0.89      0.84        55\n",
      "\n",
      "    accuracy                           0.73        70\n",
      "   macro avg       0.52      0.51      0.51        70\n",
      "weighted avg       0.67      0.73      0.70        70\n",
      "\n",
      "Confusion Matrix, without Normalization\n",
      "[[ 2 13]\n",
      " [ 6 49]]\n"
     ]
    },
    {
     "data": {
      "image/png": "[encoded data removed]",
      "text/plain": [
       "<Figure size 432x288 with 2 Axes>"
      ]
     },
     "metadata": {
      "needs_background": "light"
     },
     "output_type": "display_data"
    }
   ],
   "source": [
    "# Compute confusion matrix\n",
    "cnf_matrix_for = confusion_matrix(y_test, lr_yhat_for)\n",
    "np.set_printoptions(precision=2)\n",
    "\n",
    "print(classification_report(y_test, lr_yhat_for))\n",
    "\n",
    "# Plot non-normalized confusion matrix\n",
    "plt.figure()\n",
    "plot_confusion_matrix(cnf_matrix_for, classes=['COLLECTION','PAIDOff'], normalize= False,  title='Confusion Matrix')"
   ]
  },
  {
   "cell_type": "markdown",
   "metadata": {},
   "source": [
    "### Accuracy Evaluation Using 'for' Loop\n",
    "\n",
    "In multilabel classification, **accuracy classification score** is a function that computes subset accuracy. This function is equal to the jaccard_score function. Essentially, it calculates how closely the actual labels and predicted labels are matched in the test set."
   ]
  },
  {
   "cell_type": "code",
   "execution_count": 131,
   "metadata": {},
   "outputs": [],
   "source": [
    "# Metric Scores as per the Best Values of Hypermeters Identified by the 'for' Loop\n",
    "f1_train_lr_for = f1_score(y_train, lr_model_for.predict(X_train), average = 'weighted')\n",
    "f1_test_lr_for = f1_score(y_test, lr_yhat_for, average = 'weighted')\n",
    "\n",
    "jaccard_train_lr_for = jaccard_score(y_train, lr_model_for.predict(X_train), average = 'weighted')\n",
    "jaccard_test_lr_for = jaccard_score(y_test, lr_yhat_for, average = 'weighted')\n",
    "\n",
    "accuracy_train_lr_for = accuracy_score(y_train, lr_model_for.predict(X_train))\n",
    "accuracy_test_lr_for = accuracy_score(y_test, lr_yhat_for)\n",
    "\n",
    "logloss_train_lr_for = log_loss(y_train, lr_model_for.predict_proba(X_train))\n",
    "logloss_test_lr_for = log_loss(y_test, lr_y_prob_for)"
   ]
  },
  {
   "cell_type": "code",
   "execution_count": 132,
   "metadata": {},
   "outputs": [
    {
     "name": "stdout",
     "output_type": "stream",
     "text": [
      "Train Set F1 Score Using Results from 'for' Loop:  0.747887639191987\n",
      "Test Set F1 Score Using Results from 'for' Loop:  0.6953867388649997\n",
      "\n",
      "\n",
      "Score Train Set Jaccard Score Using Results from 'for' Loop:  0.6280297351324338\n",
      "Test Set Jaccard Score Using Results from 'for' Loop:  0.5865846338535414\n",
      "\n",
      "\n",
      "Train Set Accuracy Score Using Results from 'for' Loop:  0.7717391304347826\n",
      "Test Set Accuracy Score Using Results from 'for' Loop:  0.7285714285714285\n",
      "\n",
      "\n",
      "Train Set Log Loss Score Using Results from 'for' Loop:  0.42108037479383287\n",
      "Test Set Log Loss Score Using Results from 'for' Loop:  0.5001813800859983\n"
     ]
    }
   ],
   "source": [
    "print(\"Train Set F1 Score Using Results from 'for' Loop: \", f1_train_lr_for)\n",
    "print(\"Test Set F1 Score Using Results from 'for' Loop: \", f1_test_lr_for)\n",
    "print(\"\\n\")\n",
    "print(\"Score Train Set Jaccard Score Using Results from 'for' Loop: \", jaccard_train_lr_for)\n",
    "print(\"Test Set Jaccard Score Using Results from 'for' Loop: \", jaccard_test_lr_for)\n",
    "print(\"\\n\")\n",
    "print(\"Train Set Accuracy Score Using Results from 'for' Loop: \", accuracy_train_lr_for)\n",
    "print(\"Test Set Accuracy Score Using Results from 'for' Loop: \", accuracy_test_lr_for)\n",
    "print(\"\\n\")\n",
    "print(\"Train Set Log Loss Score Using Results from 'for' Loop: \", logloss_train_lr_for)\n",
    "print(\"Test Set Log Loss Score Using Results from 'for' Loop: \", logloss_test_lr_for)"
   ]
  },
  {
   "cell_type": "markdown",
   "metadata": {},
   "source": [
    "## Accuracy Evaluation for Support Vector Machine"
   ]
  },
  {
   "cell_type": "markdown",
   "metadata": {},
   "source": [
    "### Creating a df to check the Accuracy Evaluation Using the 3 Search Options"
   ]
  },
  {
   "cell_type": "code",
   "execution_count": 133,
   "metadata": {},
   "outputs": [
    {
     "data": {
      "text/html": [
       "<div>\n",
       "<style scoped>\n",
       "    .dataframe tbody tr th:only-of-type {\n",
       "        vertical-align: middle;\n",
       "    }\n",
       "\n",
       "    .dataframe tbody tr th {\n",
       "        vertical-align: top;\n",
       "    }\n",
       "\n",
       "    .dataframe thead th {\n",
       "        text-align: right;\n",
       "    }\n",
       "</style>\n",
       "<table border=\"1\" class=\"dataframe\">\n",
       "  <thead>\n",
       "    <tr style=\"text-align: right;\">\n",
       "      <th>Logistic Regression Scores</th>\n",
       "      <th>GridSearchCV - Train</th>\n",
       "      <th>GridSearchCV - Test</th>\n",
       "      <th>RamdomisedSearchCV - Train</th>\n",
       "      <th>RamdomisedSearchCV - Test</th>\n",
       "      <th>For Loop - Train</th>\n",
       "      <th>For Loop - Test</th>\n",
       "    </tr>\n",
       "  </thead>\n",
       "  <tbody>\n",
       "    <tr>\n",
       "      <th>F1 Score</th>\n",
       "      <td>0.692367</td>\n",
       "      <td>0.706479</td>\n",
       "      <td>0.692367</td>\n",
       "      <td>0.706479</td>\n",
       "      <td>0.747888</td>\n",
       "      <td>0.695387</td>\n",
       "    </tr>\n",
       "    <tr>\n",
       "      <th>Jaccard Score</th>\n",
       "      <td>0.585857</td>\n",
       "      <td>0.616125</td>\n",
       "      <td>0.585857</td>\n",
       "      <td>0.616125</td>\n",
       "      <td>0.628030</td>\n",
       "      <td>0.586585</td>\n",
       "    </tr>\n",
       "    <tr>\n",
       "      <th>Accuracy Score</th>\n",
       "      <td>0.753623</td>\n",
       "      <td>0.771429</td>\n",
       "      <td>0.753623</td>\n",
       "      <td>0.771429</td>\n",
       "      <td>0.771739</td>\n",
       "      <td>0.728571</td>\n",
       "    </tr>\n",
       "    <tr>\n",
       "      <th>Log Loss Score</th>\n",
       "      <td>0.433642</td>\n",
       "      <td>0.482754</td>\n",
       "      <td>0.428962</td>\n",
       "      <td>0.486478</td>\n",
       "      <td>0.421080</td>\n",
       "      <td>0.500181</td>\n",
       "    </tr>\n",
       "  </tbody>\n",
       "</table>\n",
       "</div>"
      ],
      "text/plain": [
       "Logistic Regression Scores  GridSearchCV - Train  GridSearchCV - Test  \\\n",
       "F1 Score                                0.692367             0.706479   \n",
       "Jaccard Score                           0.585857             0.616125   \n",
       "Accuracy Score                          0.753623             0.771429   \n",
       "Log Loss Score                          0.433642             0.482754   \n",
       "\n",
       "Logistic Regression Scores  RamdomisedSearchCV - Train  \\\n",
       "F1 Score                                      0.692367   \n",
       "Jaccard Score                                 0.585857   \n",
       "Accuracy Score                                0.753623   \n",
       "Log Loss Score                                0.428962   \n",
       "\n",
       "Logistic Regression Scores  RamdomisedSearchCV - Test  For Loop - Train  \\\n",
       "F1 Score                                     0.706479          0.747888   \n",
       "Jaccard Score                                0.616125          0.628030   \n",
       "Accuracy Score                               0.771429          0.771739   \n",
       "Log Loss Score                               0.486478          0.421080   \n",
       "\n",
       "Logistic Regression Scores  For Loop - Test  \n",
       "F1 Score                           0.695387  \n",
       "Jaccard Score                      0.586585  \n",
       "Accuracy Score                     0.728571  \n",
       "Log Loss Score                     0.500181  "
      ]
     },
     "execution_count": 133,
     "metadata": {},
     "output_type": "execute_result"
    }
   ],
   "source": [
    "lr_scores = {'GridSearchCV - Train' : [f1_train_lr_grid, jaccard_train_lr_grid, accuracy_train_lr_grid, logloss_train_lr_grid],\n",
    "              'GridSearchCV - Test' : [f1_test_lr_grid, jaccard_test_lr_grid, accuracy_test_lr_grid, logloss_test_lr_grid],\n",
    "              'RamdomisedSearchCV - Train' : [f1_train_lr_rcv, jaccard_train_lr_rcv, accuracy_train_lr_rcv, logloss_train_lr_rcv],\n",
    "              'RamdomisedSearchCV - Test' : [f1_test_lr_rcv, jaccard_test_lr_rcv, accuracy_test_lr_rcv, logloss_test_lr_rcv],\n",
    "              'For Loop - Train' : [f1_train_lr_for, jaccard_train_lr_for, accuracy_train_lr_for, logloss_train_lr_for],\n",
    "              'For Loop - Test' : [f1_test_lr_for, jaccard_test_lr_for, accuracy_test_lr_for, logloss_test_lr_for]\n",
    "             }\n",
    "\n",
    "index = ['F1 Score', 'Jaccard Score', 'Accuracy Score', 'Log Loss Score']\n",
    "\n",
    "col = ['GridSearchCV - Train', 'GridSearchCV - Test', 'RamdomisedSearchCV - Train', 'RamdomisedSearchCV - Test', 'For Loop - Train', 'For Loop - Test']\n",
    "\n",
    "lr_hyperparameters_df = pd.DataFrame(lr_scores, index = index, columns = col)\n",
    "\n",
    "lr_hyperparameters_df.columns.name = 'Logistic Regression Scores'\n",
    "\n",
    "lr_hyperparameters_df"
   ]
  },
  {
   "cell_type": "markdown",
   "metadata": {},
   "source": [
    "## +++++++++++++++++++++++++++++++++++++++++++++++++++++++++++++++++++++"
   ]
  },
  {
   "cell_type": "markdown",
   "metadata": {},
   "source": [
    "# Model Evaluation using Test Set\n"
   ]
  },
  {
   "cell_type": "code",
   "execution_count": 134,
   "metadata": {},
   "outputs": [],
   "source": [
    "from sklearn.metrics import f1_score\n",
    "from sklearn.metrics import jaccard_score\n",
    "from sklearn.metrics import log_loss"
   ]
  },
  {
   "cell_type": "markdown",
   "metadata": {},
   "source": [
    "First, download and load the test set:\n"
   ]
  },
  {
   "cell_type": "code",
   "execution_count": 135,
   "metadata": {
    "scrolled": true
   },
   "outputs": [
    {
     "name": "stderr",
     "output_type": "stream",
     "text": [
      "--2021-05-14 15:01:59--  https://s3-api.us-geo.objectstorage.softlayer.net/cf-courses-data/CognitiveClass/ML0101ENv3/labs/loan_test.csv\n",
      "Resolving s3-api.us-geo.objectstorage.softlayer.net (s3-api.us-geo.objectstorage.softlayer.net)... 67.228.254.196\n",
      "Connecting to s3-api.us-geo.objectstorage.softlayer.net (s3-api.us-geo.objectstorage.softlayer.net)|67.228.254.196|:443... connected.\n",
      "HTTP request sent, awaiting response... 200 OK\n",
      "Length: 3642 (3.6K) [text/csv]\n",
      "Saving to: 'loan_test.csv'\n",
      "\n",
      "     0K ...                                                   100%  789M=0s\n",
      "\n",
      "2021-05-14 15:02:00 (789 MB/s) - 'loan_test.csv' saved [3642/3642]\n",
      "\n"
     ]
    }
   ],
   "source": [
    "!wget -O loan_test.csv https://s3-api.us-geo.objectstorage.softlayer.net/cf-courses-data/CognitiveClass/ML0101ENv3/labs/loan_test.csv"
   ]
  },
  {
   "cell_type": "markdown",
   "metadata": {
    "button": false,
    "new_sheet": false,
    "run_control": {
     "read_only": false
    }
   },
   "source": [
    "### Load Test Set for Evaluation\n"
   ]
  },
  {
   "cell_type": "code",
   "execution_count": 136,
   "metadata": {
    "button": false,
    "new_sheet": false,
    "run_control": {
     "read_only": false
    }
   },
   "outputs": [
    {
     "data": {
      "text/html": [
       "<div>\n",
       "<style scoped>\n",
       "    .dataframe tbody tr th:only-of-type {\n",
       "        vertical-align: middle;\n",
       "    }\n",
       "\n",
       "    .dataframe tbody tr th {\n",
       "        vertical-align: top;\n",
       "    }\n",
       "\n",
       "    .dataframe thead th {\n",
       "        text-align: right;\n",
       "    }\n",
       "</style>\n",
       "<table border=\"1\" class=\"dataframe\">\n",
       "  <thead>\n",
       "    <tr style=\"text-align: right;\">\n",
       "      <th></th>\n",
       "      <th>Unnamed: 0</th>\n",
       "      <th>Unnamed: 0.1</th>\n",
       "      <th>loan_status</th>\n",
       "      <th>Principal</th>\n",
       "      <th>terms</th>\n",
       "      <th>effective_date</th>\n",
       "      <th>due_date</th>\n",
       "      <th>age</th>\n",
       "      <th>education</th>\n",
       "      <th>Gender</th>\n",
       "    </tr>\n",
       "  </thead>\n",
       "  <tbody>\n",
       "    <tr>\n",
       "      <th>0</th>\n",
       "      <td>1</td>\n",
       "      <td>1</td>\n",
       "      <td>PAIDOFF</td>\n",
       "      <td>1000</td>\n",
       "      <td>30</td>\n",
       "      <td>9/8/2016</td>\n",
       "      <td>10/7/2016</td>\n",
       "      <td>50</td>\n",
       "      <td>Bechalor</td>\n",
       "      <td>female</td>\n",
       "    </tr>\n",
       "    <tr>\n",
       "      <th>1</th>\n",
       "      <td>5</td>\n",
       "      <td>5</td>\n",
       "      <td>PAIDOFF</td>\n",
       "      <td>300</td>\n",
       "      <td>7</td>\n",
       "      <td>9/9/2016</td>\n",
       "      <td>9/15/2016</td>\n",
       "      <td>35</td>\n",
       "      <td>Master or Above</td>\n",
       "      <td>male</td>\n",
       "    </tr>\n",
       "    <tr>\n",
       "      <th>2</th>\n",
       "      <td>21</td>\n",
       "      <td>21</td>\n",
       "      <td>PAIDOFF</td>\n",
       "      <td>1000</td>\n",
       "      <td>30</td>\n",
       "      <td>9/10/2016</td>\n",
       "      <td>10/9/2016</td>\n",
       "      <td>43</td>\n",
       "      <td>High School or Below</td>\n",
       "      <td>female</td>\n",
       "    </tr>\n",
       "    <tr>\n",
       "      <th>3</th>\n",
       "      <td>24</td>\n",
       "      <td>24</td>\n",
       "      <td>PAIDOFF</td>\n",
       "      <td>1000</td>\n",
       "      <td>30</td>\n",
       "      <td>9/10/2016</td>\n",
       "      <td>10/9/2016</td>\n",
       "      <td>26</td>\n",
       "      <td>college</td>\n",
       "      <td>male</td>\n",
       "    </tr>\n",
       "    <tr>\n",
       "      <th>4</th>\n",
       "      <td>35</td>\n",
       "      <td>35</td>\n",
       "      <td>PAIDOFF</td>\n",
       "      <td>800</td>\n",
       "      <td>15</td>\n",
       "      <td>9/11/2016</td>\n",
       "      <td>9/25/2016</td>\n",
       "      <td>29</td>\n",
       "      <td>Bechalor</td>\n",
       "      <td>male</td>\n",
       "    </tr>\n",
       "  </tbody>\n",
       "</table>\n",
       "</div>"
      ],
      "text/plain": [
       "   Unnamed: 0  Unnamed: 0.1 loan_status  Principal  terms effective_date  \\\n",
       "0           1             1     PAIDOFF       1000     30       9/8/2016   \n",
       "1           5             5     PAIDOFF        300      7       9/9/2016   \n",
       "2          21            21     PAIDOFF       1000     30      9/10/2016   \n",
       "3          24            24     PAIDOFF       1000     30      9/10/2016   \n",
       "4          35            35     PAIDOFF        800     15      9/11/2016   \n",
       "\n",
       "    due_date  age             education  Gender  \n",
       "0  10/7/2016   50              Bechalor  female  \n",
       "1  9/15/2016   35       Master or Above    male  \n",
       "2  10/9/2016   43  High School or Below  female  \n",
       "3  10/9/2016   26               college    male  \n",
       "4  9/25/2016   29              Bechalor    male  "
      ]
     },
     "execution_count": 136,
     "metadata": {},
     "output_type": "execute_result"
    }
   ],
   "source": [
    "test_df = pd.read_csv('loan_test.csv')\n",
    "test_df.head()"
   ]
  },
  {
   "cell_type": "markdown",
   "metadata": {},
   "source": [
    "## Preprocessing the Test Set"
   ]
  },
  {
   "cell_type": "markdown",
   "metadata": {},
   "source": [
    "### Convert to date time Object"
   ]
  },
  {
   "cell_type": "code",
   "execution_count": 137,
   "metadata": {},
   "outputs": [
    {
     "data": {
      "text/html": [
       "<div>\n",
       "<style scoped>\n",
       "    .dataframe tbody tr th:only-of-type {\n",
       "        vertical-align: middle;\n",
       "    }\n",
       "\n",
       "    .dataframe tbody tr th {\n",
       "        vertical-align: top;\n",
       "    }\n",
       "\n",
       "    .dataframe thead th {\n",
       "        text-align: right;\n",
       "    }\n",
       "</style>\n",
       "<table border=\"1\" class=\"dataframe\">\n",
       "  <thead>\n",
       "    <tr style=\"text-align: right;\">\n",
       "      <th></th>\n",
       "      <th>Unnamed: 0</th>\n",
       "      <th>Unnamed: 0.1</th>\n",
       "      <th>loan_status</th>\n",
       "      <th>Principal</th>\n",
       "      <th>terms</th>\n",
       "      <th>effective_date</th>\n",
       "      <th>due_date</th>\n",
       "      <th>age</th>\n",
       "      <th>education</th>\n",
       "      <th>Gender</th>\n",
       "    </tr>\n",
       "  </thead>\n",
       "  <tbody>\n",
       "    <tr>\n",
       "      <th>0</th>\n",
       "      <td>1</td>\n",
       "      <td>1</td>\n",
       "      <td>PAIDOFF</td>\n",
       "      <td>1000</td>\n",
       "      <td>30</td>\n",
       "      <td>2016-09-08</td>\n",
       "      <td>2016-10-07</td>\n",
       "      <td>50</td>\n",
       "      <td>Bechalor</td>\n",
       "      <td>female</td>\n",
       "    </tr>\n",
       "    <tr>\n",
       "      <th>1</th>\n",
       "      <td>5</td>\n",
       "      <td>5</td>\n",
       "      <td>PAIDOFF</td>\n",
       "      <td>300</td>\n",
       "      <td>7</td>\n",
       "      <td>2016-09-09</td>\n",
       "      <td>2016-09-15</td>\n",
       "      <td>35</td>\n",
       "      <td>Master or Above</td>\n",
       "      <td>male</td>\n",
       "    </tr>\n",
       "    <tr>\n",
       "      <th>2</th>\n",
       "      <td>21</td>\n",
       "      <td>21</td>\n",
       "      <td>PAIDOFF</td>\n",
       "      <td>1000</td>\n",
       "      <td>30</td>\n",
       "      <td>2016-09-10</td>\n",
       "      <td>2016-10-09</td>\n",
       "      <td>43</td>\n",
       "      <td>High School or Below</td>\n",
       "      <td>female</td>\n",
       "    </tr>\n",
       "    <tr>\n",
       "      <th>3</th>\n",
       "      <td>24</td>\n",
       "      <td>24</td>\n",
       "      <td>PAIDOFF</td>\n",
       "      <td>1000</td>\n",
       "      <td>30</td>\n",
       "      <td>2016-09-10</td>\n",
       "      <td>2016-10-09</td>\n",
       "      <td>26</td>\n",
       "      <td>college</td>\n",
       "      <td>male</td>\n",
       "    </tr>\n",
       "    <tr>\n",
       "      <th>4</th>\n",
       "      <td>35</td>\n",
       "      <td>35</td>\n",
       "      <td>PAIDOFF</td>\n",
       "      <td>800</td>\n",
       "      <td>15</td>\n",
       "      <td>2016-09-11</td>\n",
       "      <td>2016-09-25</td>\n",
       "      <td>29</td>\n",
       "      <td>Bechalor</td>\n",
       "      <td>male</td>\n",
       "    </tr>\n",
       "  </tbody>\n",
       "</table>\n",
       "</div>"
      ],
      "text/plain": [
       "   Unnamed: 0  Unnamed: 0.1 loan_status  Principal  terms effective_date  \\\n",
       "0           1             1     PAIDOFF       1000     30     2016-09-08   \n",
       "1           5             5     PAIDOFF        300      7     2016-09-09   \n",
       "2          21            21     PAIDOFF       1000     30     2016-09-10   \n",
       "3          24            24     PAIDOFF       1000     30     2016-09-10   \n",
       "4          35            35     PAIDOFF        800     15     2016-09-11   \n",
       "\n",
       "    due_date  age             education  Gender  \n",
       "0 2016-10-07   50              Bechalor  female  \n",
       "1 2016-09-15   35       Master or Above    male  \n",
       "2 2016-10-09   43  High School or Below  female  \n",
       "3 2016-10-09   26               college    male  \n",
       "4 2016-09-25   29              Bechalor    male  "
      ]
     },
     "execution_count": 137,
     "metadata": {},
     "output_type": "execute_result"
    }
   ],
   "source": [
    "test_df['due_date'] = pd.to_datetime(test_df['due_date'])\n",
    "test_df['effective_date'] = pd.to_datetime(test_df['effective_date'])\n",
    "test_df.head()"
   ]
  },
  {
   "cell_type": "code",
   "execution_count": 138,
   "metadata": {},
   "outputs": [
    {
     "data": {
      "text/plain": [
       "(54, 10)"
      ]
     },
     "execution_count": 138,
     "metadata": {},
     "output_type": "execute_result"
    }
   ],
   "source": [
    "test_df.shape"
   ]
  },
  {
   "cell_type": "code",
   "execution_count": 139,
   "metadata": {
    "scrolled": true
   },
   "outputs": [
    {
     "data": {
      "text/plain": [
       "PAIDOFF       40\n",
       "COLLECTION    14\n",
       "Name: loan_status, dtype: int64"
      ]
     },
     "execution_count": 139,
     "metadata": {},
     "output_type": "execute_result"
    }
   ],
   "source": [
    "test_df['loan_status'].value_counts()"
   ]
  },
  {
   "cell_type": "markdown",
   "metadata": {},
   "source": [
    "### Insert Additional Columns"
   ]
  },
  {
   "cell_type": "code",
   "execution_count": 140,
   "metadata": {},
   "outputs": [
    {
     "data": {
      "text/html": [
       "<div>\n",
       "<style scoped>\n",
       "    .dataframe tbody tr th:only-of-type {\n",
       "        vertical-align: middle;\n",
       "    }\n",
       "\n",
       "    .dataframe tbody tr th {\n",
       "        vertical-align: top;\n",
       "    }\n",
       "\n",
       "    .dataframe thead th {\n",
       "        text-align: right;\n",
       "    }\n",
       "</style>\n",
       "<table border=\"1\" class=\"dataframe\">\n",
       "  <thead>\n",
       "    <tr style=\"text-align: right;\">\n",
       "      <th></th>\n",
       "      <th>Unnamed: 0</th>\n",
       "      <th>Unnamed: 0.1</th>\n",
       "      <th>loan_status</th>\n",
       "      <th>Principal</th>\n",
       "      <th>terms</th>\n",
       "      <th>effective_date</th>\n",
       "      <th>due_date</th>\n",
       "      <th>age</th>\n",
       "      <th>education</th>\n",
       "      <th>Gender</th>\n",
       "      <th>dayofweek</th>\n",
       "      <th>weekend</th>\n",
       "    </tr>\n",
       "  </thead>\n",
       "  <tbody>\n",
       "    <tr>\n",
       "      <th>0</th>\n",
       "      <td>1</td>\n",
       "      <td>1</td>\n",
       "      <td>PAIDOFF</td>\n",
       "      <td>1000</td>\n",
       "      <td>30</td>\n",
       "      <td>2016-09-08</td>\n",
       "      <td>2016-10-07</td>\n",
       "      <td>50</td>\n",
       "      <td>Bechalor</td>\n",
       "      <td>female</td>\n",
       "      <td>3</td>\n",
       "      <td>0</td>\n",
       "    </tr>\n",
       "    <tr>\n",
       "      <th>1</th>\n",
       "      <td>5</td>\n",
       "      <td>5</td>\n",
       "      <td>PAIDOFF</td>\n",
       "      <td>300</td>\n",
       "      <td>7</td>\n",
       "      <td>2016-09-09</td>\n",
       "      <td>2016-09-15</td>\n",
       "      <td>35</td>\n",
       "      <td>Master or Above</td>\n",
       "      <td>male</td>\n",
       "      <td>4</td>\n",
       "      <td>1</td>\n",
       "    </tr>\n",
       "    <tr>\n",
       "      <th>2</th>\n",
       "      <td>21</td>\n",
       "      <td>21</td>\n",
       "      <td>PAIDOFF</td>\n",
       "      <td>1000</td>\n",
       "      <td>30</td>\n",
       "      <td>2016-09-10</td>\n",
       "      <td>2016-10-09</td>\n",
       "      <td>43</td>\n",
       "      <td>High School or Below</td>\n",
       "      <td>female</td>\n",
       "      <td>5</td>\n",
       "      <td>1</td>\n",
       "    </tr>\n",
       "    <tr>\n",
       "      <th>3</th>\n",
       "      <td>24</td>\n",
       "      <td>24</td>\n",
       "      <td>PAIDOFF</td>\n",
       "      <td>1000</td>\n",
       "      <td>30</td>\n",
       "      <td>2016-09-10</td>\n",
       "      <td>2016-10-09</td>\n",
       "      <td>26</td>\n",
       "      <td>college</td>\n",
       "      <td>male</td>\n",
       "      <td>5</td>\n",
       "      <td>1</td>\n",
       "    </tr>\n",
       "    <tr>\n",
       "      <th>4</th>\n",
       "      <td>35</td>\n",
       "      <td>35</td>\n",
       "      <td>PAIDOFF</td>\n",
       "      <td>800</td>\n",
       "      <td>15</td>\n",
       "      <td>2016-09-11</td>\n",
       "      <td>2016-09-25</td>\n",
       "      <td>29</td>\n",
       "      <td>Bechalor</td>\n",
       "      <td>male</td>\n",
       "      <td>6</td>\n",
       "      <td>1</td>\n",
       "    </tr>\n",
       "  </tbody>\n",
       "</table>\n",
       "</div>"
      ],
      "text/plain": [
       "   Unnamed: 0  Unnamed: 0.1 loan_status  Principal  terms effective_date  \\\n",
       "0           1             1     PAIDOFF       1000     30     2016-09-08   \n",
       "1           5             5     PAIDOFF        300      7     2016-09-09   \n",
       "2          21            21     PAIDOFF       1000     30     2016-09-10   \n",
       "3          24            24     PAIDOFF       1000     30     2016-09-10   \n",
       "4          35            35     PAIDOFF        800     15     2016-09-11   \n",
       "\n",
       "    due_date  age             education  Gender  dayofweek  weekend  \n",
       "0 2016-10-07   50              Bechalor  female          3        0  \n",
       "1 2016-09-15   35       Master or Above    male          4        1  \n",
       "2 2016-10-09   43  High School or Below  female          5        1  \n",
       "3 2016-10-09   26               college    male          5        1  \n",
       "4 2016-09-25   29              Bechalor    male          6        1  "
      ]
     },
     "execution_count": 140,
     "metadata": {},
     "output_type": "execute_result"
    }
   ],
   "source": [
    "test_df['dayofweek'] = test_df['effective_date'].dt.dayofweek\n",
    "test_df['weekend'] = test_df['dayofweek'].apply(lambda x : 1 if (x > 3) else 0)\n",
    "test_df.head()"
   ]
  },
  {
   "cell_type": "markdown",
   "metadata": {},
   "source": [
    "### Convert Categorical Features to Numerical Values"
   ]
  },
  {
   "cell_type": "code",
   "execution_count": 141,
   "metadata": {},
   "outputs": [
    {
     "data": {
      "text/plain": [
       "Gender  loan_status\n",
       "female  PAIDOFF         8\n",
       "        COLLECTION      3\n",
       "male    PAIDOFF        32\n",
       "        COLLECTION     11\n",
       "Name: loan_status, dtype: int64"
      ]
     },
     "execution_count": 141,
     "metadata": {},
     "output_type": "execute_result"
    }
   ],
   "source": [
    "test_df.groupby(['Gender'])['loan_status'].value_counts()"
   ]
  },
  {
   "cell_type": "code",
   "execution_count": 142,
   "metadata": {},
   "outputs": [
    {
     "data": {
      "text/html": [
       "<div>\n",
       "<style scoped>\n",
       "    .dataframe tbody tr th:only-of-type {\n",
       "        vertical-align: middle;\n",
       "    }\n",
       "\n",
       "    .dataframe tbody tr th {\n",
       "        vertical-align: top;\n",
       "    }\n",
       "\n",
       "    .dataframe thead th {\n",
       "        text-align: right;\n",
       "    }\n",
       "</style>\n",
       "<table border=\"1\" class=\"dataframe\">\n",
       "  <thead>\n",
       "    <tr style=\"text-align: right;\">\n",
       "      <th></th>\n",
       "      <th>Unnamed: 0</th>\n",
       "      <th>Unnamed: 0.1</th>\n",
       "      <th>loan_status</th>\n",
       "      <th>Principal</th>\n",
       "      <th>terms</th>\n",
       "      <th>effective_date</th>\n",
       "      <th>due_date</th>\n",
       "      <th>age</th>\n",
       "      <th>education</th>\n",
       "      <th>Gender</th>\n",
       "      <th>dayofweek</th>\n",
       "      <th>weekend</th>\n",
       "    </tr>\n",
       "  </thead>\n",
       "  <tbody>\n",
       "    <tr>\n",
       "      <th>0</th>\n",
       "      <td>1</td>\n",
       "      <td>1</td>\n",
       "      <td>PAIDOFF</td>\n",
       "      <td>1000</td>\n",
       "      <td>30</td>\n",
       "      <td>2016-09-08</td>\n",
       "      <td>2016-10-07</td>\n",
       "      <td>50</td>\n",
       "      <td>Bechalor</td>\n",
       "      <td>1</td>\n",
       "      <td>3</td>\n",
       "      <td>0</td>\n",
       "    </tr>\n",
       "    <tr>\n",
       "      <th>1</th>\n",
       "      <td>5</td>\n",
       "      <td>5</td>\n",
       "      <td>PAIDOFF</td>\n",
       "      <td>300</td>\n",
       "      <td>7</td>\n",
       "      <td>2016-09-09</td>\n",
       "      <td>2016-09-15</td>\n",
       "      <td>35</td>\n",
       "      <td>Master or Above</td>\n",
       "      <td>0</td>\n",
       "      <td>4</td>\n",
       "      <td>1</td>\n",
       "    </tr>\n",
       "    <tr>\n",
       "      <th>2</th>\n",
       "      <td>21</td>\n",
       "      <td>21</td>\n",
       "      <td>PAIDOFF</td>\n",
       "      <td>1000</td>\n",
       "      <td>30</td>\n",
       "      <td>2016-09-10</td>\n",
       "      <td>2016-10-09</td>\n",
       "      <td>43</td>\n",
       "      <td>High School or Below</td>\n",
       "      <td>1</td>\n",
       "      <td>5</td>\n",
       "      <td>1</td>\n",
       "    </tr>\n",
       "    <tr>\n",
       "      <th>3</th>\n",
       "      <td>24</td>\n",
       "      <td>24</td>\n",
       "      <td>PAIDOFF</td>\n",
       "      <td>1000</td>\n",
       "      <td>30</td>\n",
       "      <td>2016-09-10</td>\n",
       "      <td>2016-10-09</td>\n",
       "      <td>26</td>\n",
       "      <td>college</td>\n",
       "      <td>0</td>\n",
       "      <td>5</td>\n",
       "      <td>1</td>\n",
       "    </tr>\n",
       "    <tr>\n",
       "      <th>4</th>\n",
       "      <td>35</td>\n",
       "      <td>35</td>\n",
       "      <td>PAIDOFF</td>\n",
       "      <td>800</td>\n",
       "      <td>15</td>\n",
       "      <td>2016-09-11</td>\n",
       "      <td>2016-09-25</td>\n",
       "      <td>29</td>\n",
       "      <td>Bechalor</td>\n",
       "      <td>0</td>\n",
       "      <td>6</td>\n",
       "      <td>1</td>\n",
       "    </tr>\n",
       "  </tbody>\n",
       "</table>\n",
       "</div>"
      ],
      "text/plain": [
       "   Unnamed: 0  Unnamed: 0.1 loan_status  Principal  terms effective_date  \\\n",
       "0           1             1     PAIDOFF       1000     30     2016-09-08   \n",
       "1           5             5     PAIDOFF        300      7     2016-09-09   \n",
       "2          21            21     PAIDOFF       1000     30     2016-09-10   \n",
       "3          24            24     PAIDOFF       1000     30     2016-09-10   \n",
       "4          35            35     PAIDOFF        800     15     2016-09-11   \n",
       "\n",
       "    due_date  age             education  Gender  dayofweek  weekend  \n",
       "0 2016-10-07   50              Bechalor       1          3        0  \n",
       "1 2016-09-15   35       Master or Above       0          4        1  \n",
       "2 2016-10-09   43  High School or Below       1          5        1  \n",
       "3 2016-10-09   26               college       0          5        1  \n",
       "4 2016-09-25   29              Bechalor       0          6        1  "
      ]
     },
     "execution_count": 142,
     "metadata": {},
     "output_type": "execute_result"
    }
   ],
   "source": [
    "test_df['Gender'].replace(to_replace = ['male', 'female'], value = [0, 1], inplace = True)\n",
    "test_df.head()"
   ]
  },
  {
   "cell_type": "markdown",
   "metadata": {},
   "source": [
    "### Use One Hot Encoding Technique to Convert Categorical Variables to Binary Variables and Append Them to the Feature Data Frame\n"
   ]
  },
  {
   "cell_type": "code",
   "execution_count": 143,
   "metadata": {},
   "outputs": [
    {
     "data": {
      "text/plain": [
       "college                 23\n",
       "High School or Below    21\n",
       "Bechalor                 8\n",
       "Master or Above          2\n",
       "Name: education, dtype: int64"
      ]
     },
     "execution_count": 143,
     "metadata": {},
     "output_type": "execute_result"
    }
   ],
   "source": [
    "test_df['education'].value_counts()"
   ]
  },
  {
   "cell_type": "code",
   "execution_count": 144,
   "metadata": {
    "scrolled": true
   },
   "outputs": [
    {
     "data": {
      "text/plain": [
       "education             loan_status\n",
       "Bechalor              PAIDOFF         8\n",
       "High School or Below  PAIDOFF        11\n",
       "                      COLLECTION     10\n",
       "Master or Above       PAIDOFF         2\n",
       "college               PAIDOFF        19\n",
       "                      COLLECTION      4\n",
       "Name: loan_status, dtype: int64"
      ]
     },
     "execution_count": 144,
     "metadata": {},
     "output_type": "execute_result"
    }
   ],
   "source": [
    "test_df.groupby(['education'])['loan_status'].value_counts()"
   ]
  },
  {
   "cell_type": "code",
   "execution_count": 145,
   "metadata": {},
   "outputs": [
    {
     "data": {
      "text/html": [
       "<div>\n",
       "<style scoped>\n",
       "    .dataframe tbody tr th:only-of-type {\n",
       "        vertical-align: middle;\n",
       "    }\n",
       "\n",
       "    .dataframe tbody tr th {\n",
       "        vertical-align: top;\n",
       "    }\n",
       "\n",
       "    .dataframe thead th {\n",
       "        text-align: right;\n",
       "    }\n",
       "</style>\n",
       "<table border=\"1\" class=\"dataframe\">\n",
       "  <thead>\n",
       "    <tr style=\"text-align: right;\">\n",
       "      <th></th>\n",
       "      <th>Principal</th>\n",
       "      <th>terms</th>\n",
       "      <th>age</th>\n",
       "      <th>Gender</th>\n",
       "      <th>weekend</th>\n",
       "      <th>Bechalor</th>\n",
       "      <th>High School or Below</th>\n",
       "      <th>college</th>\n",
       "    </tr>\n",
       "  </thead>\n",
       "  <tbody>\n",
       "    <tr>\n",
       "      <th>0</th>\n",
       "      <td>1000</td>\n",
       "      <td>30</td>\n",
       "      <td>50</td>\n",
       "      <td>1</td>\n",
       "      <td>0</td>\n",
       "      <td>1</td>\n",
       "      <td>0</td>\n",
       "      <td>0</td>\n",
       "    </tr>\n",
       "    <tr>\n",
       "      <th>1</th>\n",
       "      <td>300</td>\n",
       "      <td>7</td>\n",
       "      <td>35</td>\n",
       "      <td>0</td>\n",
       "      <td>1</td>\n",
       "      <td>0</td>\n",
       "      <td>0</td>\n",
       "      <td>0</td>\n",
       "    </tr>\n",
       "    <tr>\n",
       "      <th>2</th>\n",
       "      <td>1000</td>\n",
       "      <td>30</td>\n",
       "      <td>43</td>\n",
       "      <td>1</td>\n",
       "      <td>1</td>\n",
       "      <td>0</td>\n",
       "      <td>1</td>\n",
       "      <td>0</td>\n",
       "    </tr>\n",
       "    <tr>\n",
       "      <th>3</th>\n",
       "      <td>1000</td>\n",
       "      <td>30</td>\n",
       "      <td>26</td>\n",
       "      <td>0</td>\n",
       "      <td>1</td>\n",
       "      <td>0</td>\n",
       "      <td>0</td>\n",
       "      <td>1</td>\n",
       "    </tr>\n",
       "    <tr>\n",
       "      <th>4</th>\n",
       "      <td>800</td>\n",
       "      <td>15</td>\n",
       "      <td>29</td>\n",
       "      <td>0</td>\n",
       "      <td>1</td>\n",
       "      <td>1</td>\n",
       "      <td>0</td>\n",
       "      <td>0</td>\n",
       "    </tr>\n",
       "  </tbody>\n",
       "</table>\n",
       "</div>"
      ],
      "text/plain": [
       "   Principal  terms  age  Gender  weekend  Bechalor  High School or Below  \\\n",
       "0       1000     30   50       1        0         1                     0   \n",
       "1        300      7   35       0        1         0                     0   \n",
       "2       1000     30   43       1        1         0                     1   \n",
       "3       1000     30   26       0        1         0                     0   \n",
       "4        800     15   29       0        1         1                     0   \n",
       "\n",
       "   college  \n",
       "0        0  \n",
       "1        0  \n",
       "2        0  \n",
       "3        1  \n",
       "4        0  "
      ]
     },
     "execution_count": 145,
     "metadata": {},
     "output_type": "execute_result"
    }
   ],
   "source": [
    "test_Feature = test_df[['Principal','terms','age','Gender','weekend']]\n",
    "test_Feature = pd.concat([test_Feature, pd.get_dummies(test_df['education'])], axis = 1)\n",
    "test_Feature.drop(['Master or Above'], axis = 1, inplace = True)\n",
    "test_Feature.head()"
   ]
  },
  {
   "cell_type": "markdown",
   "metadata": {},
   "source": [
    "### Normalise Data"
   ]
  },
  {
   "cell_type": "code",
   "execution_count": 146,
   "metadata": {},
   "outputs": [
    {
     "data": {
      "text/plain": [
       "array([[ 0.49,  0.93,  3.06,  1.98, -1.3 ,  2.4 , -0.8 , -0.86],\n",
       "       [-3.56, -1.7 ,  0.53, -0.51,  0.77, -0.42, -0.8 , -0.86],\n",
       "       [ 0.49,  0.93,  1.88,  1.98,  0.77, -0.42,  1.25, -0.86],\n",
       "       [ 0.49,  0.93, -0.98, -0.51,  0.77, -0.42, -0.8 ,  1.16],\n",
       "       [-0.67, -0.79, -0.48, -0.51,  0.77,  2.4 , -0.8 , -0.86]])"
      ]
     },
     "execution_count": 146,
     "metadata": {},
     "output_type": "execute_result"
    }
   ],
   "source": [
    "test_X = preprocessing.StandardScaler().fit(test_Feature).transform(test_Feature)\n",
    "test_X[0 : 5]"
   ]
  },
  {
   "cell_type": "code",
   "execution_count": 147,
   "metadata": {},
   "outputs": [
    {
     "data": {
      "text/plain": [
       "array(['PAIDOFF', 'PAIDOFF', 'PAIDOFF', 'PAIDOFF', 'PAIDOFF'],\n",
       "      dtype=object)"
      ]
     },
     "execution_count": 147,
     "metadata": {},
     "output_type": "execute_result"
    }
   ],
   "source": [
    "test_y = test_df['loan_status'].values\n",
    "test_y[0:5]"
   ]
  },
  {
   "cell_type": "markdown",
   "metadata": {},
   "source": [
    "## K Nearest Neighbor"
   ]
  },
  {
   "cell_type": "code",
   "execution_count": 148,
   "metadata": {},
   "outputs": [
    {
     "data": {
      "text/plain": [
       "KNeighborsClassifier(n_neighbors=7)"
      ]
     },
     "execution_count": 148,
     "metadata": {},
     "output_type": "execute_result"
    }
   ],
   "source": [
    "knn"
   ]
  },
  {
   "cell_type": "markdown",
   "metadata": {},
   "source": [
    "### Predicting the y_hat for the Test Set"
   ]
  },
  {
   "cell_type": "code",
   "execution_count": 149,
   "metadata": {},
   "outputs": [
    {
     "data": {
      "text/plain": [
       "array(['PAIDOFF', 'PAIDOFF', 'COLLECTION', 'COLLECTION', 'COLLECTION',\n",
       "       'COLLECTION', 'PAIDOFF', 'PAIDOFF', 'PAIDOFF', 'COLLECTION'],\n",
       "      dtype=object)"
      ]
     },
     "execution_count": 149,
     "metadata": {},
     "output_type": "execute_result"
    }
   ],
   "source": [
    "knn_yhat = knn.predict(test_X)\n",
    "knn_yhat[0 : 10]"
   ]
  },
  {
   "cell_type": "markdown",
   "metadata": {},
   "source": [
    "### Finding the Accuracy Scores"
   ]
  },
  {
   "cell_type": "code",
   "execution_count": 150,
   "metadata": {},
   "outputs": [
    {
     "name": "stdout",
     "output_type": "stream",
     "text": [
      "K Nearest Neighbor Jaccard Score for the Test Set:  0.5102564102564102\n"
     ]
    }
   ],
   "source": [
    "jaccard_score_knn = jaccard_score(test_y, knn_yhat, average = 'weighted')\n",
    "print(\"K Nearest Neighbor Jaccard Score for the Test Set: \", jaccard_score_knn)"
   ]
  },
  {
   "cell_type": "code",
   "execution_count": 151,
   "metadata": {},
   "outputs": [
    {
     "name": "stdout",
     "output_type": "stream",
     "text": [
      "K Nearest Neighbor F1 Score:  0.6328400281888654\n"
     ]
    }
   ],
   "source": [
    "f1_score_knn = f1_score(test_y, knn_yhat, average = 'weighted')\n",
    "print(\"K Nearest Neighbor F1 Score: \", f1_score_knn)"
   ]
  },
  {
   "cell_type": "markdown",
   "metadata": {},
   "source": [
    "## Decision Tree"
   ]
  },
  {
   "cell_type": "code",
   "execution_count": 152,
   "metadata": {},
   "outputs": [
    {
     "data": {
      "text/plain": [
       "DecisionTreeClassifier(max_depth=15)"
      ]
     },
     "execution_count": 152,
     "metadata": {},
     "output_type": "execute_result"
    }
   ],
   "source": [
    "dt"
   ]
  },
  {
   "cell_type": "markdown",
   "metadata": {},
   "source": [
    "### Predicting the y_hat for the Test Set"
   ]
  },
  {
   "cell_type": "code",
   "execution_count": 153,
   "metadata": {},
   "outputs": [
    {
     "data": {
      "text/plain": [
       "array(['PAIDOFF', 'PAIDOFF', 'PAIDOFF', 'COLLECTION', 'COLLECTION',\n",
       "       'COLLECTION', 'PAIDOFF', 'COLLECTION', 'COLLECTION', 'COLLECTION'],\n",
       "      dtype=object)"
      ]
     },
     "execution_count": 153,
     "metadata": {},
     "output_type": "execute_result"
    }
   ],
   "source": [
    "dt_yhat = dt.predict(test_X)\n",
    "dt_yhat[0 : 10]"
   ]
  },
  {
   "cell_type": "markdown",
   "metadata": {},
   "source": [
    "### Finding the Accuracy Scores"
   ]
  },
  {
   "cell_type": "code",
   "execution_count": 154,
   "metadata": {},
   "outputs": [
    {
     "name": "stdout",
     "output_type": "stream",
     "text": [
      "Decision Tree Jaccard Score for the Test Set:  0.5484305227213029\n"
     ]
    }
   ],
   "source": [
    "jaccard_score_dt = jaccard_score(test_y, dt_yhat, average = 'weighted')\n",
    "print(\"Decision Tree Jaccard Score for the Test Set: \", jaccard_score_dt)"
   ]
  },
  {
   "cell_type": "code",
   "execution_count": 155,
   "metadata": {},
   "outputs": [
    {
     "name": "stdout",
     "output_type": "stream",
     "text": [
      "Decision Tree F1 Score:  0.6942854039628232\n"
     ]
    }
   ],
   "source": [
    "f1_score_dt = f1_score(test_y, dt_yhat, average = 'weighted')\n",
    "print(\"Decision Tree F1 Score: \", f1_score_dt)"
   ]
  },
  {
   "cell_type": "markdown",
   "metadata": {},
   "source": [
    "## Support Vector Machine"
   ]
  },
  {
   "cell_type": "code",
   "execution_count": 156,
   "metadata": {},
   "outputs": [
    {
     "data": {
      "text/plain": [
       "{'kernel': 'rbf', 'gamma': 'scale', 'degree': 1, 'C': 0.223}"
      ]
     },
     "execution_count": 156,
     "metadata": {},
     "output_type": "execute_result"
    }
   ],
   "source": [
    "random_svc.best_params_"
   ]
  },
  {
   "cell_type": "markdown",
   "metadata": {},
   "source": [
    "### Predicting the y_hat for the Test Set"
   ]
  },
  {
   "cell_type": "code",
   "execution_count": 157,
   "metadata": {},
   "outputs": [
    {
     "data": {
      "text/plain": [
       "array(['PAIDOFF', 'PAIDOFF', 'PAIDOFF', 'PAIDOFF', 'PAIDOFF', 'PAIDOFF',\n",
       "       'PAIDOFF', 'PAIDOFF', 'PAIDOFF', 'PAIDOFF'], dtype=object)"
      ]
     },
     "execution_count": 157,
     "metadata": {},
     "output_type": "execute_result"
    }
   ],
   "source": [
    "svc_yhat = random_svc.predict(test_X)\n",
    "svc_yhat[0 : 10]"
   ]
  },
  {
   "cell_type": "markdown",
   "metadata": {},
   "source": [
    "### Finding the Accuracy Scores"
   ]
  },
  {
   "cell_type": "code",
   "execution_count": 158,
   "metadata": {},
   "outputs": [
    {
     "name": "stdout",
     "output_type": "stream",
     "text": [
      "Support Vector Machine Jaccard Score for the Test Set:  0.5486968449931412\n"
     ]
    }
   ],
   "source": [
    "jaccard_score_svc = jaccard_score(test_y, svc_yhat, average = 'weighted')\n",
    "print(\"Support Vector Machine Jaccard Score for the Test Set: \", jaccard_score_svc)"
   ]
  },
  {
   "cell_type": "code",
   "execution_count": 159,
   "metadata": {},
   "outputs": [
    {
     "name": "stdout",
     "output_type": "stream",
     "text": [
      "Support Vector Machine F1 Score:  0.6304176516942475\n"
     ]
    }
   ],
   "source": [
    "f1_score_svc = f1_score(test_y, svc_yhat, average = 'weighted')\n",
    "print(\"Support Vector Machine F1 Score: \", f1_score_svc)"
   ]
  },
  {
   "cell_type": "markdown",
   "metadata": {},
   "source": [
    "## Logistic Regression"
   ]
  },
  {
   "cell_type": "code",
   "execution_count": 160,
   "metadata": {},
   "outputs": [
    {
     "data": {
      "text/plain": [
       "{'solver': 'liblinear', 'penalty': 'l1', 'C': 0.276}"
      ]
     },
     "execution_count": 160,
     "metadata": {},
     "output_type": "execute_result"
    }
   ],
   "source": [
    "random_lr.best_params_"
   ]
  },
  {
   "cell_type": "markdown",
   "metadata": {},
   "source": [
    "### Predicting the y_hat for the Test Set"
   ]
  },
  {
   "cell_type": "code",
   "execution_count": 161,
   "metadata": {},
   "outputs": [
    {
     "data": {
      "text/plain": [
       "array(['PAIDOFF', 'PAIDOFF', 'PAIDOFF', 'PAIDOFF', 'PAIDOFF', 'PAIDOFF',\n",
       "       'PAIDOFF', 'PAIDOFF', 'PAIDOFF', 'PAIDOFF'], dtype=object)"
      ]
     },
     "execution_count": 161,
     "metadata": {},
     "output_type": "execute_result"
    }
   ],
   "source": [
    "lr_yhat = random_lr.predict(test_X)\n",
    "lr_y_prob = random_lr.predict_proba(test_X)\n",
    "lr_yhat[0 : 10]"
   ]
  },
  {
   "cell_type": "markdown",
   "metadata": {},
   "source": [
    "### Finding the Accuracy Scores"
   ]
  },
  {
   "cell_type": "code",
   "execution_count": 162,
   "metadata": {},
   "outputs": [
    {
     "name": "stdout",
     "output_type": "stream",
     "text": [
      "Logistice Regression Jaccard Score for the Test Set:  0.5775681341719078\n"
     ]
    }
   ],
   "source": [
    "jaccard_score_lr = jaccard_score(test_y, lr_yhat, average = 'weighted')\n",
    "print(\"Logistice Regression Jaccard Score for the Test Set: \", jaccard_score_lr)"
   ]
  },
  {
   "cell_type": "code",
   "execution_count": 163,
   "metadata": {},
   "outputs": [
    {
     "name": "stdout",
     "output_type": "stream",
     "text": [
      "Logistice Regression F1 Score for the Test Set:  0.6717642373556352\n"
     ]
    }
   ],
   "source": [
    "f1_score_lr = f1_score(test_y, lr_yhat, average = 'weighted')\n",
    "print(\"Logistice Regression F1 Score for the Test Set: \", f1_score_lr)"
   ]
  },
  {
   "cell_type": "code",
   "execution_count": 164,
   "metadata": {},
   "outputs": [
    {
     "name": "stdout",
     "output_type": "stream",
     "text": [
      "Logistice Regression Log Loss Score for the Test Set:  0.4788442232422938\n"
     ]
    }
   ],
   "source": [
    "logloss_score_lr = log_loss(test_y, lr_y_prob)\n",
    "print(\"Logistice Regression Log Loss Score for the Test Set: \", logloss_score_lr)"
   ]
  },
  {
   "cell_type": "code",
   "execution_count": 165,
   "metadata": {},
   "outputs": [],
   "source": [
    "Jaccard_Score = [jaccard_score_knn, jaccard_score_dt, jaccard_score_svc, jaccard_score_lr]"
   ]
  },
  {
   "cell_type": "code",
   "execution_count": 166,
   "metadata": {},
   "outputs": [],
   "source": [
    "F1_Score = [f1_score_knn, f1_score_dt, f1_score_svc, f1_score_lr]"
   ]
  },
  {
   "cell_type": "code",
   "execution_count": 167,
   "metadata": {},
   "outputs": [],
   "source": [
    "LogLoss_Score = ['NA', 'NA', 'NA', logloss_score_lr]"
   ]
  },
  {
   "cell_type": "code",
   "execution_count": 168,
   "metadata": {},
   "outputs": [],
   "source": [
    "accuracy_scores = {\n",
    "                    'Jaccard' : Jaccard_Score,\n",
    "                    'F1-score' : F1_Score,\n",
    "                    'LogLoss' : LogLoss_Score\n",
    "                    }"
   ]
  },
  {
   "cell_type": "code",
   "execution_count": 169,
   "metadata": {},
   "outputs": [],
   "source": [
    "index = ['KNN', 'Decision Tree', 'SVM', 'LogisticRegression']\n",
    "columns = ['Jaccard', 'F1-score', 'LogLoss']"
   ]
  },
  {
   "cell_type": "code",
   "execution_count": 170,
   "metadata": {},
   "outputs": [
    {
     "data": {
      "text/html": [
       "<div>\n",
       "<style scoped>\n",
       "    .dataframe tbody tr th:only-of-type {\n",
       "        vertical-align: middle;\n",
       "    }\n",
       "\n",
       "    .dataframe tbody tr th {\n",
       "        vertical-align: top;\n",
       "    }\n",
       "\n",
       "    .dataframe thead th {\n",
       "        text-align: right;\n",
       "    }\n",
       "</style>\n",
       "<table border=\"1\" class=\"dataframe\">\n",
       "  <thead>\n",
       "    <tr style=\"text-align: right;\">\n",
       "      <th>Algorithm</th>\n",
       "      <th>Jaccard</th>\n",
       "      <th>F1-score</th>\n",
       "      <th>LogLoss</th>\n",
       "    </tr>\n",
       "  </thead>\n",
       "  <tbody>\n",
       "    <tr>\n",
       "      <th>KNN</th>\n",
       "      <td>0.510256</td>\n",
       "      <td>0.632840</td>\n",
       "      <td>NA</td>\n",
       "    </tr>\n",
       "    <tr>\n",
       "      <th>Decision Tree</th>\n",
       "      <td>0.548431</td>\n",
       "      <td>0.694285</td>\n",
       "      <td>NA</td>\n",
       "    </tr>\n",
       "    <tr>\n",
       "      <th>SVM</th>\n",
       "      <td>0.548697</td>\n",
       "      <td>0.630418</td>\n",
       "      <td>NA</td>\n",
       "    </tr>\n",
       "    <tr>\n",
       "      <th>LogisticRegression</th>\n",
       "      <td>0.577568</td>\n",
       "      <td>0.671764</td>\n",
       "      <td>0.478844</td>\n",
       "    </tr>\n",
       "  </tbody>\n",
       "</table>\n",
       "</div>"
      ],
      "text/plain": [
       "Algorithm            Jaccard  F1-score   LogLoss\n",
       "KNN                 0.510256  0.632840        NA\n",
       "Decision Tree       0.548431  0.694285        NA\n",
       "SVM                 0.548697  0.630418        NA\n",
       "LogisticRegression  0.577568  0.671764  0.478844"
      ]
     },
     "execution_count": 170,
     "metadata": {},
     "output_type": "execute_result"
    }
   ],
   "source": [
    "accuracy_df = pd.DataFrame(accuracy_scores, index = index, columns = columns)\n",
    "accuracy_df.columns.name = 'Algorithm'\n",
    "accuracy_df"
   ]
  },
  {
   "cell_type": "markdown",
   "metadata": {},
   "source": [
    "# Report\n",
    "\n",
    "You should be able to report the accuracy of the built model using different evaluation metrics:\n"
   ]
  },
  {
   "cell_type": "markdown",
   "metadata": {},
   "source": [
    "| Algorithm          | Jaccard | F1-score | LogLoss |\n",
    "| ------------------ | ------- | -------- | ------- |\n",
    "| KNN                | ?       | ?        | NA      |\n",
    "| Decision Tree      | ?       | ?        | NA      |\n",
    "| SVM                | ?       | ?        | NA      |\n",
    "| LogisticRegression | ?       | ?        | ?       |\n"
   ]
  },
  {
   "cell_type": "markdown",
   "metadata": {
    "button": false,
    "new_sheet": false,
    "run_control": {
     "read_only": false
    }
   },
   "source": [
    "<h2>Want to learn more?</h2>\n",
    "\n",
    "IBM SPSS Modeler is a comprehensive analytics platform that has many machine learning algorithms. It has been designed to bring predictive intelligence to decisions made by individuals, by groups, by systems – by your enterprise as a whole. A free trial is available through this course, available here: <a href=\"http://cocl.us/ML0101EN-SPSSModeler\">SPSS Modeler</a>\n",
    "\n",
    "Also, you can use Watson Studio to run these notebooks faster with bigger datasets. Watson Studio is IBM's leading cloud solution for data scientists, built by data scientists. With Jupyter notebooks, RStudio, Apache Spark and popular libraries pre-packaged in the cloud, Watson Studio enables data scientists to collaborate on their projects without having to install anything. Join the fast-growing community of Watson Studio users today with a free account at <a href=\"https://cocl.us/ML0101EN_DSX\">Watson Studio</a>\n",
    "\n",
    "<h3>Thanks for completing this lesson!</h3>\n",
    "\n",
    "<h4>Author:  <a href=\"https://ca.linkedin.com/in/saeedaghabozorgi\">Saeed Aghabozorgi</a></h4>\n",
    "<p><a href=\"https://ca.linkedin.com/in/saeedaghabozorgi\">Saeed Aghabozorgi</a>, PhD is a Data Scientist in IBM with a track record of developing enterprise level applications that substantially increases clients’ ability to turn data into actionable knowledge. He is a researcher in data mining field and expert in developing advanced analytic methods like machine learning and statistical modelling on large datasets.</p>\n",
    "\n",
    "<hr>\n",
    "\n",
    "## Change Log\n",
    "\n",
    "| Date (YYYY-MM-DD) | Version | Changed By    | Change Description                                                             |\n",
    "| ----------------- | ------- | ------------- | ------------------------------------------------------------------------------ |\n",
    "| 2020-10-27        | 2.1     | Lakshmi Holla | Made changes in import statement due to updates in version of  sklearn library |\n",
    "| 2020-08-27        | 2.0     | Malika Singla | Added lab to GitLab                                                            |\n",
    "\n",
    "<hr>\n",
    "\n",
    "## <h3 align=\"center\"> © IBM Corporation 2020. All rights reserved. <h3/>\n",
    "\n",
    "<p>\n"
   ]
  }
 ],
 "metadata": {
  "kernelspec": {
   "display_name": "Python 3",
   "language": "python",
   "name": "python3"
  },
  "language_info": {
   "codemirror_mode": {
    "name": "ipython",
    "version": 3
   },
   "file_extension": ".py",
   "mimetype": "text/x-python",
   "name": "python",
   "nbconvert_exporter": "python",
   "pygments_lexer": "ipython3",
   "version": "3.8.8"
  }
 },
 "nbformat": 4,
 "nbformat_minor": 2
}
